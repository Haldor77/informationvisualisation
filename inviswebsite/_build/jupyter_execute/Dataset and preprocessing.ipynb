{
 "cells": [
  {
   "cell_type": "markdown",
   "id": "ad30e801",
   "metadata": {},
   "source": [
    "# Dataset and Preprocessing\n",
    "\n",
    "At first, our group agreed that two members would identify at least one dataset with enough variables to yield multiple analytical perspectives. During our first meeting, we looked through several sources and discussed potential correlations. Eventually, we selected the **Our World in Data CO₂ Emissions** and **WHO Healthy Life Expectancy (HALE)** datasets, given the years **2000 through 2021**, because they align perfectly with our main research question:\n",
    "\n",
    "> **How do national CO₂ emissions relate to healthy life expectancy across countries and over time?**\n",
    "\n",
    "These datasets provide a complementary view of environmental impact vs. population health and include consistent identifiers (`iso_code`, `country`, `year`) for precise and reliable merging."
   ]
  },
  {
   "cell_type": "markdown",
   "id": "17edd9bd",
   "metadata": {},
   "source": [
    "## Cleaning\n",
    "\n",
    "Both OWID and WHO datasets are going under periodic schema changes (column renames, extra metadata). We used a **two-phase cleaning process**:\n",
    "\n",
    "1. **Rename & restructure**  \n",
    "   - Standardize column names:\n",
    "     - `Country` → `country`\n",
    "     - `Year` → `year`\n",
    "     - `Healthy_life_expectancy_at_birth` → `healthy_life_expectancy`\n",
    "   - Select only the necessary fields:\n",
    "     - CO₂: `iso_code`, `country`, `year`, `co2_per_capita`, `cumulative_co2`\n",
    "     - HALE: `country`, `year`, `healthy_life_expectancy`\n",
    "\n",
    "2. **Filter & normalize**  \n",
    "   - Keep five **reference years**: 2000, 2010, 2015, 2019, 2021.\n",
    "   - Exclude aggregate regions (e.g., “World”, “Asia”, “European Union (27)”) to focus on individual countries.\n",
    "   - Secure inconsistent country names via ISO codes where needed.\n"
   ]
  },
  {
   "cell_type": "markdown",
   "id": "2d56179c",
   "metadata": {},
   "source": [
    "## Variable Descriptions\n",
    "\n",
    "In the cleaned dataset:\n",
    "\n",
    "- **Continuous / Ratio variables:**\n",
    "  - `co2_per_capita`: Tonnes of CO₂ per person, per year\n",
    "  - `cumulative_co2`: Total tonnes of CO₂ emitted up to that year\n",
    "  - `healthy_life_expectancy`: Expected years of life in full health\n",
    "\n",
    "- **Categorical / Discrete variables:**\n",
    "  - `country`: Country name\n",
    "  - `year`: Reference year (int)\n",
    "\n",
    "These fields form the base of our analysis."
   ]
  },
  {
   "cell_type": "markdown",
   "id": "ae90b8d8",
   "metadata": {},
   "source": [
    "## Custom Aggregation: CO₂ Intensity per Healthy Year\n",
    "\n",
    "To relate emissions directly to health outcomes, we define:\n",
    "\n",
    "$$\n",
    "\\textrm{CO2Intensity}\n",
    "=\n",
    "\\frac{\\textrm{co2_per_capita}}\n",
    "     {\\textrm{healthy_life_expectancy}}\n",
    "$$\n",
    "\n",
    "\n",
    "This indicates how many tonnes of CO₂ are emitted for each expected year of healthy life.\n",
    "\n",
    "**Example:**\n",
    "- `co2_per_capita = 8.0` tonnes  \n",
    "- `healthy_life_expectancy = 72.0` years  \n",
    "- CO₂ Intensity ≈ 0.11 t CO₂ per healthy year  "
   ]
  }
 ],
 "metadata": {
  "kernelspec": {
   "display_name": "base",
   "language": "python",
   "name": "python3"
  },
  "language_info": {
   "codemirror_mode": {
    "name": "ipython",
    "version": 3
   },
   "file_extension": ".py",
   "mimetype": "text/x-python",
   "name": "python",
   "nbconvert_exporter": "python",
   "pygments_lexer": "ipython3",
   "version": "3.13.5"
  }
 },
 "nbformat": 4,
 "nbformat_minor": 5
}