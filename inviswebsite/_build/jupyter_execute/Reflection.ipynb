{
 "cells": [
  {
   "cell_type": "markdown",
   "metadata": {},
   "source": [
    "# Reflection"
   ]
  },
  {
   "cell_type": "markdown",
   "metadata": {},
   "source": [
    "# Peer Feedback\n",
    "On June 24th, 2025, our team gathered with another project group for a peer feedback session. Each group presented their work from the past few weeks, followed by a round of constructive feedback from the others.\n",
    "\n",
    "The remarks we received fell into three broad categories. First, it was observed that two of our visualizations varied too little in structure and message, potentially causing redundancy rather than delivering different insights. We were advised to make these graphs more differentiated or to merge them into a single, more compelling visualization. Second, it was pointed out that our notebook was missing the two essential structural components: the reflection page and the work distribution page. Third, a warning was given for the language of claims relating to CO₂ and health specifically, that we \n",
    "should not make too strong or causal claims without being directly supported by the evidence. It was particularly true given the nature of emissions and the indirectness of the relationship between emissions and healthy life expectancy.\n",
    "\n",
    "As a group, we felt this was valuable and fair feedback. We agreed to implement all suggested improvements and began working on them shortly after the session.\n",
    "\n",
    "# Self-Reflection\n",
    "Looking back on the entire project, the one part that we would pursue further if time permitted is the creation of a multivariable model to more precisely identify the impact of CO₂ emissions on health. Our present work on the topic is primarily observational and based on visual correlations between emissions and healthy life expectancy. These correlations, however, as the narrative has also recognized throughout, are quite complex and intertwined with aspects like income, healthcare, education, and environmental policy. a multivariable model would allow us to better estimate the independent contribution of emissions on healthy life expectancy. We believe this would improve the scientific accuracy of our conclusions."
   ]
  }
 ],
 "metadata": {
  "kernelspec": {
   "display_name": "base",
   "language": "python",
   "name": "python3"
  },
  "language_info": {
   "codemirror_mode": {
    "name": "ipython",
    "version": 3
   },
   "file_extension": ".py",
   "mimetype": "text/x-python",
   "name": "python",
   "nbconvert_exporter": "python",
   "pygments_lexer": "ipython3",
   "version": "3.13.5"
  },
  "widgets": {
   "application/vnd.jupyter.widget-state+json": {
    "state": {},
    "version_major": 2,
    "version_minor": 0
   }
  }
 },
 "nbformat": 4,
 "nbformat_minor": 4
}