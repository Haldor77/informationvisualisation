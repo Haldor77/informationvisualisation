{
 "cells": [
  {
   "cell_type": "code",
   "execution_count": 1,
   "id": "522dacc0",
   "metadata": {},
   "outputs": [
    {
     "ename": "FileNotFoundError",
     "evalue": "[Errno 2] No such file or directory: 'owid-co2-data.csv'",
     "output_type": "error",
     "traceback": [
      "\u001b[1;31m---------------------------------------------------------------------------\u001b[0m",
      "\u001b[1;31mFileNotFoundError\u001b[0m                         Traceback (most recent call last)",
      "Cell \u001b[1;32mIn[1], line 7\u001b[0m\n\u001b[0;32m      4\u001b[0m \u001b[38;5;28;01mfrom\u001b[39;00m\u001b[38;5;250m \u001b[39m\u001b[38;5;21;01mscipy\u001b[39;00m\u001b[38;5;250m \u001b[39m\u001b[38;5;28;01mimport\u001b[39;00m stats\n\u001b[0;32m      6\u001b[0m \u001b[38;5;66;03m# 1) Data inladen (zelfde folder)\u001b[39;00m\n\u001b[1;32m----> 7\u001b[0m co2 \u001b[38;5;241m=\u001b[39m pd\u001b[38;5;241m.\u001b[39mread_csv(\u001b[38;5;124m'\u001b[39m\u001b[38;5;124mowid-co2-data.csv\u001b[39m\u001b[38;5;124m'\u001b[39m, usecols\u001b[38;5;241m=\u001b[39m[\u001b[38;5;124m'\u001b[39m\u001b[38;5;124mcountry\u001b[39m\u001b[38;5;124m'\u001b[39m,\u001b[38;5;124m'\u001b[39m\u001b[38;5;124myear\u001b[39m\u001b[38;5;124m'\u001b[39m,\u001b[38;5;124m'\u001b[39m\u001b[38;5;124mco2_per_capita\u001b[39m\u001b[38;5;124m'\u001b[39m])\n\u001b[0;32m      8\u001b[0m hale \u001b[38;5;241m=\u001b[39m pd\u001b[38;5;241m.\u001b[39mread_csv(\u001b[38;5;124m'\u001b[39m\u001b[38;5;124mC64284D_ALL_LATEST.csv\u001b[39m\u001b[38;5;124m'\u001b[39m)\n\u001b[0;32m     10\u001b[0m \u001b[38;5;66;03m# 2) Healthy life expectancy filter en renaming\u001b[39;00m\n",
      "File \u001b[1;32mc:\\Users\\haldo\\anaconda3\\Lib\\site-packages\\pandas\\io\\parsers\\readers.py:1026\u001b[0m, in \u001b[0;36mread_csv\u001b[1;34m(filepath_or_buffer, sep, delimiter, header, names, index_col, usecols, dtype, engine, converters, true_values, false_values, skipinitialspace, skiprows, skipfooter, nrows, na_values, keep_default_na, na_filter, verbose, skip_blank_lines, parse_dates, infer_datetime_format, keep_date_col, date_parser, date_format, dayfirst, cache_dates, iterator, chunksize, compression, thousands, decimal, lineterminator, quotechar, quoting, doublequote, escapechar, comment, encoding, encoding_errors, dialect, on_bad_lines, delim_whitespace, low_memory, memory_map, float_precision, storage_options, dtype_backend)\u001b[0m\n\u001b[0;32m   1013\u001b[0m kwds_defaults \u001b[38;5;241m=\u001b[39m _refine_defaults_read(\n\u001b[0;32m   1014\u001b[0m     dialect,\n\u001b[0;32m   1015\u001b[0m     delimiter,\n\u001b[1;32m   (...)\u001b[0m\n\u001b[0;32m   1022\u001b[0m     dtype_backend\u001b[38;5;241m=\u001b[39mdtype_backend,\n\u001b[0;32m   1023\u001b[0m )\n\u001b[0;32m   1024\u001b[0m kwds\u001b[38;5;241m.\u001b[39mupdate(kwds_defaults)\n\u001b[1;32m-> 1026\u001b[0m \u001b[38;5;28;01mreturn\u001b[39;00m _read(filepath_or_buffer, kwds)\n",
      "File \u001b[1;32mc:\\Users\\haldo\\anaconda3\\Lib\\site-packages\\pandas\\io\\parsers\\readers.py:620\u001b[0m, in \u001b[0;36m_read\u001b[1;34m(filepath_or_buffer, kwds)\u001b[0m\n\u001b[0;32m    617\u001b[0m _validate_names(kwds\u001b[38;5;241m.\u001b[39mget(\u001b[38;5;124m\"\u001b[39m\u001b[38;5;124mnames\u001b[39m\u001b[38;5;124m\"\u001b[39m, \u001b[38;5;28;01mNone\u001b[39;00m))\n\u001b[0;32m    619\u001b[0m \u001b[38;5;66;03m# Create the parser.\u001b[39;00m\n\u001b[1;32m--> 620\u001b[0m parser \u001b[38;5;241m=\u001b[39m TextFileReader(filepath_or_buffer, \u001b[38;5;241m*\u001b[39m\u001b[38;5;241m*\u001b[39mkwds)\n\u001b[0;32m    622\u001b[0m \u001b[38;5;28;01mif\u001b[39;00m chunksize \u001b[38;5;129;01mor\u001b[39;00m iterator:\n\u001b[0;32m    623\u001b[0m     \u001b[38;5;28;01mreturn\u001b[39;00m parser\n",
      "File \u001b[1;32mc:\\Users\\haldo\\anaconda3\\Lib\\site-packages\\pandas\\io\\parsers\\readers.py:1620\u001b[0m, in \u001b[0;36mTextFileReader.__init__\u001b[1;34m(self, f, engine, **kwds)\u001b[0m\n\u001b[0;32m   1617\u001b[0m     \u001b[38;5;28mself\u001b[39m\u001b[38;5;241m.\u001b[39moptions[\u001b[38;5;124m\"\u001b[39m\u001b[38;5;124mhas_index_names\u001b[39m\u001b[38;5;124m\"\u001b[39m] \u001b[38;5;241m=\u001b[39m kwds[\u001b[38;5;124m\"\u001b[39m\u001b[38;5;124mhas_index_names\u001b[39m\u001b[38;5;124m\"\u001b[39m]\n\u001b[0;32m   1619\u001b[0m \u001b[38;5;28mself\u001b[39m\u001b[38;5;241m.\u001b[39mhandles: IOHandles \u001b[38;5;241m|\u001b[39m \u001b[38;5;28;01mNone\u001b[39;00m \u001b[38;5;241m=\u001b[39m \u001b[38;5;28;01mNone\u001b[39;00m\n\u001b[1;32m-> 1620\u001b[0m \u001b[38;5;28mself\u001b[39m\u001b[38;5;241m.\u001b[39m_engine \u001b[38;5;241m=\u001b[39m \u001b[38;5;28mself\u001b[39m\u001b[38;5;241m.\u001b[39m_make_engine(f, \u001b[38;5;28mself\u001b[39m\u001b[38;5;241m.\u001b[39mengine)\n",
      "File \u001b[1;32mc:\\Users\\haldo\\anaconda3\\Lib\\site-packages\\pandas\\io\\parsers\\readers.py:1880\u001b[0m, in \u001b[0;36mTextFileReader._make_engine\u001b[1;34m(self, f, engine)\u001b[0m\n\u001b[0;32m   1878\u001b[0m     \u001b[38;5;28;01mif\u001b[39;00m \u001b[38;5;124m\"\u001b[39m\u001b[38;5;124mb\u001b[39m\u001b[38;5;124m\"\u001b[39m \u001b[38;5;129;01mnot\u001b[39;00m \u001b[38;5;129;01min\u001b[39;00m mode:\n\u001b[0;32m   1879\u001b[0m         mode \u001b[38;5;241m+\u001b[39m\u001b[38;5;241m=\u001b[39m \u001b[38;5;124m\"\u001b[39m\u001b[38;5;124mb\u001b[39m\u001b[38;5;124m\"\u001b[39m\n\u001b[1;32m-> 1880\u001b[0m \u001b[38;5;28mself\u001b[39m\u001b[38;5;241m.\u001b[39mhandles \u001b[38;5;241m=\u001b[39m get_handle(\n\u001b[0;32m   1881\u001b[0m     f,\n\u001b[0;32m   1882\u001b[0m     mode,\n\u001b[0;32m   1883\u001b[0m     encoding\u001b[38;5;241m=\u001b[39m\u001b[38;5;28mself\u001b[39m\u001b[38;5;241m.\u001b[39moptions\u001b[38;5;241m.\u001b[39mget(\u001b[38;5;124m\"\u001b[39m\u001b[38;5;124mencoding\u001b[39m\u001b[38;5;124m\"\u001b[39m, \u001b[38;5;28;01mNone\u001b[39;00m),\n\u001b[0;32m   1884\u001b[0m     compression\u001b[38;5;241m=\u001b[39m\u001b[38;5;28mself\u001b[39m\u001b[38;5;241m.\u001b[39moptions\u001b[38;5;241m.\u001b[39mget(\u001b[38;5;124m\"\u001b[39m\u001b[38;5;124mcompression\u001b[39m\u001b[38;5;124m\"\u001b[39m, \u001b[38;5;28;01mNone\u001b[39;00m),\n\u001b[0;32m   1885\u001b[0m     memory_map\u001b[38;5;241m=\u001b[39m\u001b[38;5;28mself\u001b[39m\u001b[38;5;241m.\u001b[39moptions\u001b[38;5;241m.\u001b[39mget(\u001b[38;5;124m\"\u001b[39m\u001b[38;5;124mmemory_map\u001b[39m\u001b[38;5;124m\"\u001b[39m, \u001b[38;5;28;01mFalse\u001b[39;00m),\n\u001b[0;32m   1886\u001b[0m     is_text\u001b[38;5;241m=\u001b[39mis_text,\n\u001b[0;32m   1887\u001b[0m     errors\u001b[38;5;241m=\u001b[39m\u001b[38;5;28mself\u001b[39m\u001b[38;5;241m.\u001b[39moptions\u001b[38;5;241m.\u001b[39mget(\u001b[38;5;124m\"\u001b[39m\u001b[38;5;124mencoding_errors\u001b[39m\u001b[38;5;124m\"\u001b[39m, \u001b[38;5;124m\"\u001b[39m\u001b[38;5;124mstrict\u001b[39m\u001b[38;5;124m\"\u001b[39m),\n\u001b[0;32m   1888\u001b[0m     storage_options\u001b[38;5;241m=\u001b[39m\u001b[38;5;28mself\u001b[39m\u001b[38;5;241m.\u001b[39moptions\u001b[38;5;241m.\u001b[39mget(\u001b[38;5;124m\"\u001b[39m\u001b[38;5;124mstorage_options\u001b[39m\u001b[38;5;124m\"\u001b[39m, \u001b[38;5;28;01mNone\u001b[39;00m),\n\u001b[0;32m   1889\u001b[0m )\n\u001b[0;32m   1890\u001b[0m \u001b[38;5;28;01massert\u001b[39;00m \u001b[38;5;28mself\u001b[39m\u001b[38;5;241m.\u001b[39mhandles \u001b[38;5;129;01mis\u001b[39;00m \u001b[38;5;129;01mnot\u001b[39;00m \u001b[38;5;28;01mNone\u001b[39;00m\n\u001b[0;32m   1891\u001b[0m f \u001b[38;5;241m=\u001b[39m \u001b[38;5;28mself\u001b[39m\u001b[38;5;241m.\u001b[39mhandles\u001b[38;5;241m.\u001b[39mhandle\n",
      "File \u001b[1;32mc:\\Users\\haldo\\anaconda3\\Lib\\site-packages\\pandas\\io\\common.py:873\u001b[0m, in \u001b[0;36mget_handle\u001b[1;34m(path_or_buf, mode, encoding, compression, memory_map, is_text, errors, storage_options)\u001b[0m\n\u001b[0;32m    868\u001b[0m \u001b[38;5;28;01melif\u001b[39;00m \u001b[38;5;28misinstance\u001b[39m(handle, \u001b[38;5;28mstr\u001b[39m):\n\u001b[0;32m    869\u001b[0m     \u001b[38;5;66;03m# Check whether the filename is to be opened in binary mode.\u001b[39;00m\n\u001b[0;32m    870\u001b[0m     \u001b[38;5;66;03m# Binary mode does not support 'encoding' and 'newline'.\u001b[39;00m\n\u001b[0;32m    871\u001b[0m     \u001b[38;5;28;01mif\u001b[39;00m ioargs\u001b[38;5;241m.\u001b[39mencoding \u001b[38;5;129;01mand\u001b[39;00m \u001b[38;5;124m\"\u001b[39m\u001b[38;5;124mb\u001b[39m\u001b[38;5;124m\"\u001b[39m \u001b[38;5;129;01mnot\u001b[39;00m \u001b[38;5;129;01min\u001b[39;00m ioargs\u001b[38;5;241m.\u001b[39mmode:\n\u001b[0;32m    872\u001b[0m         \u001b[38;5;66;03m# Encoding\u001b[39;00m\n\u001b[1;32m--> 873\u001b[0m         handle \u001b[38;5;241m=\u001b[39m \u001b[38;5;28mopen\u001b[39m(\n\u001b[0;32m    874\u001b[0m             handle,\n\u001b[0;32m    875\u001b[0m             ioargs\u001b[38;5;241m.\u001b[39mmode,\n\u001b[0;32m    876\u001b[0m             encoding\u001b[38;5;241m=\u001b[39mioargs\u001b[38;5;241m.\u001b[39mencoding,\n\u001b[0;32m    877\u001b[0m             errors\u001b[38;5;241m=\u001b[39merrors,\n\u001b[0;32m    878\u001b[0m             newline\u001b[38;5;241m=\u001b[39m\u001b[38;5;124m\"\u001b[39m\u001b[38;5;124m\"\u001b[39m,\n\u001b[0;32m    879\u001b[0m         )\n\u001b[0;32m    880\u001b[0m     \u001b[38;5;28;01melse\u001b[39;00m:\n\u001b[0;32m    881\u001b[0m         \u001b[38;5;66;03m# Binary mode\u001b[39;00m\n\u001b[0;32m    882\u001b[0m         handle \u001b[38;5;241m=\u001b[39m \u001b[38;5;28mopen\u001b[39m(handle, ioargs\u001b[38;5;241m.\u001b[39mmode)\n",
      "\u001b[1;31mFileNotFoundError\u001b[0m: [Errno 2] No such file or directory: 'owid-co2-data.csv'"
     ]
    }
   ],
   "source": [
    "import pandas as pd\n",
    "import matplotlib.pyplot as plt\n",
    "import numpy as np\n",
    "from scipy import stats\n",
    "\n",
    "# 1) Data inladen (zelfde folder)\n",
    "co2 = pd.read_csv('owid-co2-data.csv', usecols=['country','year','co2_per_capita'])\n",
    "hale = pd.read_csv('C64284D_ALL_LATEST.csv')\n",
    "\n",
    "# 2) Healthy life expectancy filter en renaming\n",
    "hale = hale.loc[\n",
    "    (hale['IND_NAME']=='Healthy life expectancy (at birth)') &\n",
    "    (hale['DIM_SEX']=='TOTAL'),\n",
    "    ['GEO_NAME_SHORT','DIM_TIME','AMOUNT_N']\n",
    "].rename(columns={\n",
    "    'GEO_NAME_SHORT':'country',\n",
    "    'DIM_TIME':'year',\n",
    "    'AMOUNT_N':'healthy_life_expectancy'\n",
    "})\n",
    "\n",
    "# 3) Merge en filter voor 2019\n",
    "co2['year'] = co2['year'].astype(int)\n",
    "hale['year'] = hale['year'].astype(int)\n",
    "merged = pd.merge(co2, hale, on=['country','year'], how='inner')\n",
    "df2019 = merged.query(\"year == 2019\")\n",
    "\n",
    "# 4) Data voor plot\n",
    "x = df2019['co2_per_capita']\n",
    "y = df2019['healthy_life_expectancy']\n",
    "\n",
    "# 5) Bereken OLS-trendline\n",
    "slope, intercept, r_value, p_value, std_err = stats.linregress(x, y)\n",
    "line_x = np.linspace(x.min(), x.max(), 100)\n",
    "line_y = slope * line_x + intercept\n",
    "\n",
    "# 6) Plotten met legenda voor punten én trendline\n",
    "plt.figure(figsize=(8,6))\n",
    "plt.scatter(x, y, alpha=0.7, edgecolor='k', label='Country data points')\n",
    "plt.plot(line_x, line_y, color='red', linestyle='--',\n",
    "         label=f'Trendline (R²={r_value**2:.2f})')\n",
    "\n",
    "plt.xlabel('CO₂ per Capita (tons)')\n",
    "plt.ylabel('Healthy Life Expectancy (years)')\n",
    "plt.title('CO₂ per Capita vs Healthy Life Expectancy (2019)')\n",
    "plt.grid(True, linestyle='--', linewidth=0.5, alpha=0.7)\n",
    "plt.legend(title='Legend')\n",
    "plt.tight_layout()\n",
    "plt.show()"
   ]
  },
  {
   "cell_type": "code",
   "execution_count": null,
   "id": "c7574674",
   "metadata": {},
   "outputs": [
    {
     "data": {
      "application/vnd.plotly.v1+json": {
       "config": {
        "plotlyServerURL": "https://plot.ly"
       },
       "data": [
        {
         "hovertemplate": "CO₂: %{y} ton<extra></extra>",
         "marker": {
          "color": "orange"
         },
         "name": "CO₂ per Capita (tons)",
         "type": "bar",
         "x": {
          "bdata": "mpmZmZmZyb+amZmZmZnpP83MzMzMzPw/",
          "dtype": "f8"
         },
         "y": {
          "bdata": "Di2yne8nL0B56SYxCCwTQH9qvHSTGP4/",
          "dtype": "f8"
         },
         "yaxis": "y"
        },
        {
         "hovertemplate": "Gezonde levensverwachting: %{y} jaar<extra></extra>",
         "marker": {
          "color": "blue"
         },
         "name": "Healthy Life Expectancy (years)",
         "type": "bar",
         "x": {
          "bdata": "mpmZmZmZyT8zMzMzMzPzP5qZmZmZmQFA",
          "dtype": "f8"
         },
         "y": {
          "bdata": "MxtkkpGHUEDMKJZbWgVSQCbHndLBKk5A",
          "dtype": "f8"
         },
         "yaxis": "y2"
        }
       ],
       "layout": {
        "bargap": 0.2,
        "legend": {
         "orientation": "h",
         "x": 0.5,
         "xanchor": "center",
         "y": 1.02,
         "yanchor": "bottom"
        },
        "margin": {
         "b": 50,
         "l": 60,
         "r": 60,
         "t": 80
        },
        "template": {
         "data": {
          "bar": [
           {
            "error_x": {
             "color": "#2a3f5f"
            },
            "error_y": {
             "color": "#2a3f5f"
            },
            "marker": {
             "line": {
              "color": "#E5ECF6",
              "width": 0.5
             },
             "pattern": {
              "fillmode": "overlay",
              "size": 10,
              "solidity": 0.2
             }
            },
            "type": "bar"
           }
          ],
          "barpolar": [
           {
            "marker": {
             "line": {
              "color": "#E5ECF6",
              "width": 0.5
             },
             "pattern": {
              "fillmode": "overlay",
              "size": 10,
              "solidity": 0.2
             }
            },
            "type": "barpolar"
           }
          ],
          "carpet": [
           {
            "aaxis": {
             "endlinecolor": "#2a3f5f",
             "gridcolor": "white",
             "linecolor": "white",
             "minorgridcolor": "white",
             "startlinecolor": "#2a3f5f"
            },
            "baxis": {
             "endlinecolor": "#2a3f5f",
             "gridcolor": "white",
             "linecolor": "white",
             "minorgridcolor": "white",
             "startlinecolor": "#2a3f5f"
            },
            "type": "carpet"
           }
          ],
          "choropleth": [
           {
            "colorbar": {
             "outlinewidth": 0,
             "ticks": ""
            },
            "type": "choropleth"
           }
          ],
          "contour": [
           {
            "colorbar": {
             "outlinewidth": 0,
             "ticks": ""
            },
            "colorscale": [
             [
              0,
              "#0d0887"
             ],
             [
              0.1111111111111111,
              "#46039f"
             ],
             [
              0.2222222222222222,
              "#7201a8"
             ],
             [
              0.3333333333333333,
              "#9c179e"
             ],
             [
              0.4444444444444444,
              "#bd3786"
             ],
             [
              0.5555555555555556,
              "#d8576b"
             ],
             [
              0.6666666666666666,
              "#ed7953"
             ],
             [
              0.7777777777777778,
              "#fb9f3a"
             ],
             [
              0.8888888888888888,
              "#fdca26"
             ],
             [
              1,
              "#f0f921"
             ]
            ],
            "type": "contour"
           }
          ],
          "contourcarpet": [
           {
            "colorbar": {
             "outlinewidth": 0,
             "ticks": ""
            },
            "type": "contourcarpet"
           }
          ],
          "heatmap": [
           {
            "colorbar": {
             "outlinewidth": 0,
             "ticks": ""
            },
            "colorscale": [
             [
              0,
              "#0d0887"
             ],
             [
              0.1111111111111111,
              "#46039f"
             ],
             [
              0.2222222222222222,
              "#7201a8"
             ],
             [
              0.3333333333333333,
              "#9c179e"
             ],
             [
              0.4444444444444444,
              "#bd3786"
             ],
             [
              0.5555555555555556,
              "#d8576b"
             ],
             [
              0.6666666666666666,
              "#ed7953"
             ],
             [
              0.7777777777777778,
              "#fb9f3a"
             ],
             [
              0.8888888888888888,
              "#fdca26"
             ],
             [
              1,
              "#f0f921"
             ]
            ],
            "type": "heatmap"
           }
          ],
          "histogram": [
           {
            "marker": {
             "pattern": {
              "fillmode": "overlay",
              "size": 10,
              "solidity": 0.2
             }
            },
            "type": "histogram"
           }
          ],
          "histogram2d": [
           {
            "colorbar": {
             "outlinewidth": 0,
             "ticks": ""
            },
            "colorscale": [
             [
              0,
              "#0d0887"
             ],
             [
              0.1111111111111111,
              "#46039f"
             ],
             [
              0.2222222222222222,
              "#7201a8"
             ],
             [
              0.3333333333333333,
              "#9c179e"
             ],
             [
              0.4444444444444444,
              "#bd3786"
             ],
             [
              0.5555555555555556,
              "#d8576b"
             ],
             [
              0.6666666666666666,
              "#ed7953"
             ],
             [
              0.7777777777777778,
              "#fb9f3a"
             ],
             [
              0.8888888888888888,
              "#fdca26"
             ],
             [
              1,
              "#f0f921"
             ]
            ],
            "type": "histogram2d"
           }
          ],
          "histogram2dcontour": [
           {
            "colorbar": {
             "outlinewidth": 0,
             "ticks": ""
            },
            "colorscale": [
             [
              0,
              "#0d0887"
             ],
             [
              0.1111111111111111,
              "#46039f"
             ],
             [
              0.2222222222222222,
              "#7201a8"
             ],
             [
              0.3333333333333333,
              "#9c179e"
             ],
             [
              0.4444444444444444,
              "#bd3786"
             ],
             [
              0.5555555555555556,
              "#d8576b"
             ],
             [
              0.6666666666666666,
              "#ed7953"
             ],
             [
              0.7777777777777778,
              "#fb9f3a"
             ],
             [
              0.8888888888888888,
              "#fdca26"
             ],
             [
              1,
              "#f0f921"
             ]
            ],
            "type": "histogram2dcontour"
           }
          ],
          "mesh3d": [
           {
            "colorbar": {
             "outlinewidth": 0,
             "ticks": ""
            },
            "type": "mesh3d"
           }
          ],
          "parcoords": [
           {
            "line": {
             "colorbar": {
              "outlinewidth": 0,
              "ticks": ""
             }
            },
            "type": "parcoords"
           }
          ],
          "pie": [
           {
            "automargin": true,
            "type": "pie"
           }
          ],
          "scatter": [
           {
            "fillpattern": {
             "fillmode": "overlay",
             "size": 10,
             "solidity": 0.2
            },
            "type": "scatter"
           }
          ],
          "scatter3d": [
           {
            "line": {
             "colorbar": {
              "outlinewidth": 0,
              "ticks": ""
             }
            },
            "marker": {
             "colorbar": {
              "outlinewidth": 0,
              "ticks": ""
             }
            },
            "type": "scatter3d"
           }
          ],
          "scattercarpet": [
           {
            "marker": {
             "colorbar": {
              "outlinewidth": 0,
              "ticks": ""
             }
            },
            "type": "scattercarpet"
           }
          ],
          "scattergeo": [
           {
            "marker": {
             "colorbar": {
              "outlinewidth": 0,
              "ticks": ""
             }
            },
            "type": "scattergeo"
           }
          ],
          "scattergl": [
           {
            "marker": {
             "colorbar": {
              "outlinewidth": 0,
              "ticks": ""
             }
            },
            "type": "scattergl"
           }
          ],
          "scattermap": [
           {
            "marker": {
             "colorbar": {
              "outlinewidth": 0,
              "ticks": ""
             }
            },
            "type": "scattermap"
           }
          ],
          "scattermapbox": [
           {
            "marker": {
             "colorbar": {
              "outlinewidth": 0,
              "ticks": ""
             }
            },
            "type": "scattermapbox"
           }
          ],
          "scatterpolar": [
           {
            "marker": {
             "colorbar": {
              "outlinewidth": 0,
              "ticks": ""
             }
            },
            "type": "scatterpolar"
           }
          ],
          "scatterpolargl": [
           {
            "marker": {
             "colorbar": {
              "outlinewidth": 0,
              "ticks": ""
             }
            },
            "type": "scatterpolargl"
           }
          ],
          "scatterternary": [
           {
            "marker": {
             "colorbar": {
              "outlinewidth": 0,
              "ticks": ""
             }
            },
            "type": "scatterternary"
           }
          ],
          "surface": [
           {
            "colorbar": {
             "outlinewidth": 0,
             "ticks": ""
            },
            "colorscale": [
             [
              0,
              "#0d0887"
             ],
             [
              0.1111111111111111,
              "#46039f"
             ],
             [
              0.2222222222222222,
              "#7201a8"
             ],
             [
              0.3333333333333333,
              "#9c179e"
             ],
             [
              0.4444444444444444,
              "#bd3786"
             ],
             [
              0.5555555555555556,
              "#d8576b"
             ],
             [
              0.6666666666666666,
              "#ed7953"
             ],
             [
              0.7777777777777778,
              "#fb9f3a"
             ],
             [
              0.8888888888888888,
              "#fdca26"
             ],
             [
              1,
              "#f0f921"
             ]
            ],
            "type": "surface"
           }
          ],
          "table": [
           {
            "cells": {
             "fill": {
              "color": "#EBF0F8"
             },
             "line": {
              "color": "white"
             }
            },
            "header": {
             "fill": {
              "color": "#C8D4E3"
             },
             "line": {
              "color": "white"
             }
            },
            "type": "table"
           }
          ]
         },
         "layout": {
          "annotationdefaults": {
           "arrowcolor": "#2a3f5f",
           "arrowhead": 0,
           "arrowwidth": 1
          },
          "autotypenumbers": "strict",
          "coloraxis": {
           "colorbar": {
            "outlinewidth": 0,
            "ticks": ""
           }
          },
          "colorscale": {
           "diverging": [
            [
             0,
             "#8e0152"
            ],
            [
             0.1,
             "#c51b7d"
            ],
            [
             0.2,
             "#de77ae"
            ],
            [
             0.3,
             "#f1b6da"
            ],
            [
             0.4,
             "#fde0ef"
            ],
            [
             0.5,
             "#f7f7f7"
            ],
            [
             0.6,
             "#e6f5d0"
            ],
            [
             0.7,
             "#b8e186"
            ],
            [
             0.8,
             "#7fbc41"
            ],
            [
             0.9,
             "#4d9221"
            ],
            [
             1,
             "#276419"
            ]
           ],
           "sequential": [
            [
             0,
             "#0d0887"
            ],
            [
             0.1111111111111111,
             "#46039f"
            ],
            [
             0.2222222222222222,
             "#7201a8"
            ],
            [
             0.3333333333333333,
             "#9c179e"
            ],
            [
             0.4444444444444444,
             "#bd3786"
            ],
            [
             0.5555555555555556,
             "#d8576b"
            ],
            [
             0.6666666666666666,
             "#ed7953"
            ],
            [
             0.7777777777777778,
             "#fb9f3a"
            ],
            [
             0.8888888888888888,
             "#fdca26"
            ],
            [
             1,
             "#f0f921"
            ]
           ],
           "sequentialminus": [
            [
             0,
             "#0d0887"
            ],
            [
             0.1111111111111111,
             "#46039f"
            ],
            [
             0.2222222222222222,
             "#7201a8"
            ],
            [
             0.3333333333333333,
             "#9c179e"
            ],
            [
             0.4444444444444444,
             "#bd3786"
            ],
            [
             0.5555555555555556,
             "#d8576b"
            ],
            [
             0.6666666666666666,
             "#ed7953"
            ],
            [
             0.7777777777777778,
             "#fb9f3a"
            ],
            [
             0.8888888888888888,
             "#fdca26"
            ],
            [
             1,
             "#f0f921"
            ]
           ]
          },
          "colorway": [
           "#636efa",
           "#EF553B",
           "#00cc96",
           "#ab63fa",
           "#FFA15A",
           "#19d3f3",
           "#FF6692",
           "#B6E880",
           "#FF97FF",
           "#FECB52"
          ],
          "font": {
           "color": "#2a3f5f"
          },
          "geo": {
           "bgcolor": "white",
           "lakecolor": "white",
           "landcolor": "#E5ECF6",
           "showlakes": true,
           "showland": true,
           "subunitcolor": "white"
          },
          "hoverlabel": {
           "align": "left"
          },
          "hovermode": "closest",
          "mapbox": {
           "style": "light"
          },
          "paper_bgcolor": "white",
          "plot_bgcolor": "#E5ECF6",
          "polar": {
           "angularaxis": {
            "gridcolor": "white",
            "linecolor": "white",
            "ticks": ""
           },
           "bgcolor": "#E5ECF6",
           "radialaxis": {
            "gridcolor": "white",
            "linecolor": "white",
            "ticks": ""
           }
          },
          "scene": {
           "xaxis": {
            "backgroundcolor": "#E5ECF6",
            "gridcolor": "white",
            "gridwidth": 2,
            "linecolor": "white",
            "showbackground": true,
            "ticks": "",
            "zerolinecolor": "white"
           },
           "yaxis": {
            "backgroundcolor": "#E5ECF6",
            "gridcolor": "white",
            "gridwidth": 2,
            "linecolor": "white",
            "showbackground": true,
            "ticks": "",
            "zerolinecolor": "white"
           },
           "zaxis": {
            "backgroundcolor": "#E5ECF6",
            "gridcolor": "white",
            "gridwidth": 2,
            "linecolor": "white",
            "showbackground": true,
            "ticks": "",
            "zerolinecolor": "white"
           }
          },
          "shapedefaults": {
           "line": {
            "color": "#2a3f5f"
           }
          },
          "ternary": {
           "aaxis": {
            "gridcolor": "white",
            "linecolor": "white",
            "ticks": ""
           },
           "baxis": {
            "gridcolor": "white",
            "linecolor": "white",
            "ticks": ""
           },
           "bgcolor": "#E5ECF6",
           "caxis": {
            "gridcolor": "white",
            "linecolor": "white",
            "ticks": ""
           }
          },
          "title": {
           "x": 0.05
          },
          "xaxis": {
           "automargin": true,
           "gridcolor": "white",
           "linecolor": "white",
           "ticks": "",
           "title": {
            "standoff": 15
           },
           "zerolinecolor": "white",
           "zerolinewidth": 2
          },
          "yaxis": {
           "automargin": true,
           "gridcolor": "white",
           "linecolor": "white",
           "ticks": "",
           "title": {
            "standoff": 15
           },
           "zerolinecolor": "white",
           "zerolinewidth": 2
          }
         }
        },
        "title": {
         "text": "Emissions vs Healthy Life Expectancy: U.S. vs France vs India (2019)"
        },
        "xaxis": {
         "tickangle": 15,
         "tickmode": "array",
         "ticktext": [
          "United States of America",
          "France",
          "India"
         ],
         "tickvals": {
          "bdata": "AAEC",
          "dtype": "i1"
         },
         "title": {
          "text": "Country"
         }
        },
        "yaxis": {
         "tickfont": {
          "color": "orange"
         },
         "title": {
          "font": {
           "color": "orange"
          },
          "text": "CO₂ per Capita (tons)"
         }
        },
        "yaxis2": {
         "overlaying": "y",
         "side": "right",
         "tickfont": {
          "color": "blue"
         },
         "title": {
          "font": {
           "color": "blue"
          },
          "text": "Healthy Life Expectancy (years)"
         }
        }
       }
      }
     },
     "metadata": {},
     "output_type": "display_data"
    }
   ],
   "source": [
    "import pandas as pd\n",
    "import plotly.graph_objects as go\n",
    "import numpy as np\n",
    "\n",
    "# 1) Data inladen en voorbereiden\n",
    "co2 = pd.read_csv('owid-co2-data.csv', usecols=['country','year','co2_per_capita'])\n",
    "hale = pd.read_csv('C64284D_ALL_LATEST.csv')\n",
    "\n",
    "# Harmoniseren landnaam\n",
    "co2['country'] = co2['country'].replace({'United States':'United States of America'})\n",
    "\n",
    "# Filter Healthy life expectancy\n",
    "hale = (\n",
    "    hale.loc[\n",
    "        (hale['IND_NAME']=='Healthy life expectancy (at birth)') &\n",
    "        (hale['DIM_SEX']=='TOTAL'),\n",
    "        ['GEO_NAME_SHORT','DIM_TIME','AMOUNT_N']\n",
    "    ]\n",
    "    .rename(columns={\n",
    "        'GEO_NAME_SHORT':'country',\n",
    "        'DIM_TIME':'year',\n",
    "        'AMOUNT_N':'healthy_life_expectancy'\n",
    "    })\n",
    ")\n",
    "\n",
    "# Jaar als int, merge en filter voor 2019 + geselecteerde landen\n",
    "co2['year'] = co2['year'].astype(int)\n",
    "hale['year'] = hale['year'].astype(int)\n",
    "merged = pd.merge(co2, hale, on=['country','year'], how='inner')\n",
    "\n",
    "countries = [\n",
    "    'United States of America',\n",
    "    'France',\n",
    "    'India'\n",
    "]\n",
    "\n",
    "df2019 = (\n",
    "    merged\n",
    "    .query(\"year == 2019 and country in @countries\")\n",
    "    .set_index('country')\n",
    "    .loc[countries]\n",
    "    .reset_index()\n",
    ")\n",
    "\n",
    "# 2) X-waarden en barbreedte\n",
    "x = np.arange(len(countries))\n",
    "width = 0.4\n",
    "\n",
    "# 3) Bouw de interactieve figuur\n",
    "fig = go.Figure()\n",
    "\n",
    "# CO₂ per Capita (linker y-as)\n",
    "fig.add_trace(go.Bar(\n",
    "    x=x - width/2,\n",
    "    y=df2019['co2_per_capita'],\n",
    "    name='CO₂ per Capita (tons)',\n",
    "    marker_color='orange',\n",
    "    yaxis='y1',\n",
    "    hovertemplate='CO₂: %{y} ton<extra></extra>'\n",
    "))\n",
    "\n",
    "# Healthy Life Expectancy (rechter y-as)\n",
    "fig.add_trace(go.Bar(\n",
    "    x=x + width/2,\n",
    "    y=df2019['healthy_life_expectancy'],\n",
    "    name='Healthy Life Expectancy (years)',\n",
    "    marker_color='blue',\n",
    "    yaxis='y2',\n",
    "    hovertemplate='Gezonde levensverwachting: %{y} jaar<extra></extra>'\n",
    "))\n",
    "\n",
    "# 4) Layout met dubbele y-as en styling gelijk aan matplotlib\n",
    "fig.update_layout(\n",
    "    title=\"Emissions vs Healthy Life Expectancy: U.S. vs France vs India (2019)\",\n",
    "    xaxis=dict(\n",
    "        tickmode='array',\n",
    "        tickvals=x,\n",
    "        ticktext=countries,\n",
    "        tickangle=15,\n",
    "        title='Country'\n",
    "    ),\n",
    "    yaxis=dict(\n",
    "        title=dict(\n",
    "            text='CO₂ per Capita (tons)',\n",
    "            font=dict(color='orange')\n",
    "        ),\n",
    "        tickfont=dict(color='orange')\n",
    "    ),\n",
    "    yaxis2=dict(\n",
    "        title=dict(\n",
    "            text='Healthy Life Expectancy (years)',\n",
    "            font=dict(color='blue')\n",
    "        ),\n",
    "        tickfont=dict(color='blue'),\n",
    "        overlaying='y',\n",
    "        side='right'\n",
    "    ),\n",
    "    legend=dict(\n",
    "        orientation='h',\n",
    "        yanchor='bottom',\n",
    "        y=1.02,\n",
    "        x=0.5,\n",
    "        xanchor='center'\n",
    "    ),\n",
    "    bargap=0.2,\n",
    "    margin=dict(t=80, b=50, l=60, r=60)\n",
    ")\n",
    "\n",
    "# 5) Toon interactieve grafiek\n",
    "fig.show()\n",
    "\n",
    "# Optioneel: exporteer naar standalone HTML\n",
    "# fig.write_html(\"emissions_health_2019.html\", include_plotlyjs='cdn')"
   ]
  },
  {
   "cell_type": "code",
   "execution_count": null,
   "id": "66e69425",
   "metadata": {},
   "outputs": [
    {
     "data": {
      "application/vnd.plotly.v1+json": {
       "config": {
        "plotlyServerURL": "https://plot.ly"
       },
       "data": [
        {
         "line": {
          "color": "orange"
         },
         "marker": {
          "color": "orange"
         },
         "mode": "lines+markers",
         "name": "CO₂ per Capita (tons)",
         "type": "scatter",
         "x": {
          "bdata": "0AfaB98H4wflBw==",
          "dtype": "i2"
         },
         "y": {
          "bdata": "y6FFtvP9BkBQjZduEoMZQMP1KFyPQhxAtMh2vp8aHkBaZDvfTw0gQA==",
          "dtype": "f8"
         },
         "yaxis": "y"
        },
        {
         "line": {
          "color": "blue"
         },
         "marker": {
          "color": "blue"
         },
         "mode": "lines+markers",
         "name": "Healthy Life Expectancy (years)",
         "type": "scatter",
         "x": {
          "bdata": "0AfaB98H4wflBw==",
          "dtype": "i2"
         },
         "y": {
          "bdata": "OxkcJa/aT0AawFsgQatQQKbVkLjHAFFAMqzijcwhUUA6aQDAaCVRQA==",
          "dtype": "f8"
         },
         "yaxis": "y2"
        }
       ],
       "layout": {
        "legend": {
         "orientation": "h",
         "x": 0.5,
         "xanchor": "center",
         "y": 1.02,
         "yanchor": "bottom"
        },
        "template": {
         "data": {
          "bar": [
           {
            "error_x": {
             "color": "#2a3f5f"
            },
            "error_y": {
             "color": "#2a3f5f"
            },
            "marker": {
             "line": {
              "color": "#E5ECF6",
              "width": 0.5
             },
             "pattern": {
              "fillmode": "overlay",
              "size": 10,
              "solidity": 0.2
             }
            },
            "type": "bar"
           }
          ],
          "barpolar": [
           {
            "marker": {
             "line": {
              "color": "#E5ECF6",
              "width": 0.5
             },
             "pattern": {
              "fillmode": "overlay",
              "size": 10,
              "solidity": 0.2
             }
            },
            "type": "barpolar"
           }
          ],
          "carpet": [
           {
            "aaxis": {
             "endlinecolor": "#2a3f5f",
             "gridcolor": "white",
             "linecolor": "white",
             "minorgridcolor": "white",
             "startlinecolor": "#2a3f5f"
            },
            "baxis": {
             "endlinecolor": "#2a3f5f",
             "gridcolor": "white",
             "linecolor": "white",
             "minorgridcolor": "white",
             "startlinecolor": "#2a3f5f"
            },
            "type": "carpet"
           }
          ],
          "choropleth": [
           {
            "colorbar": {
             "outlinewidth": 0,
             "ticks": ""
            },
            "type": "choropleth"
           }
          ],
          "contour": [
           {
            "colorbar": {
             "outlinewidth": 0,
             "ticks": ""
            },
            "colorscale": [
             [
              0,
              "#0d0887"
             ],
             [
              0.1111111111111111,
              "#46039f"
             ],
             [
              0.2222222222222222,
              "#7201a8"
             ],
             [
              0.3333333333333333,
              "#9c179e"
             ],
             [
              0.4444444444444444,
              "#bd3786"
             ],
             [
              0.5555555555555556,
              "#d8576b"
             ],
             [
              0.6666666666666666,
              "#ed7953"
             ],
             [
              0.7777777777777778,
              "#fb9f3a"
             ],
             [
              0.8888888888888888,
              "#fdca26"
             ],
             [
              1,
              "#f0f921"
             ]
            ],
            "type": "contour"
           }
          ],
          "contourcarpet": [
           {
            "colorbar": {
             "outlinewidth": 0,
             "ticks": ""
            },
            "type": "contourcarpet"
           }
          ],
          "heatmap": [
           {
            "colorbar": {
             "outlinewidth": 0,
             "ticks": ""
            },
            "colorscale": [
             [
              0,
              "#0d0887"
             ],
             [
              0.1111111111111111,
              "#46039f"
             ],
             [
              0.2222222222222222,
              "#7201a8"
             ],
             [
              0.3333333333333333,
              "#9c179e"
             ],
             [
              0.4444444444444444,
              "#bd3786"
             ],
             [
              0.5555555555555556,
              "#d8576b"
             ],
             [
              0.6666666666666666,
              "#ed7953"
             ],
             [
              0.7777777777777778,
              "#fb9f3a"
             ],
             [
              0.8888888888888888,
              "#fdca26"
             ],
             [
              1,
              "#f0f921"
             ]
            ],
            "type": "heatmap"
           }
          ],
          "histogram": [
           {
            "marker": {
             "pattern": {
              "fillmode": "overlay",
              "size": 10,
              "solidity": 0.2
             }
            },
            "type": "histogram"
           }
          ],
          "histogram2d": [
           {
            "colorbar": {
             "outlinewidth": 0,
             "ticks": ""
            },
            "colorscale": [
             [
              0,
              "#0d0887"
             ],
             [
              0.1111111111111111,
              "#46039f"
             ],
             [
              0.2222222222222222,
              "#7201a8"
             ],
             [
              0.3333333333333333,
              "#9c179e"
             ],
             [
              0.4444444444444444,
              "#bd3786"
             ],
             [
              0.5555555555555556,
              "#d8576b"
             ],
             [
              0.6666666666666666,
              "#ed7953"
             ],
             [
              0.7777777777777778,
              "#fb9f3a"
             ],
             [
              0.8888888888888888,
              "#fdca26"
             ],
             [
              1,
              "#f0f921"
             ]
            ],
            "type": "histogram2d"
           }
          ],
          "histogram2dcontour": [
           {
            "colorbar": {
             "outlinewidth": 0,
             "ticks": ""
            },
            "colorscale": [
             [
              0,
              "#0d0887"
             ],
             [
              0.1111111111111111,
              "#46039f"
             ],
             [
              0.2222222222222222,
              "#7201a8"
             ],
             [
              0.3333333333333333,
              "#9c179e"
             ],
             [
              0.4444444444444444,
              "#bd3786"
             ],
             [
              0.5555555555555556,
              "#d8576b"
             ],
             [
              0.6666666666666666,
              "#ed7953"
             ],
             [
              0.7777777777777778,
              "#fb9f3a"
             ],
             [
              0.8888888888888888,
              "#fdca26"
             ],
             [
              1,
              "#f0f921"
             ]
            ],
            "type": "histogram2dcontour"
           }
          ],
          "mesh3d": [
           {
            "colorbar": {
             "outlinewidth": 0,
             "ticks": ""
            },
            "type": "mesh3d"
           }
          ],
          "parcoords": [
           {
            "line": {
             "colorbar": {
              "outlinewidth": 0,
              "ticks": ""
             }
            },
            "type": "parcoords"
           }
          ],
          "pie": [
           {
            "automargin": true,
            "type": "pie"
           }
          ],
          "scatter": [
           {
            "fillpattern": {
             "fillmode": "overlay",
             "size": 10,
             "solidity": 0.2
            },
            "type": "scatter"
           }
          ],
          "scatter3d": [
           {
            "line": {
             "colorbar": {
              "outlinewidth": 0,
              "ticks": ""
             }
            },
            "marker": {
             "colorbar": {
              "outlinewidth": 0,
              "ticks": ""
             }
            },
            "type": "scatter3d"
           }
          ],
          "scattercarpet": [
           {
            "marker": {
             "colorbar": {
              "outlinewidth": 0,
              "ticks": ""
             }
            },
            "type": "scattercarpet"
           }
          ],
          "scattergeo": [
           {
            "marker": {
             "colorbar": {
              "outlinewidth": 0,
              "ticks": ""
             }
            },
            "type": "scattergeo"
           }
          ],
          "scattergl": [
           {
            "marker": {
             "colorbar": {
              "outlinewidth": 0,
              "ticks": ""
             }
            },
            "type": "scattergl"
           }
          ],
          "scattermap": [
           {
            "marker": {
             "colorbar": {
              "outlinewidth": 0,
              "ticks": ""
             }
            },
            "type": "scattermap"
           }
          ],
          "scattermapbox": [
           {
            "marker": {
             "colorbar": {
              "outlinewidth": 0,
              "ticks": ""
             }
            },
            "type": "scattermapbox"
           }
          ],
          "scatterpolar": [
           {
            "marker": {
             "colorbar": {
              "outlinewidth": 0,
              "ticks": ""
             }
            },
            "type": "scatterpolar"
           }
          ],
          "scatterpolargl": [
           {
            "marker": {
             "colorbar": {
              "outlinewidth": 0,
              "ticks": ""
             }
            },
            "type": "scatterpolargl"
           }
          ],
          "scatterternary": [
           {
            "marker": {
             "colorbar": {
              "outlinewidth": 0,
              "ticks": ""
             }
            },
            "type": "scatterternary"
           }
          ],
          "surface": [
           {
            "colorbar": {
             "outlinewidth": 0,
             "ticks": ""
            },
            "colorscale": [
             [
              0,
              "#0d0887"
             ],
             [
              0.1111111111111111,
              "#46039f"
             ],
             [
              0.2222222222222222,
              "#7201a8"
             ],
             [
              0.3333333333333333,
              "#9c179e"
             ],
             [
              0.4444444444444444,
              "#bd3786"
             ],
             [
              0.5555555555555556,
              "#d8576b"
             ],
             [
              0.6666666666666666,
              "#ed7953"
             ],
             [
              0.7777777777777778,
              "#fb9f3a"
             ],
             [
              0.8888888888888888,
              "#fdca26"
             ],
             [
              1,
              "#f0f921"
             ]
            ],
            "type": "surface"
           }
          ],
          "table": [
           {
            "cells": {
             "fill": {
              "color": "#EBF0F8"
             },
             "line": {
              "color": "white"
             }
            },
            "header": {
             "fill": {
              "color": "#C8D4E3"
             },
             "line": {
              "color": "white"
             }
            },
            "type": "table"
           }
          ]
         },
         "layout": {
          "annotationdefaults": {
           "arrowcolor": "#2a3f5f",
           "arrowhead": 0,
           "arrowwidth": 1
          },
          "autotypenumbers": "strict",
          "coloraxis": {
           "colorbar": {
            "outlinewidth": 0,
            "ticks": ""
           }
          },
          "colorscale": {
           "diverging": [
            [
             0,
             "#8e0152"
            ],
            [
             0.1,
             "#c51b7d"
            ],
            [
             0.2,
             "#de77ae"
            ],
            [
             0.3,
             "#f1b6da"
            ],
            [
             0.4,
             "#fde0ef"
            ],
            [
             0.5,
             "#f7f7f7"
            ],
            [
             0.6,
             "#e6f5d0"
            ],
            [
             0.7,
             "#b8e186"
            ],
            [
             0.8,
             "#7fbc41"
            ],
            [
             0.9,
             "#4d9221"
            ],
            [
             1,
             "#276419"
            ]
           ],
           "sequential": [
            [
             0,
             "#0d0887"
            ],
            [
             0.1111111111111111,
             "#46039f"
            ],
            [
             0.2222222222222222,
             "#7201a8"
            ],
            [
             0.3333333333333333,
             "#9c179e"
            ],
            [
             0.4444444444444444,
             "#bd3786"
            ],
            [
             0.5555555555555556,
             "#d8576b"
            ],
            [
             0.6666666666666666,
             "#ed7953"
            ],
            [
             0.7777777777777778,
             "#fb9f3a"
            ],
            [
             0.8888888888888888,
             "#fdca26"
            ],
            [
             1,
             "#f0f921"
            ]
           ],
           "sequentialminus": [
            [
             0,
             "#0d0887"
            ],
            [
             0.1111111111111111,
             "#46039f"
            ],
            [
             0.2222222222222222,
             "#7201a8"
            ],
            [
             0.3333333333333333,
             "#9c179e"
            ],
            [
             0.4444444444444444,
             "#bd3786"
            ],
            [
             0.5555555555555556,
             "#d8576b"
            ],
            [
             0.6666666666666666,
             "#ed7953"
            ],
            [
             0.7777777777777778,
             "#fb9f3a"
            ],
            [
             0.8888888888888888,
             "#fdca26"
            ],
            [
             1,
             "#f0f921"
            ]
           ]
          },
          "colorway": [
           "#636efa",
           "#EF553B",
           "#00cc96",
           "#ab63fa",
           "#FFA15A",
           "#19d3f3",
           "#FF6692",
           "#B6E880",
           "#FF97FF",
           "#FECB52"
          ],
          "font": {
           "color": "#2a3f5f"
          },
          "geo": {
           "bgcolor": "white",
           "lakecolor": "white",
           "landcolor": "#E5ECF6",
           "showlakes": true,
           "showland": true,
           "subunitcolor": "white"
          },
          "hoverlabel": {
           "align": "left"
          },
          "hovermode": "closest",
          "mapbox": {
           "style": "light"
          },
          "paper_bgcolor": "white",
          "plot_bgcolor": "#E5ECF6",
          "polar": {
           "angularaxis": {
            "gridcolor": "white",
            "linecolor": "white",
            "ticks": ""
           },
           "bgcolor": "#E5ECF6",
           "radialaxis": {
            "gridcolor": "white",
            "linecolor": "white",
            "ticks": ""
           }
          },
          "scene": {
           "xaxis": {
            "backgroundcolor": "#E5ECF6",
            "gridcolor": "white",
            "gridwidth": 2,
            "linecolor": "white",
            "showbackground": true,
            "ticks": "",
            "zerolinecolor": "white"
           },
           "yaxis": {
            "backgroundcolor": "#E5ECF6",
            "gridcolor": "white",
            "gridwidth": 2,
            "linecolor": "white",
            "showbackground": true,
            "ticks": "",
            "zerolinecolor": "white"
           },
           "zaxis": {
            "backgroundcolor": "#E5ECF6",
            "gridcolor": "white",
            "gridwidth": 2,
            "linecolor": "white",
            "showbackground": true,
            "ticks": "",
            "zerolinecolor": "white"
           }
          },
          "shapedefaults": {
           "line": {
            "color": "#2a3f5f"
           }
          },
          "ternary": {
           "aaxis": {
            "gridcolor": "white",
            "linecolor": "white",
            "ticks": ""
           },
           "baxis": {
            "gridcolor": "white",
            "linecolor": "white",
            "ticks": ""
           },
           "bgcolor": "#E5ECF6",
           "caxis": {
            "gridcolor": "white",
            "linecolor": "white",
            "ticks": ""
           }
          },
          "title": {
           "x": 0.05
          },
          "xaxis": {
           "automargin": true,
           "gridcolor": "white",
           "linecolor": "white",
           "ticks": "",
           "title": {
            "standoff": 15
           },
           "zerolinecolor": "white",
           "zerolinewidth": 2
          },
          "yaxis": {
           "automargin": true,
           "gridcolor": "white",
           "linecolor": "white",
           "ticks": "",
           "title": {
            "standoff": 15
           },
           "zerolinecolor": "white",
           "zerolinewidth": 2
          }
         }
        },
        "title": {
         "text": "China: Trend of CO₂ per Capita and Healthy Life Expectancy (2000–2021)"
        },
        "xaxis": {
         "title": {
          "text": "Year"
         }
        },
        "yaxis": {
         "tickfont": {
          "color": "orange"
         },
         "title": {
          "font": {
           "color": "orange"
          },
          "text": "CO₂ per Capita (tons)"
         }
        },
        "yaxis2": {
         "overlaying": "y",
         "side": "right",
         "tickfont": {
          "color": "blue"
         },
         "title": {
          "font": {
           "color": "blue"
          },
          "text": "Healthy Life Expectancy (years)"
         }
        }
       }
      }
     },
     "metadata": {},
     "output_type": "display_data"
    }
   ],
   "source": [
    "# ── Cel: Interactieve Plot met Plotly ──\n",
    "import pandas as pd\n",
    "import plotly.graph_objects as go\n",
    "\n",
    "# Data inladen en voorbereiden (zelfde stappen als voor matplotlib)\n",
    "co2 = pd.read_csv('owid-co2-data.csv', usecols=['country','year','co2_per_capita'])\n",
    "hale = pd.read_csv('C64284D_ALL_LATEST.csv')\n",
    "\n",
    "# Filter Healthy life expectancy\n",
    "hale = (\n",
    "    hale.loc[\n",
    "        (hale['IND_NAME']=='Healthy life expectancy (at birth)') &\n",
    "        (hale['DIM_SEX']=='TOTAL'),\n",
    "        ['GEO_NAME_SHORT','DIM_TIME','AMOUNT_N']\n",
    "    ]\n",
    "    .rename(columns={\n",
    "        'GEO_NAME_SHORT':'country',\n",
    "        'DIM_TIME':'year',\n",
    "        'AMOUNT_N':'healthy_life_expectancy'\n",
    "    })\n",
    ")\n",
    "\n",
    "# Year kolommen als int en merge voor China 2000–2021\n",
    "co2['year'] = co2['year'].astype(int)\n",
    "hale['year'] = hale['year'].astype(int)\n",
    "co2_china = co2.query(\"country=='China' and 2000 <= year <= 2021\")\n",
    "hale_china = hale.query(\"country=='China' and 2000 <= year <= 2021\")\n",
    "china = pd.merge(co2_china, hale_china, on=['country','year']).sort_values('year')\n",
    "\n",
    "# Maak de interactieve figuur\n",
    "fig = go.Figure()\n",
    "\n",
    "# CO₂ per capita (linker y-as)\n",
    "fig.add_trace(go.Scatter(\n",
    "    x=china['year'],\n",
    "    y=china['co2_per_capita'],\n",
    "    name='CO₂ per Capita (tons)',\n",
    "    mode='lines+markers',\n",
    "    marker=dict(color='orange'),\n",
    "    line=dict(color='orange'),\n",
    "    yaxis='y1'\n",
    "))\n",
    "\n",
    "# Healthy life expectancy (rechter y-as)\n",
    "fig.add_trace(go.Scatter(\n",
    "    x=china['year'],\n",
    "    y=china['healthy_life_expectancy'],\n",
    "    name='Healthy Life Expectancy (years)',\n",
    "    mode='lines+markers',\n",
    "    marker=dict(color='blue'),\n",
    "    line=dict(color='blue'),\n",
    "    yaxis='y2'\n",
    "))\n",
    "\n",
    "# Layout met dubbele y-as\n",
    "fig.update_layout(\n",
    "    title='China: Trend of CO₂ per Capita and Healthy Life Expectancy (2000–2021)',\n",
    "    xaxis=dict(title='Year'),\n",
    "    yaxis=dict(\n",
    "        title=dict(\n",
    "            text='CO₂ per Capita (tons)',\n",
    "            font=dict(color='orange')\n",
    "        ),\n",
    "        tickfont=dict(color='orange')\n",
    "    ),\n",
    "    yaxis2=dict(\n",
    "        title=dict(\n",
    "            text='Healthy Life Expectancy (years)',\n",
    "            font=dict(color='blue')\n",
    "        ),\n",
    "        tickfont=dict(color='blue'),\n",
    "        overlaying='y',\n",
    "        side='right'\n",
    "    ),\n",
    "    legend=dict(\n",
    "        orientation='h', \n",
    "        yanchor='bottom', \n",
    "        y=1.02, \n",
    "        x=0.5, \n",
    "        xanchor='center'\n",
    "    )\n",
    ")\n",
    "\n",
    "# Toon interactieve grafiek\n",
    "fig.show()\n",
    "\n",
    "# Optioneel: exporteer naar standalone HTML (voor presentatie zonder code)\n",
    "# fig.write_html(\"china_trend_interactive.html\", include_plotlyjs='cdn')"
   ]
  },
  {
   "cell_type": "code",
   "execution_count": null,
   "id": "5434028f",
   "metadata": {},
   "outputs": [
    {
     "data": {
      "application/vnd.plotly.v1+json": {
       "config": {
        "plotlyServerURL": "https://plot.ly"
       },
       "data": [
        {
         "hovertemplate": "<b>%{hovertext}</b><br><br>Cumulative CO₂ Emissions (tonnes, log scale)=%{x}<br>Healthy Life Expectancy (years)=%{y}<extra></extra>",
         "hovertext": [
          "Afghanistan",
          "Albania",
          "Algeria",
          "Angola",
          "Antigua and Barbuda",
          "Argentina",
          "Armenia",
          "Australia",
          "Austria",
          "Azerbaijan",
          "Bahamas",
          "Bahrain",
          "Bangladesh",
          "Barbados",
          "Belarus",
          "Belgium",
          "Belize",
          "Benin",
          "Bhutan",
          "Bosnia and Herzegovina",
          "Botswana",
          "Brazil",
          "Bulgaria",
          "Burkina Faso",
          "Burundi",
          "Cambodia",
          "Cameroon",
          "Canada",
          "Central African Republic",
          "Chad",
          "Chile",
          "China",
          "Colombia",
          "Comoros",
          "Congo",
          "Costa Rica",
          "Croatia",
          "Cuba",
          "Cyprus",
          "Czechia",
          "Denmark",
          "Djibouti",
          "Dominican Republic",
          "Ecuador",
          "Egypt",
          "El Salvador",
          "Equatorial Guinea",
          "Eritrea",
          "Estonia",
          "Eswatini",
          "Ethiopia",
          "Fiji",
          "Finland",
          "France",
          "Gabon",
          "Gambia",
          "Georgia",
          "Germany",
          "Ghana",
          "Greece",
          "Grenada",
          "Guatemala",
          "Guinea",
          "Guinea-Bissau",
          "Guyana",
          "Haiti",
          "Honduras",
          "Hungary",
          "Iceland",
          "India",
          "Indonesia",
          "Iraq",
          "Ireland",
          "Israel",
          "Italy",
          "Jamaica",
          "Japan",
          "Jordan",
          "Kazakhstan",
          "Kenya",
          "Kiribati",
          "Kuwait",
          "Kyrgyzstan",
          "Latvia",
          "Lebanon",
          "Lesotho",
          "Liberia",
          "Libya",
          "Lithuania",
          "Luxembourg",
          "Madagascar",
          "Malawi",
          "Malaysia",
          "Maldives",
          "Mali",
          "Malta",
          "Mauritania",
          "Mauritius",
          "Mexico",
          "Mongolia",
          "Montenegro",
          "Morocco",
          "Mozambique",
          "Myanmar",
          "Namibia",
          "Nepal",
          "New Zealand",
          "Nicaragua",
          "Niger",
          "Nigeria",
          "North Macedonia",
          "Norway",
          "Oman",
          "Pakistan",
          "Panama",
          "Papua New Guinea",
          "Paraguay",
          "Peru",
          "Philippines",
          "Poland",
          "Portugal",
          "Qatar",
          "Romania",
          "Rwanda",
          "Saint Lucia",
          "Saint Vincent and the Grenadines",
          "Samoa",
          "Sao Tome and Principe",
          "Saudi Arabia",
          "Senegal",
          "Serbia",
          "Seychelles",
          "Sierra Leone",
          "Singapore",
          "Slovakia",
          "Slovenia",
          "Solomon Islands",
          "Somalia",
          "South Africa",
          "South Sudan",
          "Spain",
          "Sri Lanka",
          "Sudan",
          "Suriname",
          "Sweden",
          "Switzerland",
          "Tajikistan",
          "Thailand",
          "Togo",
          "Tonga",
          "Trinidad and Tobago",
          "Tunisia",
          "Turkmenistan",
          "Uganda",
          "Ukraine",
          "United Arab Emirates",
          "Uruguay",
          "Uzbekistan",
          "Vanuatu",
          "Yemen",
          "Zambia",
          "Zimbabwe"
         ],
         "legendgroup": "",
         "marker": {
          "color": "#636efa",
          "symbol": "circle"
         },
         "mode": "markers",
         "name": "",
         "orientation": "v",
         "showlegend": false,
         "type": "scatter",
         "x": {
          "bdata": "MQisHFosaEAZBFYOLcBxQJqZmZk5ybFAz/dT46X0g0AEVg4tsr03QGIQWDlEIMBAL90kBoEdd0DjpZvEMK/RQHE9CteDRbVAJzEIrNwLo0Cmm8QgsNZkQPCnxks30YxAN4lBYOVOl0AdWmQ7379MQPT91HhpGrNAukkMArtVyECcxCCwcogyQH0/NV66wVhANV66SQzCNkBEi2zn+2qNQFCNl24Sk2JAI9v5frrizkAj2/l+qq6tQJ7vp8ZLH1BAEFg5tMj2KEAK16NwPTZiQM3MzMzMSnBA8tJNYrAb4EBeukkMAismQNV46SYx6EJAVOOlmwTOpkCmm8QgZ7MLQRfZzvdTKapAz/dT46UbFEC28/3UeMViQEjhehSu425AjZduEgMgkUCNl24Sg4qaQP7UeOkm5XFAaJHtfG84x0Cyne+nxq2vQBkEVg4tcjJAj8L1KFyShkCe76fGS4eSQFCNl27SbbhA9P3UeOlKbEA9CtejcBlgQDMzMzMzMy9AeekmMQhOmUCyne+nxutDQFTjpZvEeG5ADAIrhxZJR0AhsHJokZ6oQG8Sg8Ci0OJAi2zn+6m3cUD+1HjpJrErQClcj8L1ToRAI9v5fjh19kAQWDm0yE50QJzEILByaa9AnMQgsHLoH0CHFtnO94F6QDeJQWDl+FRAkxgEVg6tI0B3vp8aL61YQCuHFtnOX1JAF9nO91N3b0AMAiuHVm6zQJhuEoPAPmNA8tJNYhhV6UDJdr6fGuLKQA4tsp1PwbBAObTIdj4doUDZzvdTox2iQN0kBoEl19dASgwCK4fue0DdJAaBFZDvQPp+arx0GoVARIts57s+ykC+nxov3ex8QIlBYOXQIv8/okW28/0uqkCgGi/dJO+JQOkmMQisko1AN4lBYOUOhkAlBoGVQ9tOQKRwPQrXM0hAK4cW2Q5foUAAAAAAgCSYQF66SQwCSodAx0s3iUEgV0DLoUW2811IQGZmZmamHLZAarx0kxhEN0CDwMqhRX5QQKwcWmQ7r1lAI9v5fmrEUkCBlUOLbPdbQJqZmZnBTdNAj8L1KFxuhECLbOf7qZFZQPLSTWIQJJpADAIrhxZFZUB7FK5H4ceBQOkmMQisZFJALbKd76dGYkBI4XoUruCcQEoMAiuHgmVAbxKDwMoxR0AnMQis3AuwQC/dJAaBh39AzczMzMw2pEAEVg4tsgCUQK5H4XpUyrJA8tJNYhB4c0CgGi/dJCZlQK5H4XoUOmVAEFg5tMjxnEAj2/l+6lGpQMP1KFzH5tpASOF6FC4YpEDFILBy6DufQC2yne/HmcBA1XjpJjEoPEDXo3A9CtcrQHsUrkfh+hpAc2iR7Xw/GkCPwvUoXI8KQKabxCBAXM5AlkOLbOebbUAzMzMzc5SlQMuhRbbz/SlAhetRuB7FQUAOLbKd7zOfQOxRuB7FPK5AaJHtfD9yikBQjZduEkMkQOF6FK5HEUBAdZMYBP4a1EB3vp8aL41CQIGVQ4uMh8xAWDm0yHa+fUAv3SQGgYl6QJHtfD81nlxAoBov3WRWs0CgGi/dJFynQBBYObTI/nxADi2ynS80u0A730+Nl65PQGZmZmZm5hBAzczMzMzxl0DZzvdT4wiMQD81XroJE6JAAiuHFtk2WUDD9ShcJ6zdQMuhRbYTpbJAmpmZmZlve0DTTWIQ2Pm3QFK4HoXrURJA5dAi2/lthECPwvUoXFduQCPb+X5qNohA",
          "dtype": "f8"
         },
         "xaxis": "x",
         "y": {
          "bdata": "L/oK0oz5SkDtnjws1ERRQLA4nPnVmFBA8gcDz71rS0BuizIbZL5QQCpvRzgtyFBA2ubG9ITHUEALtaZ5x7tRQLUaEvdYvFFAuwopP6nST0DtKqT8pBZQQAqA8QwaeFBA1CtlGeISUED3zJIANb9QQOc6jbRUflBAduCcEaWjUUAp6PaSxlJQQN9sc2N6wktAkq6ZfLOtT0ALYwtBDsxQQAwHQrKA8UpA3eo56X1ZUECLcf4mFJJQQArXo3A9bktArfpcbcXKS0DbUDHO38BOQPWEJR5QQktAg0wychbQUUDBVgkWhy9HQGDNAYI5AkpA96+sNCmDUUAyrOKNzCFRQIums5PBPVFA07zjFB15TUAB3gIJih9MQHFyv0NRflFAeZJ0zeQnUUBETIkkevVQQIM0Y9F0GlJAqkiFsYUyUUAniLoPQMJRQGSvd3+8/0xAcOtunur8T0CNYrml1R5RQLn8h/Tbe09AXYqryr43UEDvrN12oe1KQBmQvd793UtA+rMfKSJPUUB6/N6mPwdJQB+6oL5l8k1AnS6Lic3LTUALmMCtu79RQMwolltaBVJAMuauJeTHTEDpK0gzFoVMQDoGZK93K1BAAp8fRgi5UUAFUfcBSP1MQPIk6ZrJt1FA4iNiSiT1T0B0XmOXqCZPQP5g4Ln3qEpAiGNd3EZPSkAna9RDNJ5MQJDaxMn95ktAtvgUAON9T0Dc14FzRsxQQKnZA63A/lFAJsed0sEqTkCfyJOka2pPQGMoJ9pVVE9AZk6XxcTEUUDVlc/yPBhSQFQdcjPc+lFAhSUeUDajUEASa/EpAIZSQIo8Sbpm5lBA+ie4WFE/UECYUSy3tNZMQEnXTL7ZTkpAIc1YNJ2FUUCrIXGPpXFQQMRfkzXqj1BAvYxiuaV9UEBJaMu5FB9GQKIo0CfydEtAK4cW2c5NUEBnmxvTE6xQQBe86CtI41FADvPlBdinTECkwthCkIdMQAQhWcAEalBAeqUsQxx9UUCOzCN/MFBLQPYjRWRY3VFAUiegibDhTUAkufyH9PdPQJGb4QZ8cFBAIxXGFoIkTkCjryDNWL5QQEc4LXjR109AtqFinL8tSUBMT1jiAW1OQAnh0cYRB0xAj8cMVMarTkD+mqxRD49RQNOkFHR7XVBAUHCxogbDS0DY8PRKWTJLQLdFmQ0yiVBAXi7iOzHXUUA6kst/SCtQQDSFzmvsbkxA1lbsL7srUUDgSnZsBIpMQIiAQ6hSc1BACJRNucJfUUAIlE25wv9OQNEF9S1zKlFA6BN5knS9UUDAWyBB8cNQQD9vKlJhtlBAteBFX0EaTkBRa5p3nCxQQDm536Eo/E9AYvNxbagQT0BVavZAK8xOQPBt+rMfAVBAgjl6/N6uTUB4l4v4TrhQQK1M+KV+AFBAfT81Xrp1SkCXytsRTmNSQLgehetRIlFAM4rlllavUUBMw/ARMeFMQLK61XPS20hA5Ga4AZ8TTEAjoS3nUtRKQNoDrcCQBVJAPujZrPrCUEBG09nJ4PRNQO7O2m0XMk9AzqrP1Vb6UUBkO99PjSFSQFQdcjPcAE9AlLw6x4AQUUCVmj3QChhMQD8djxmoAFBA2IFzRpSOUEAiN8MN+LhQQC7KbJBJDk9A0T/BxYoaTUAFxY8xdxNQQN0HILWJf1BAKnReY5fgUEAz/n3GhStQQFJhbCHI6UxADkqYafvDTEAAUps4uTNLQNXsgVZgiEpA",
          "dtype": "f8"
         },
         "yaxis": "y"
        }
       ],
       "layout": {
        "legend": {
         "tracegroupgap": 0
        },
        "template": {
         "data": {
          "bar": [
           {
            "error_x": {
             "color": "#2a3f5f"
            },
            "error_y": {
             "color": "#2a3f5f"
            },
            "marker": {
             "line": {
              "color": "#E5ECF6",
              "width": 0.5
             },
             "pattern": {
              "fillmode": "overlay",
              "size": 10,
              "solidity": 0.2
             }
            },
            "type": "bar"
           }
          ],
          "barpolar": [
           {
            "marker": {
             "line": {
              "color": "#E5ECF6",
              "width": 0.5
             },
             "pattern": {
              "fillmode": "overlay",
              "size": 10,
              "solidity": 0.2
             }
            },
            "type": "barpolar"
           }
          ],
          "carpet": [
           {
            "aaxis": {
             "endlinecolor": "#2a3f5f",
             "gridcolor": "white",
             "linecolor": "white",
             "minorgridcolor": "white",
             "startlinecolor": "#2a3f5f"
            },
            "baxis": {
             "endlinecolor": "#2a3f5f",
             "gridcolor": "white",
             "linecolor": "white",
             "minorgridcolor": "white",
             "startlinecolor": "#2a3f5f"
            },
            "type": "carpet"
           }
          ],
          "choropleth": [
           {
            "colorbar": {
             "outlinewidth": 0,
             "ticks": ""
            },
            "type": "choropleth"
           }
          ],
          "contour": [
           {
            "colorbar": {
             "outlinewidth": 0,
             "ticks": ""
            },
            "colorscale": [
             [
              0,
              "#0d0887"
             ],
             [
              0.1111111111111111,
              "#46039f"
             ],
             [
              0.2222222222222222,
              "#7201a8"
             ],
             [
              0.3333333333333333,
              "#9c179e"
             ],
             [
              0.4444444444444444,
              "#bd3786"
             ],
             [
              0.5555555555555556,
              "#d8576b"
             ],
             [
              0.6666666666666666,
              "#ed7953"
             ],
             [
              0.7777777777777778,
              "#fb9f3a"
             ],
             [
              0.8888888888888888,
              "#fdca26"
             ],
             [
              1,
              "#f0f921"
             ]
            ],
            "type": "contour"
           }
          ],
          "contourcarpet": [
           {
            "colorbar": {
             "outlinewidth": 0,
             "ticks": ""
            },
            "type": "contourcarpet"
           }
          ],
          "heatmap": [
           {
            "colorbar": {
             "outlinewidth": 0,
             "ticks": ""
            },
            "colorscale": [
             [
              0,
              "#0d0887"
             ],
             [
              0.1111111111111111,
              "#46039f"
             ],
             [
              0.2222222222222222,
              "#7201a8"
             ],
             [
              0.3333333333333333,
              "#9c179e"
             ],
             [
              0.4444444444444444,
              "#bd3786"
             ],
             [
              0.5555555555555556,
              "#d8576b"
             ],
             [
              0.6666666666666666,
              "#ed7953"
             ],
             [
              0.7777777777777778,
              "#fb9f3a"
             ],
             [
              0.8888888888888888,
              "#fdca26"
             ],
             [
              1,
              "#f0f921"
             ]
            ],
            "type": "heatmap"
           }
          ],
          "histogram": [
           {
            "marker": {
             "pattern": {
              "fillmode": "overlay",
              "size": 10,
              "solidity": 0.2
             }
            },
            "type": "histogram"
           }
          ],
          "histogram2d": [
           {
            "colorbar": {
             "outlinewidth": 0,
             "ticks": ""
            },
            "colorscale": [
             [
              0,
              "#0d0887"
             ],
             [
              0.1111111111111111,
              "#46039f"
             ],
             [
              0.2222222222222222,
              "#7201a8"
             ],
             [
              0.3333333333333333,
              "#9c179e"
             ],
             [
              0.4444444444444444,
              "#bd3786"
             ],
             [
              0.5555555555555556,
              "#d8576b"
             ],
             [
              0.6666666666666666,
              "#ed7953"
             ],
             [
              0.7777777777777778,
              "#fb9f3a"
             ],
             [
              0.8888888888888888,
              "#fdca26"
             ],
             [
              1,
              "#f0f921"
             ]
            ],
            "type": "histogram2d"
           }
          ],
          "histogram2dcontour": [
           {
            "colorbar": {
             "outlinewidth": 0,
             "ticks": ""
            },
            "colorscale": [
             [
              0,
              "#0d0887"
             ],
             [
              0.1111111111111111,
              "#46039f"
             ],
             [
              0.2222222222222222,
              "#7201a8"
             ],
             [
              0.3333333333333333,
              "#9c179e"
             ],
             [
              0.4444444444444444,
              "#bd3786"
             ],
             [
              0.5555555555555556,
              "#d8576b"
             ],
             [
              0.6666666666666666,
              "#ed7953"
             ],
             [
              0.7777777777777778,
              "#fb9f3a"
             ],
             [
              0.8888888888888888,
              "#fdca26"
             ],
             [
              1,
              "#f0f921"
             ]
            ],
            "type": "histogram2dcontour"
           }
          ],
          "mesh3d": [
           {
            "colorbar": {
             "outlinewidth": 0,
             "ticks": ""
            },
            "type": "mesh3d"
           }
          ],
          "parcoords": [
           {
            "line": {
             "colorbar": {
              "outlinewidth": 0,
              "ticks": ""
             }
            },
            "type": "parcoords"
           }
          ],
          "pie": [
           {
            "automargin": true,
            "type": "pie"
           }
          ],
          "scatter": [
           {
            "fillpattern": {
             "fillmode": "overlay",
             "size": 10,
             "solidity": 0.2
            },
            "type": "scatter"
           }
          ],
          "scatter3d": [
           {
            "line": {
             "colorbar": {
              "outlinewidth": 0,
              "ticks": ""
             }
            },
            "marker": {
             "colorbar": {
              "outlinewidth": 0,
              "ticks": ""
             }
            },
            "type": "scatter3d"
           }
          ],
          "scattercarpet": [
           {
            "marker": {
             "colorbar": {
              "outlinewidth": 0,
              "ticks": ""
             }
            },
            "type": "scattercarpet"
           }
          ],
          "scattergeo": [
           {
            "marker": {
             "colorbar": {
              "outlinewidth": 0,
              "ticks": ""
             }
            },
            "type": "scattergeo"
           }
          ],
          "scattergl": [
           {
            "marker": {
             "colorbar": {
              "outlinewidth": 0,
              "ticks": ""
             }
            },
            "type": "scattergl"
           }
          ],
          "scattermap": [
           {
            "marker": {
             "colorbar": {
              "outlinewidth": 0,
              "ticks": ""
             }
            },
            "type": "scattermap"
           }
          ],
          "scattermapbox": [
           {
            "marker": {
             "colorbar": {
              "outlinewidth": 0,
              "ticks": ""
             }
            },
            "type": "scattermapbox"
           }
          ],
          "scatterpolar": [
           {
            "marker": {
             "colorbar": {
              "outlinewidth": 0,
              "ticks": ""
             }
            },
            "type": "scatterpolar"
           }
          ],
          "scatterpolargl": [
           {
            "marker": {
             "colorbar": {
              "outlinewidth": 0,
              "ticks": ""
             }
            },
            "type": "scatterpolargl"
           }
          ],
          "scatterternary": [
           {
            "marker": {
             "colorbar": {
              "outlinewidth": 0,
              "ticks": ""
             }
            },
            "type": "scatterternary"
           }
          ],
          "surface": [
           {
            "colorbar": {
             "outlinewidth": 0,
             "ticks": ""
            },
            "colorscale": [
             [
              0,
              "#0d0887"
             ],
             [
              0.1111111111111111,
              "#46039f"
             ],
             [
              0.2222222222222222,
              "#7201a8"
             ],
             [
              0.3333333333333333,
              "#9c179e"
             ],
             [
              0.4444444444444444,
              "#bd3786"
             ],
             [
              0.5555555555555556,
              "#d8576b"
             ],
             [
              0.6666666666666666,
              "#ed7953"
             ],
             [
              0.7777777777777778,
              "#fb9f3a"
             ],
             [
              0.8888888888888888,
              "#fdca26"
             ],
             [
              1,
              "#f0f921"
             ]
            ],
            "type": "surface"
           }
          ],
          "table": [
           {
            "cells": {
             "fill": {
              "color": "#EBF0F8"
             },
             "line": {
              "color": "white"
             }
            },
            "header": {
             "fill": {
              "color": "#C8D4E3"
             },
             "line": {
              "color": "white"
             }
            },
            "type": "table"
           }
          ]
         },
         "layout": {
          "annotationdefaults": {
           "arrowcolor": "#2a3f5f",
           "arrowhead": 0,
           "arrowwidth": 1
          },
          "autotypenumbers": "strict",
          "coloraxis": {
           "colorbar": {
            "outlinewidth": 0,
            "ticks": ""
           }
          },
          "colorscale": {
           "diverging": [
            [
             0,
             "#8e0152"
            ],
            [
             0.1,
             "#c51b7d"
            ],
            [
             0.2,
             "#de77ae"
            ],
            [
             0.3,
             "#f1b6da"
            ],
            [
             0.4,
             "#fde0ef"
            ],
            [
             0.5,
             "#f7f7f7"
            ],
            [
             0.6,
             "#e6f5d0"
            ],
            [
             0.7,
             "#b8e186"
            ],
            [
             0.8,
             "#7fbc41"
            ],
            [
             0.9,
             "#4d9221"
            ],
            [
             1,
             "#276419"
            ]
           ],
           "sequential": [
            [
             0,
             "#0d0887"
            ],
            [
             0.1111111111111111,
             "#46039f"
            ],
            [
             0.2222222222222222,
             "#7201a8"
            ],
            [
             0.3333333333333333,
             "#9c179e"
            ],
            [
             0.4444444444444444,
             "#bd3786"
            ],
            [
             0.5555555555555556,
             "#d8576b"
            ],
            [
             0.6666666666666666,
             "#ed7953"
            ],
            [
             0.7777777777777778,
             "#fb9f3a"
            ],
            [
             0.8888888888888888,
             "#fdca26"
            ],
            [
             1,
             "#f0f921"
            ]
           ],
           "sequentialminus": [
            [
             0,
             "#0d0887"
            ],
            [
             0.1111111111111111,
             "#46039f"
            ],
            [
             0.2222222222222222,
             "#7201a8"
            ],
            [
             0.3333333333333333,
             "#9c179e"
            ],
            [
             0.4444444444444444,
             "#bd3786"
            ],
            [
             0.5555555555555556,
             "#d8576b"
            ],
            [
             0.6666666666666666,
             "#ed7953"
            ],
            [
             0.7777777777777778,
             "#fb9f3a"
            ],
            [
             0.8888888888888888,
             "#fdca26"
            ],
            [
             1,
             "#f0f921"
            ]
           ]
          },
          "colorway": [
           "#636efa",
           "#EF553B",
           "#00cc96",
           "#ab63fa",
           "#FFA15A",
           "#19d3f3",
           "#FF6692",
           "#B6E880",
           "#FF97FF",
           "#FECB52"
          ],
          "font": {
           "color": "#2a3f5f"
          },
          "geo": {
           "bgcolor": "white",
           "lakecolor": "white",
           "landcolor": "#E5ECF6",
           "showlakes": true,
           "showland": true,
           "subunitcolor": "white"
          },
          "hoverlabel": {
           "align": "left"
          },
          "hovermode": "closest",
          "mapbox": {
           "style": "light"
          },
          "paper_bgcolor": "white",
          "plot_bgcolor": "#E5ECF6",
          "polar": {
           "angularaxis": {
            "gridcolor": "white",
            "linecolor": "white",
            "ticks": ""
           },
           "bgcolor": "#E5ECF6",
           "radialaxis": {
            "gridcolor": "white",
            "linecolor": "white",
            "ticks": ""
           }
          },
          "scene": {
           "xaxis": {
            "backgroundcolor": "#E5ECF6",
            "gridcolor": "white",
            "gridwidth": 2,
            "linecolor": "white",
            "showbackground": true,
            "ticks": "",
            "zerolinecolor": "white"
           },
           "yaxis": {
            "backgroundcolor": "#E5ECF6",
            "gridcolor": "white",
            "gridwidth": 2,
            "linecolor": "white",
            "showbackground": true,
            "ticks": "",
            "zerolinecolor": "white"
           },
           "zaxis": {
            "backgroundcolor": "#E5ECF6",
            "gridcolor": "white",
            "gridwidth": 2,
            "linecolor": "white",
            "showbackground": true,
            "ticks": "",
            "zerolinecolor": "white"
           }
          },
          "shapedefaults": {
           "line": {
            "color": "#2a3f5f"
           }
          },
          "ternary": {
           "aaxis": {
            "gridcolor": "white",
            "linecolor": "white",
            "ticks": ""
           },
           "baxis": {
            "gridcolor": "white",
            "linecolor": "white",
            "ticks": ""
           },
           "bgcolor": "#E5ECF6",
           "caxis": {
            "gridcolor": "white",
            "linecolor": "white",
            "ticks": ""
           }
          },
          "title": {
           "x": 0.05
          },
          "xaxis": {
           "automargin": true,
           "gridcolor": "white",
           "linecolor": "white",
           "ticks": "",
           "title": {
            "standoff": 15
           },
           "zerolinecolor": "white",
           "zerolinewidth": 2
          },
          "yaxis": {
           "automargin": true,
           "gridcolor": "white",
           "linecolor": "white",
           "ticks": "",
           "title": {
            "standoff": 15
           },
           "zerolinecolor": "white",
           "zerolinewidth": 2
          }
         }
        },
        "title": {
         "text": "Historical CO₂ Emissions vs Healthy Life Expectancy (2019)"
        },
        "xaxis": {
         "anchor": "y",
         "domain": [
          0,
          1
         ],
         "title": {
          "text": "Cumulative CO₂ Emissions (tonnes, log scale)"
         },
         "type": "log"
        },
        "yaxis": {
         "anchor": "x",
         "domain": [
          0,
          1
         ],
         "title": {
          "text": "Healthy Life Expectancy (years)"
         }
        }
       }
      }
     },
     "metadata": {},
     "output_type": "display_data"
    }
   ],
   "source": [
    "import pandas as pd\n",
    "import plotly.express as px\n",
    "\n",
    "# Load CO₂ data\n",
    "co2 = pd.read_csv('owid-co2-data.csv', usecols=['iso_code', 'country', 'year', 'co2_per_capita', 'cumulative_co2'])\n",
    "\n",
    "# Load and filter HALE data\n",
    "hale = pd.read_csv('C64284D_ALL_LATEST.csv')\n",
    "hale = (\n",
    "    hale.loc[\n",
    "        (hale['IND_NAME'] == 'Healthy life expectancy (at birth)') &\n",
    "        (hale['DIM_SEX'] == 'TOTAL'),\n",
    "        ['GEO_NAME_SHORT', 'DIM_TIME', 'AMOUNT_N']\n",
    "    ]\n",
    "    .rename(columns={\n",
    "        'GEO_NAME_SHORT': 'country',\n",
    "        'DIM_TIME': 'year',\n",
    "        'AMOUNT_N': 'healthy_life_expectancy_at_birth'\n",
    "    })\n",
    ")\n",
    "\n",
    "# Convert year columns to int\n",
    "co2['year'] = co2['year'].astype(int)\n",
    "hale['year'] = hale['year'].astype(int)\n",
    "\n",
    "# Filter to specific years\n",
    "years = [2000, 2010, 2015, 2019, 2021]\n",
    "co2 = co2[co2['year'].isin(years)]\n",
    "hale = hale[hale['year'].isin(years)]\n",
    "\n",
    "# Filter valid country ISO codes\n",
    "co2 = co2[co2['iso_code'].str.len() == 3]\n",
    "\n",
    "# Merge datasets\n",
    "merged_df = pd.merge(co2, hale, on=['country', 'year'], how='inner')\n",
    "merged_df.dropna(inplace=True)\n",
    "\n",
    "# Create scatter plot for 2019\n",
    "fig = px.scatter(\n",
    "    merged_df[merged_df['year'] == 2019],\n",
    "    x='cumulative_co2',\n",
    "    y='healthy_life_expectancy_at_birth',\n",
    "    hover_name='country',\n",
    "    log_x=True,\n",
    "    labels={\n",
    "        'cumulative_co2': 'Cumulative CO₂ Emissions (tonnes, log scale)',\n",
    "        'healthy_life_expectancy_at_birth': 'Healthy Life Expectancy (years)'\n",
    "    },\n",
    "    title='Historical CO₂ Emissions vs Healthy Life Expectancy (2019)'\n",
    ")\n",
    "\n",
    "fig.show()\n",
    "\n"
   ]
  },
  {
   "cell_type": "code",
   "execution_count": null,
   "id": "ebedab88",
   "metadata": {},
   "outputs": [
    {
     "data": {
      "application/vnd.plotly.v1+json": {
       "config": {
        "plotlyServerURL": "https://plot.ly"
       },
       "data": [
        {
         "geo": "geo",
         "hovertemplate": "<b>%{hovertext}</b><br><br>co2_per_capita=%{marker.size}<br>iso_code=%{location}<br>healthy_life_expectancy_at_birth=%{marker.color}<extra></extra>",
         "hovertext": [
          "Afghanistan",
          "Albania",
          "Algeria",
          "Angola",
          "Antigua and Barbuda",
          "Argentina",
          "Armenia",
          "Australia",
          "Austria",
          "Azerbaijan",
          "Bahamas",
          "Bahrain",
          "Bangladesh",
          "Barbados",
          "Belarus",
          "Belgium",
          "Belize",
          "Benin",
          "Bhutan",
          "Bosnia and Herzegovina",
          "Botswana",
          "Brazil",
          "Bulgaria",
          "Burkina Faso",
          "Burundi",
          "Cambodia",
          "Cameroon",
          "Canada",
          "Central African Republic",
          "Chad",
          "Chile",
          "China",
          "Colombia",
          "Comoros",
          "Congo",
          "Costa Rica",
          "Croatia",
          "Cuba",
          "Cyprus",
          "Czechia",
          "Denmark",
          "Djibouti",
          "Dominican Republic",
          "Ecuador",
          "Egypt",
          "El Salvador",
          "Equatorial Guinea",
          "Eritrea",
          "Estonia",
          "Eswatini",
          "Ethiopia",
          "Fiji",
          "Finland",
          "France",
          "Gabon",
          "Gambia",
          "Georgia",
          "Germany",
          "Ghana",
          "Greece",
          "Grenada",
          "Guatemala",
          "Guinea",
          "Guinea-Bissau",
          "Guyana",
          "Haiti",
          "Honduras",
          "Hungary",
          "Iceland",
          "India",
          "Indonesia",
          "Iraq",
          "Ireland",
          "Israel",
          "Italy",
          "Jamaica",
          "Japan",
          "Jordan",
          "Kazakhstan",
          "Kenya",
          "Kiribati",
          "Kuwait",
          "Kyrgyzstan",
          "Latvia",
          "Lebanon",
          "Lesotho",
          "Liberia",
          "Libya",
          "Lithuania",
          "Luxembourg",
          "Madagascar",
          "Malawi",
          "Malaysia",
          "Maldives",
          "Mali",
          "Malta",
          "Mauritania",
          "Mauritius",
          "Mexico",
          "Mongolia",
          "Montenegro",
          "Morocco",
          "Mozambique",
          "Myanmar",
          "Namibia",
          "Nepal",
          "New Zealand",
          "Nicaragua",
          "Niger",
          "Nigeria",
          "North Macedonia",
          "Norway",
          "Oman",
          "Pakistan",
          "Panama",
          "Papua New Guinea",
          "Paraguay",
          "Peru",
          "Philippines",
          "Poland",
          "Portugal",
          "Qatar",
          "Romania",
          "Rwanda",
          "Saint Lucia",
          "Saint Vincent and the Grenadines",
          "Samoa",
          "Sao Tome and Principe",
          "Saudi Arabia",
          "Senegal",
          "Serbia",
          "Seychelles",
          "Sierra Leone",
          "Singapore",
          "Slovakia",
          "Slovenia",
          "Solomon Islands",
          "Somalia",
          "South Africa",
          "South Sudan",
          "Spain",
          "Sri Lanka",
          "Sudan",
          "Suriname",
          "Sweden",
          "Switzerland",
          "Tajikistan",
          "Thailand",
          "Togo",
          "Tonga",
          "Trinidad and Tobago",
          "Tunisia",
          "Turkmenistan",
          "Uganda",
          "Ukraine",
          "United Arab Emirates",
          "Uruguay",
          "Uzbekistan",
          "Vanuatu",
          "Yemen",
          "Zambia",
          "Zimbabwe"
         ],
         "legendgroup": "",
         "locations": [
          "AFG",
          "ALB",
          "DZA",
          "AGO",
          "ATG",
          "ARG",
          "ARM",
          "AUS",
          "AUT",
          "AZE",
          "BHS",
          "BHR",
          "BGD",
          "BRB",
          "BLR",
          "BEL",
          "BLZ",
          "BEN",
          "BTN",
          "BIH",
          "BWA",
          "BRA",
          "BGR",
          "BFA",
          "BDI",
          "KHM",
          "CMR",
          "CAN",
          "CAF",
          "TCD",
          "CHL",
          "CHN",
          "COL",
          "COM",
          "COG",
          "CRI",
          "HRV",
          "CUB",
          "CYP",
          "CZE",
          "DNK",
          "DJI",
          "DOM",
          "ECU",
          "EGY",
          "SLV",
          "GNQ",
          "ERI",
          "EST",
          "SWZ",
          "ETH",
          "FJI",
          "FIN",
          "FRA",
          "GAB",
          "GMB",
          "GEO",
          "DEU",
          "GHA",
          "GRC",
          "GRD",
          "GTM",
          "GIN",
          "GNB",
          "GUY",
          "HTI",
          "HND",
          "HUN",
          "ISL",
          "IND",
          "IDN",
          "IRQ",
          "IRL",
          "ISR",
          "ITA",
          "JAM",
          "JPN",
          "JOR",
          "KAZ",
          "KEN",
          "KIR",
          "KWT",
          "KGZ",
          "LVA",
          "LBN",
          "LSO",
          "LBR",
          "LBY",
          "LTU",
          "LUX",
          "MDG",
          "MWI",
          "MYS",
          "MDV",
          "MLI",
          "MLT",
          "MRT",
          "MUS",
          "MEX",
          "MNG",
          "MNE",
          "MAR",
          "MOZ",
          "MMR",
          "NAM",
          "NPL",
          "NZL",
          "NIC",
          "NER",
          "NGA",
          "MKD",
          "NOR",
          "OMN",
          "PAK",
          "PAN",
          "PNG",
          "PRY",
          "PER",
          "PHL",
          "POL",
          "PRT",
          "QAT",
          "ROU",
          "RWA",
          "LCA",
          "VCT",
          "WSM",
          "STP",
          "SAU",
          "SEN",
          "SRB",
          "SYC",
          "SLE",
          "SGP",
          "SVK",
          "SVN",
          "SLB",
          "SOM",
          "ZAF",
          "SSD",
          "ESP",
          "LKA",
          "SDN",
          "SUR",
          "SWE",
          "CHE",
          "TJK",
          "THA",
          "TGO",
          "TON",
          "TTO",
          "TUN",
          "TKM",
          "UGA",
          "UKR",
          "ARE",
          "URY",
          "UZB",
          "VUT",
          "YEM",
          "ZMB",
          "ZWE"
         ],
         "marker": {
          "color": {
           "bdata": "L/oK0oz5SkDtnjws1ERRQLA4nPnVmFBA8gcDz71rS0BuizIbZL5QQCpvRzgtyFBA2ubG9ITHUEALtaZ5x7tRQLUaEvdYvFFAuwopP6nST0DtKqT8pBZQQAqA8QwaeFBA1CtlGeISUED3zJIANb9QQOc6jbRUflBAduCcEaWjUUAp6PaSxlJQQN9sc2N6wktAkq6ZfLOtT0ALYwtBDsxQQAwHQrKA8UpA3eo56X1ZUECLcf4mFJJQQArXo3A9bktArfpcbcXKS0DbUDHO38BOQPWEJR5QQktAg0wychbQUUDBVgkWhy9HQGDNAYI5AkpA96+sNCmDUUAyrOKNzCFRQIums5PBPVFA07zjFB15TUAB3gIJih9MQHFyv0NRflFAeZJ0zeQnUUBETIkkevVQQIM0Y9F0GlJAqkiFsYUyUUAniLoPQMJRQGSvd3+8/0xAcOtunur8T0CNYrml1R5RQLn8h/Tbe09AXYqryr43UEDvrN12oe1KQBmQvd793UtA+rMfKSJPUUB6/N6mPwdJQB+6oL5l8k1AnS6Lic3LTUALmMCtu79RQMwolltaBVJAMuauJeTHTEDpK0gzFoVMQDoGZK93K1BAAp8fRgi5UUAFUfcBSP1MQPIk6ZrJt1FA4iNiSiT1T0B0XmOXqCZPQP5g4Ln3qEpAiGNd3EZPSkAna9RDNJ5MQJDaxMn95ktAtvgUAON9T0Dc14FzRsxQQKnZA63A/lFAJsed0sEqTkCfyJOka2pPQGMoJ9pVVE9AZk6XxcTEUUDVlc/yPBhSQFQdcjPc+lFAhSUeUDajUEASa/EpAIZSQIo8Sbpm5lBA+ie4WFE/UECYUSy3tNZMQEnXTL7ZTkpAIc1YNJ2FUUCrIXGPpXFQQMRfkzXqj1BAvYxiuaV9UEBJaMu5FB9GQKIo0CfydEtAK4cW2c5NUEBnmxvTE6xQQBe86CtI41FADvPlBdinTECkwthCkIdMQAQhWcAEalBAeqUsQxx9UUCOzCN/MFBLQPYjRWRY3VFAUiegibDhTUAkufyH9PdPQJGb4QZ8cFBAIxXGFoIkTkCjryDNWL5QQEc4LXjR109AtqFinL8tSUBMT1jiAW1OQAnh0cYRB0xAj8cMVMarTkD+mqxRD49RQNOkFHR7XVBAUHCxogbDS0DY8PRKWTJLQLdFmQ0yiVBAXi7iOzHXUUA6kst/SCtQQDSFzmvsbkxA1lbsL7srUUDgSnZsBIpMQIiAQ6hSc1BACJRNucJfUUAIlE25wv9OQNEF9S1zKlFA6BN5knS9UUDAWyBB8cNQQD9vKlJhtlBAteBFX0EaTkBRa5p3nCxQQDm536Eo/E9AYvNxbagQT0BVavZAK8xOQPBt+rMfAVBAgjl6/N6uTUB4l4v4TrhQQK1M+KV+AFBAfT81Xrp1SkCXytsRTmNSQLgehetRIlFAM4rlllavUUBMw/ARMeFMQLK61XPS20hA5Ga4AZ8TTEAjoS3nUtRKQNoDrcCQBVJAPujZrPrCUEBG09nJ4PRNQO7O2m0XMk9AzqrP1Vb6UUBkO99PjSFSQFQdcjPcAE9AlLw6x4AQUUCVmj3QChhMQD8djxmoAFBA2IFzRpSOUEAiN8MN+LhQQC7KbJBJDk9A0T/BxYoaTUAFxY8xdxNQQN0HILWJf1BAKnReY5fgUEAz/n3GhStQQFJhbCHI6UxADkqYafvDTEAAUps4uTNLQNXsgVZgiEpA",
           "dtype": "f8"
          },
          "coloraxis": "coloraxis",
          "size": {
           "bdata": "5/up8dJN0j/4U+Olm8T6Px+F61G4nhBAmG4Sg8DK5T/FILByaBEcQI2XbhKDwA9AHVpkO99PAUA3iUFg5VAwQLTIdr6fmh5Ad76fGi/dDUBmZmZmZmYZQOxRuB6FSzlAZmZmZmZm4j9SuB6F61EUQG3n+6nxUhpAmpmZmZlZIUCHFtnO91P9PzvfT42Xbto/Vg4tsp3vAEDhehSuR+EYQBSuR+F6FAdAqMZLN4lBAkAj2/l+ajwYQPT91HjpJtE/eekmMQisrD8UrkfhehTyP1TjpZvEINg/AiuHFtnOLkBaZDvfT42nP0SLbOf7qcE/RIts5/spE0C0yHa+nxoeQH0/NV66Sf4/8tJNYhBY2T9iEFg5tMj0P6RwPQrXo/g/MQisHFrkEUCq8dJNYhAAQKJFtvP91BZApHA9CtcjI0BiEFg5tEgVQFYOLbKd798/16NwPQrXBEB7FK5H4XoCQHNoke18PwNABoGVQ4ts8z9QjZduEoMKQEa28/3UeMk/EoPAyqGFIkBmZmZmZmbuP99PjZduEsM/g8DKoUW29z9YObTIdr4eQHnpJjEILBNAAiuHFtnOAkDl0CLb+X7SP1YOLbKd7wZAPQrXo3D9IEDNzMzMzMzgP9V46SYxiBhAWDm0yHa+BkCq8dJNYhDyP90kBoGVQ9M/y6FFtvP9xD+yne+nxksLQD81XrpJDNI/PzVeukkM8j9U46WbxCAUQCuHFtnOtyNAf2q8dJMY/j/+1HjpJjEDQEa28/3UeBJAw/UoXI9CHkCamZmZmRkbQGQ730+NlxZADAIrhxbZCkAzMzMzM3MhQFpkO99PjQJAtvP91HipLED4U+Olm8TYP6AaL90kBuE/Vg4tsp1vOEB9PzVeukn2PyuHFtnO9w9Ag8DKoUW2EUCyne+nxkvxP65H4XoUrsc/46WbxCDwJUAEVg4tsp0TQAisHFpkey9A2/l+arx0wz8K16NwPQq3PyPb+X5qvCBADAIrhxZZEEDufD81XrrRP166SQwCKwpAJQaBlUOL8D8fhetRuB4MQGIQWDm0yA1AlkOLbOc7LUAZBFYOLTIQQJHtfD81Xv4/EFg5tMh2zj+mm8QgsHLkPy/dJAaBlfk/I9v5fmq83D+mm8QgsHIdQMP1KFyPwuk/KVyPwvUovD+mm8QgsHLkPx+F61G4HhBAGy/dJAYBIEBYObTIdj4vQM3MzMzMzOw/zczMzMzMCEBkO99PjZfqPyuHFtnO9/M/YhBYObTI/D+4HoXrUbj0Pzm0yHa+nyBAZmZmZmZmEkA9CtejcA1CQJHtfD81Xg9AMQisHFpkuz+amZmZmZkGQClcj8L1KAFAeekmMQis9D9xPQrXo3DlP05iEFg5lDVAd76fGi/d6D8GgZVDi2wZQK5H4XoULhRApHA9CtejwD/wp8ZLN0khQIcW2c730xhA2/l+arz0GkCYbhKDwMrZP3sUrkfheqQ/Di2yne8nH0AX2c73U+PFP28Sg8DKIRVAvHSTGARW7j9mZmZmZmbeP4GVQ4tsZxFALbKd76fGD0A5tMh2vh8RQMl2vp8aL+0/ukkMAiuHD0Dwp8ZLN4nRP2ZmZmZmZvg/16NwPQp3O0Cmm8QgsHIEQFK4HoXrkSJA9P3UeOkmwT9zaJHtfL8TQFYOLbKdbzdA/tR46SYx/j8dWmQ7308KQBSuR+F6FOI/xSCwcmiR1T83iUFg5dDaPxsv3SQGgeU/",
           "dtype": "f8"
          },
          "sizemode": "area",
          "sizeref": 0.0902625,
          "symbol": "circle"
         },
         "mode": "markers",
         "name": "",
         "showlegend": false,
         "type": "scattergeo"
        }
       ],
       "layout": {
        "coloraxis": {
         "colorbar": {
          "title": {
           "text": "healthy_life_expectancy_at_birth"
          }
         },
         "colorscale": [
          [
           0,
           "#440154"
          ],
          [
           0.1111111111111111,
           "#482878"
          ],
          [
           0.2222222222222222,
           "#3e4989"
          ],
          [
           0.3333333333333333,
           "#31688e"
          ],
          [
           0.4444444444444444,
           "#26828e"
          ],
          [
           0.5555555555555556,
           "#1f9e89"
          ],
          [
           0.6666666666666666,
           "#35b779"
          ],
          [
           0.7777777777777778,
           "#6ece58"
          ],
          [
           0.8888888888888888,
           "#b5de2b"
          ],
          [
           1,
           "#fde725"
          ]
         ]
        },
        "geo": {
         "center": {},
         "domain": {
          "x": [
           0,
           1
          ],
          "y": [
           0,
           1
          ]
         }
        },
        "legend": {
         "itemsizing": "constant",
         "tracegroupgap": 0
        },
        "template": {
         "data": {
          "bar": [
           {
            "error_x": {
             "color": "#2a3f5f"
            },
            "error_y": {
             "color": "#2a3f5f"
            },
            "marker": {
             "line": {
              "color": "#E5ECF6",
              "width": 0.5
             },
             "pattern": {
              "fillmode": "overlay",
              "size": 10,
              "solidity": 0.2
             }
            },
            "type": "bar"
           }
          ],
          "barpolar": [
           {
            "marker": {
             "line": {
              "color": "#E5ECF6",
              "width": 0.5
             },
             "pattern": {
              "fillmode": "overlay",
              "size": 10,
              "solidity": 0.2
             }
            },
            "type": "barpolar"
           }
          ],
          "carpet": [
           {
            "aaxis": {
             "endlinecolor": "#2a3f5f",
             "gridcolor": "white",
             "linecolor": "white",
             "minorgridcolor": "white",
             "startlinecolor": "#2a3f5f"
            },
            "baxis": {
             "endlinecolor": "#2a3f5f",
             "gridcolor": "white",
             "linecolor": "white",
             "minorgridcolor": "white",
             "startlinecolor": "#2a3f5f"
            },
            "type": "carpet"
           }
          ],
          "choropleth": [
           {
            "colorbar": {
             "outlinewidth": 0,
             "ticks": ""
            },
            "type": "choropleth"
           }
          ],
          "contour": [
           {
            "colorbar": {
             "outlinewidth": 0,
             "ticks": ""
            },
            "colorscale": [
             [
              0,
              "#0d0887"
             ],
             [
              0.1111111111111111,
              "#46039f"
             ],
             [
              0.2222222222222222,
              "#7201a8"
             ],
             [
              0.3333333333333333,
              "#9c179e"
             ],
             [
              0.4444444444444444,
              "#bd3786"
             ],
             [
              0.5555555555555556,
              "#d8576b"
             ],
             [
              0.6666666666666666,
              "#ed7953"
             ],
             [
              0.7777777777777778,
              "#fb9f3a"
             ],
             [
              0.8888888888888888,
              "#fdca26"
             ],
             [
              1,
              "#f0f921"
             ]
            ],
            "type": "contour"
           }
          ],
          "contourcarpet": [
           {
            "colorbar": {
             "outlinewidth": 0,
             "ticks": ""
            },
            "type": "contourcarpet"
           }
          ],
          "heatmap": [
           {
            "colorbar": {
             "outlinewidth": 0,
             "ticks": ""
            },
            "colorscale": [
             [
              0,
              "#0d0887"
             ],
             [
              0.1111111111111111,
              "#46039f"
             ],
             [
              0.2222222222222222,
              "#7201a8"
             ],
             [
              0.3333333333333333,
              "#9c179e"
             ],
             [
              0.4444444444444444,
              "#bd3786"
             ],
             [
              0.5555555555555556,
              "#d8576b"
             ],
             [
              0.6666666666666666,
              "#ed7953"
             ],
             [
              0.7777777777777778,
              "#fb9f3a"
             ],
             [
              0.8888888888888888,
              "#fdca26"
             ],
             [
              1,
              "#f0f921"
             ]
            ],
            "type": "heatmap"
           }
          ],
          "histogram": [
           {
            "marker": {
             "pattern": {
              "fillmode": "overlay",
              "size": 10,
              "solidity": 0.2
             }
            },
            "type": "histogram"
           }
          ],
          "histogram2d": [
           {
            "colorbar": {
             "outlinewidth": 0,
             "ticks": ""
            },
            "colorscale": [
             [
              0,
              "#0d0887"
             ],
             [
              0.1111111111111111,
              "#46039f"
             ],
             [
              0.2222222222222222,
              "#7201a8"
             ],
             [
              0.3333333333333333,
              "#9c179e"
             ],
             [
              0.4444444444444444,
              "#bd3786"
             ],
             [
              0.5555555555555556,
              "#d8576b"
             ],
             [
              0.6666666666666666,
              "#ed7953"
             ],
             [
              0.7777777777777778,
              "#fb9f3a"
             ],
             [
              0.8888888888888888,
              "#fdca26"
             ],
             [
              1,
              "#f0f921"
             ]
            ],
            "type": "histogram2d"
           }
          ],
          "histogram2dcontour": [
           {
            "colorbar": {
             "outlinewidth": 0,
             "ticks": ""
            },
            "colorscale": [
             [
              0,
              "#0d0887"
             ],
             [
              0.1111111111111111,
              "#46039f"
             ],
             [
              0.2222222222222222,
              "#7201a8"
             ],
             [
              0.3333333333333333,
              "#9c179e"
             ],
             [
              0.4444444444444444,
              "#bd3786"
             ],
             [
              0.5555555555555556,
              "#d8576b"
             ],
             [
              0.6666666666666666,
              "#ed7953"
             ],
             [
              0.7777777777777778,
              "#fb9f3a"
             ],
             [
              0.8888888888888888,
              "#fdca26"
             ],
             [
              1,
              "#f0f921"
             ]
            ],
            "type": "histogram2dcontour"
           }
          ],
          "mesh3d": [
           {
            "colorbar": {
             "outlinewidth": 0,
             "ticks": ""
            },
            "type": "mesh3d"
           }
          ],
          "parcoords": [
           {
            "line": {
             "colorbar": {
              "outlinewidth": 0,
              "ticks": ""
             }
            },
            "type": "parcoords"
           }
          ],
          "pie": [
           {
            "automargin": true,
            "type": "pie"
           }
          ],
          "scatter": [
           {
            "fillpattern": {
             "fillmode": "overlay",
             "size": 10,
             "solidity": 0.2
            },
            "type": "scatter"
           }
          ],
          "scatter3d": [
           {
            "line": {
             "colorbar": {
              "outlinewidth": 0,
              "ticks": ""
             }
            },
            "marker": {
             "colorbar": {
              "outlinewidth": 0,
              "ticks": ""
             }
            },
            "type": "scatter3d"
           }
          ],
          "scattercarpet": [
           {
            "marker": {
             "colorbar": {
              "outlinewidth": 0,
              "ticks": ""
             }
            },
            "type": "scattercarpet"
           }
          ],
          "scattergeo": [
           {
            "marker": {
             "colorbar": {
              "outlinewidth": 0,
              "ticks": ""
             }
            },
            "type": "scattergeo"
           }
          ],
          "scattergl": [
           {
            "marker": {
             "colorbar": {
              "outlinewidth": 0,
              "ticks": ""
             }
            },
            "type": "scattergl"
           }
          ],
          "scattermap": [
           {
            "marker": {
             "colorbar": {
              "outlinewidth": 0,
              "ticks": ""
             }
            },
            "type": "scattermap"
           }
          ],
          "scattermapbox": [
           {
            "marker": {
             "colorbar": {
              "outlinewidth": 0,
              "ticks": ""
             }
            },
            "type": "scattermapbox"
           }
          ],
          "scatterpolar": [
           {
            "marker": {
             "colorbar": {
              "outlinewidth": 0,
              "ticks": ""
             }
            },
            "type": "scatterpolar"
           }
          ],
          "scatterpolargl": [
           {
            "marker": {
             "colorbar": {
              "outlinewidth": 0,
              "ticks": ""
             }
            },
            "type": "scatterpolargl"
           }
          ],
          "scatterternary": [
           {
            "marker": {
             "colorbar": {
              "outlinewidth": 0,
              "ticks": ""
             }
            },
            "type": "scatterternary"
           }
          ],
          "surface": [
           {
            "colorbar": {
             "outlinewidth": 0,
             "ticks": ""
            },
            "colorscale": [
             [
              0,
              "#0d0887"
             ],
             [
              0.1111111111111111,
              "#46039f"
             ],
             [
              0.2222222222222222,
              "#7201a8"
             ],
             [
              0.3333333333333333,
              "#9c179e"
             ],
             [
              0.4444444444444444,
              "#bd3786"
             ],
             [
              0.5555555555555556,
              "#d8576b"
             ],
             [
              0.6666666666666666,
              "#ed7953"
             ],
             [
              0.7777777777777778,
              "#fb9f3a"
             ],
             [
              0.8888888888888888,
              "#fdca26"
             ],
             [
              1,
              "#f0f921"
             ]
            ],
            "type": "surface"
           }
          ],
          "table": [
           {
            "cells": {
             "fill": {
              "color": "#EBF0F8"
             },
             "line": {
              "color": "white"
             }
            },
            "header": {
             "fill": {
              "color": "#C8D4E3"
             },
             "line": {
              "color": "white"
             }
            },
            "type": "table"
           }
          ]
         },
         "layout": {
          "annotationdefaults": {
           "arrowcolor": "#2a3f5f",
           "arrowhead": 0,
           "arrowwidth": 1
          },
          "autotypenumbers": "strict",
          "coloraxis": {
           "colorbar": {
            "outlinewidth": 0,
            "ticks": ""
           }
          },
          "colorscale": {
           "diverging": [
            [
             0,
             "#8e0152"
            ],
            [
             0.1,
             "#c51b7d"
            ],
            [
             0.2,
             "#de77ae"
            ],
            [
             0.3,
             "#f1b6da"
            ],
            [
             0.4,
             "#fde0ef"
            ],
            [
             0.5,
             "#f7f7f7"
            ],
            [
             0.6,
             "#e6f5d0"
            ],
            [
             0.7,
             "#b8e186"
            ],
            [
             0.8,
             "#7fbc41"
            ],
            [
             0.9,
             "#4d9221"
            ],
            [
             1,
             "#276419"
            ]
           ],
           "sequential": [
            [
             0,
             "#0d0887"
            ],
            [
             0.1111111111111111,
             "#46039f"
            ],
            [
             0.2222222222222222,
             "#7201a8"
            ],
            [
             0.3333333333333333,
             "#9c179e"
            ],
            [
             0.4444444444444444,
             "#bd3786"
            ],
            [
             0.5555555555555556,
             "#d8576b"
            ],
            [
             0.6666666666666666,
             "#ed7953"
            ],
            [
             0.7777777777777778,
             "#fb9f3a"
            ],
            [
             0.8888888888888888,
             "#fdca26"
            ],
            [
             1,
             "#f0f921"
            ]
           ],
           "sequentialminus": [
            [
             0,
             "#0d0887"
            ],
            [
             0.1111111111111111,
             "#46039f"
            ],
            [
             0.2222222222222222,
             "#7201a8"
            ],
            [
             0.3333333333333333,
             "#9c179e"
            ],
            [
             0.4444444444444444,
             "#bd3786"
            ],
            [
             0.5555555555555556,
             "#d8576b"
            ],
            [
             0.6666666666666666,
             "#ed7953"
            ],
            [
             0.7777777777777778,
             "#fb9f3a"
            ],
            [
             0.8888888888888888,
             "#fdca26"
            ],
            [
             1,
             "#f0f921"
            ]
           ]
          },
          "colorway": [
           "#636efa",
           "#EF553B",
           "#00cc96",
           "#ab63fa",
           "#FFA15A",
           "#19d3f3",
           "#FF6692",
           "#B6E880",
           "#FF97FF",
           "#FECB52"
          ],
          "font": {
           "color": "#2a3f5f"
          },
          "geo": {
           "bgcolor": "white",
           "lakecolor": "white",
           "landcolor": "#E5ECF6",
           "showlakes": true,
           "showland": true,
           "subunitcolor": "white"
          },
          "hoverlabel": {
           "align": "left"
          },
          "hovermode": "closest",
          "mapbox": {
           "style": "light"
          },
          "paper_bgcolor": "white",
          "plot_bgcolor": "#E5ECF6",
          "polar": {
           "angularaxis": {
            "gridcolor": "white",
            "linecolor": "white",
            "ticks": ""
           },
           "bgcolor": "#E5ECF6",
           "radialaxis": {
            "gridcolor": "white",
            "linecolor": "white",
            "ticks": ""
           }
          },
          "scene": {
           "xaxis": {
            "backgroundcolor": "#E5ECF6",
            "gridcolor": "white",
            "gridwidth": 2,
            "linecolor": "white",
            "showbackground": true,
            "ticks": "",
            "zerolinecolor": "white"
           },
           "yaxis": {
            "backgroundcolor": "#E5ECF6",
            "gridcolor": "white",
            "gridwidth": 2,
            "linecolor": "white",
            "showbackground": true,
            "ticks": "",
            "zerolinecolor": "white"
           },
           "zaxis": {
            "backgroundcolor": "#E5ECF6",
            "gridcolor": "white",
            "gridwidth": 2,
            "linecolor": "white",
            "showbackground": true,
            "ticks": "",
            "zerolinecolor": "white"
           }
          },
          "shapedefaults": {
           "line": {
            "color": "#2a3f5f"
           }
          },
          "ternary": {
           "aaxis": {
            "gridcolor": "white",
            "linecolor": "white",
            "ticks": ""
           },
           "baxis": {
            "gridcolor": "white",
            "linecolor": "white",
            "ticks": ""
           },
           "bgcolor": "#E5ECF6",
           "caxis": {
            "gridcolor": "white",
            "linecolor": "white",
            "ticks": ""
           }
          },
          "title": {
           "x": 0.05
          },
          "xaxis": {
           "automargin": true,
           "gridcolor": "white",
           "linecolor": "white",
           "ticks": "",
           "title": {
            "standoff": 15
           },
           "zerolinecolor": "white",
           "zerolinewidth": 2
          },
          "yaxis": {
           "automargin": true,
           "gridcolor": "white",
           "linecolor": "white",
           "ticks": "",
           "title": {
            "standoff": 15
           },
           "zerolinecolor": "white",
           "zerolinewidth": 2
          }
         }
        },
        "title": {
         "text": "Healthy Life Expectancy (color) and CO₂ Emissions per Capita (size) in 2019"
        }
       }
      }
     },
     "metadata": {},
     "output_type": "display_data"
    }
   ],
   "source": [
    "import plotly.express as px\n",
    "\n",
    "# World map with CO2 per capita and Healthy Life Expectancy\n",
    "fig = px.scatter_geo(\n",
    "    merged_df[merged_df['year'] == 2019],\n",
    "    locations='iso_code',\n",
    "    color='healthy_life_expectancy_at_birth',\n",
    "    size='co2_per_capita',\n",
    "    color_continuous_scale='Viridis',\n",
    "    hover_name='country',\n",
    "    title='Healthy Life Expectancy (color) and CO₂ Emissions per Capita (size) in 2019'\n",
    ")\n",
    "\n",
    "fig.show()\n"
   ]
  },
  {
   "cell_type": "code",
   "execution_count": null,
   "id": "b5824685",
   "metadata": {},
   "outputs": [
    {
     "data": {
      "application/vnd.plotly.v1+json": {
       "config": {
        "plotlyServerURL": "https://plot.ly"
       },
       "data": [
        {
         "hovertemplate": "<b>%{hovertext}</b><br><br>year=2000<br>CO₂ per Capita (t/person)=%{x}<br>Healthy Life Expectancy (years)=%{y}<extra></extra>",
         "hovertext": [
          "Afghanistan",
          "Albania",
          "Algeria",
          "Angola",
          "Antigua and Barbuda",
          "Argentina",
          "Armenia",
          "Australia",
          "Austria",
          "Azerbaijan",
          "Bahamas",
          "Bahrain",
          "Bangladesh",
          "Barbados",
          "Belarus",
          "Belgium",
          "Belize",
          "Benin",
          "Bhutan",
          "Bosnia and Herzegovina",
          "Botswana",
          "Brazil",
          "Bulgaria",
          "Burkina Faso",
          "Burundi",
          "Cambodia",
          "Cameroon",
          "Canada",
          "Central African Republic",
          "Chad",
          "Chile",
          "China",
          "Colombia",
          "Comoros",
          "Congo",
          "Costa Rica",
          "Croatia",
          "Cuba",
          "Cyprus",
          "Czechia",
          "Denmark",
          "Djibouti",
          "Dominican Republic",
          "Ecuador",
          "Egypt",
          "El Salvador",
          "Equatorial Guinea",
          "Eritrea",
          "Estonia",
          "Eswatini",
          "Ethiopia",
          "Fiji",
          "Finland",
          "France",
          "Gabon",
          "Gambia",
          "Georgia",
          "Germany",
          "Ghana",
          "Greece",
          "Grenada",
          "Guatemala",
          "Guinea",
          "Guinea-Bissau",
          "Guyana",
          "Haiti",
          "Honduras",
          "Hungary",
          "Iceland",
          "India",
          "Indonesia",
          "Iraq",
          "Ireland",
          "Israel",
          "Italy",
          "Jamaica",
          "Japan",
          "Jordan",
          "Kazakhstan",
          "Kenya",
          "Kiribati",
          "Kuwait",
          "Kyrgyzstan",
          "Latvia",
          "Lebanon",
          "Lesotho",
          "Liberia",
          "Libya",
          "Lithuania",
          "Luxembourg",
          "Madagascar",
          "Malawi",
          "Malaysia",
          "Maldives",
          "Mali",
          "Malta",
          "Mauritania",
          "Mauritius",
          "Mexico",
          "Mongolia",
          "Montenegro",
          "Morocco",
          "Mozambique",
          "Myanmar",
          "Namibia",
          "Nepal",
          "New Zealand",
          "Nicaragua",
          "Niger",
          "Nigeria",
          "North Macedonia",
          "Norway",
          "Oman",
          "Pakistan",
          "Panama",
          "Papua New Guinea",
          "Paraguay",
          "Peru",
          "Philippines",
          "Poland",
          "Portugal",
          "Qatar",
          "Romania",
          "Rwanda",
          "Saint Lucia",
          "Saint Vincent and the Grenadines",
          "Samoa",
          "Sao Tome and Principe",
          "Saudi Arabia",
          "Senegal",
          "Serbia",
          "Seychelles",
          "Sierra Leone",
          "Singapore",
          "Slovakia",
          "Slovenia",
          "Solomon Islands",
          "Somalia",
          "South Africa",
          "South Sudan",
          "Spain",
          "Sri Lanka",
          "Sudan",
          "Suriname",
          "Sweden",
          "Switzerland",
          "Tajikistan",
          "Thailand",
          "Togo",
          "Tonga",
          "Trinidad and Tobago",
          "Tunisia",
          "Turkmenistan",
          "Uganda",
          "Ukraine",
          "United Arab Emirates",
          "Uruguay",
          "Uzbekistan",
          "Vanuatu",
          "Yemen",
          "Zambia",
          "Zimbabwe"
         ],
         "ids": [
          "Afghanistan",
          "Albania",
          "Algeria",
          "Angola",
          "Antigua and Barbuda",
          "Argentina",
          "Armenia",
          "Australia",
          "Austria",
          "Azerbaijan",
          "Bahamas",
          "Bahrain",
          "Bangladesh",
          "Barbados",
          "Belarus",
          "Belgium",
          "Belize",
          "Benin",
          "Bhutan",
          "Bosnia and Herzegovina",
          "Botswana",
          "Brazil",
          "Bulgaria",
          "Burkina Faso",
          "Burundi",
          "Cambodia",
          "Cameroon",
          "Canada",
          "Central African Republic",
          "Chad",
          "Chile",
          "China",
          "Colombia",
          "Comoros",
          "Congo",
          "Costa Rica",
          "Croatia",
          "Cuba",
          "Cyprus",
          "Czechia",
          "Denmark",
          "Djibouti",
          "Dominican Republic",
          "Ecuador",
          "Egypt",
          "El Salvador",
          "Equatorial Guinea",
          "Eritrea",
          "Estonia",
          "Eswatini",
          "Ethiopia",
          "Fiji",
          "Finland",
          "France",
          "Gabon",
          "Gambia",
          "Georgia",
          "Germany",
          "Ghana",
          "Greece",
          "Grenada",
          "Guatemala",
          "Guinea",
          "Guinea-Bissau",
          "Guyana",
          "Haiti",
          "Honduras",
          "Hungary",
          "Iceland",
          "India",
          "Indonesia",
          "Iraq",
          "Ireland",
          "Israel",
          "Italy",
          "Jamaica",
          "Japan",
          "Jordan",
          "Kazakhstan",
          "Kenya",
          "Kiribati",
          "Kuwait",
          "Kyrgyzstan",
          "Latvia",
          "Lebanon",
          "Lesotho",
          "Liberia",
          "Libya",
          "Lithuania",
          "Luxembourg",
          "Madagascar",
          "Malawi",
          "Malaysia",
          "Maldives",
          "Mali",
          "Malta",
          "Mauritania",
          "Mauritius",
          "Mexico",
          "Mongolia",
          "Montenegro",
          "Morocco",
          "Mozambique",
          "Myanmar",
          "Namibia",
          "Nepal",
          "New Zealand",
          "Nicaragua",
          "Niger",
          "Nigeria",
          "North Macedonia",
          "Norway",
          "Oman",
          "Pakistan",
          "Panama",
          "Papua New Guinea",
          "Paraguay",
          "Peru",
          "Philippines",
          "Poland",
          "Portugal",
          "Qatar",
          "Romania",
          "Rwanda",
          "Saint Lucia",
          "Saint Vincent and the Grenadines",
          "Samoa",
          "Sao Tome and Principe",
          "Saudi Arabia",
          "Senegal",
          "Serbia",
          "Seychelles",
          "Sierra Leone",
          "Singapore",
          "Slovakia",
          "Slovenia",
          "Solomon Islands",
          "Somalia",
          "South Africa",
          "South Sudan",
          "Spain",
          "Sri Lanka",
          "Sudan",
          "Suriname",
          "Sweden",
          "Switzerland",
          "Tajikistan",
          "Thailand",
          "Togo",
          "Tonga",
          "Trinidad and Tobago",
          "Tunisia",
          "Turkmenistan",
          "Uganda",
          "Ukraine",
          "United Arab Emirates",
          "Uruguay",
          "Uzbekistan",
          "Vanuatu",
          "Yemen",
          "Zambia",
          "Zimbabwe"
         ],
         "legendgroup": "",
         "marker": {
          "color": "#636efa",
          "symbol": "circle"
         },
         "mode": "markers",
         "name": "",
         "orientation": "v",
         "showlegend": false,
         "type": "scatter",
         "x": {
          "bdata": "ObTIdr6fqj+PwvUoXI/uP7TIdr6fGgZABFYOLbKd7z9GtvP91PgSQNejcD0K1w5ArBxaZDvf8T8lBoGVQ0syQPhT46WbhCBAVOOlm8QgDUC6SQwCKwcZQD81XrpJrDxAnu+nxks3yT8GgZVDi+wTQHsUrkfh+hVARrbz/dS4KEB9PzVeukn6P+kmMQisHMo/SOF6FK5H5T8nMQisHFoKQGq8dJMYBAJASOF6FK5H/z+yne+nxssWQCuHFtnO97M/Gy/dJAaBpT/P91PjpZvEPwAAAAAAANg/FK5H4XpUMkAIrBxaZDuvP8l2vp8aL60/yXa+nxovDkDLoUW28/0GQF66SQwCK/c/ppvEILByyD9YObTIdr71P+xRuB6F6/U/eekmMQgsEkBoke18PzUCQGDl0CLb+R1Az/dT46XbKEC8dJMYBFYkQFyPwvUoXN8/GQRWDi2yAUD8qfHSTWL6P7ByaJHtfP8/ukkMAiuH7j9OYhBYObQOQJ7vp8ZLN9E/2c73U+MlJkD6fmq8dJPyP+kmMQisHKo/NV66SQwC7z9I4XoUrgcmQB1aZDvfTxtAnu+nxks3E0D+1HjpJjHIP6RwPQrXo/A/exSuR+H6JUDy0k1iEFjRP5qZmZmZGSNAke18PzVe/D+4HoXrUbjqPw4tsp3vp8Y/EFg5tMh2vj9I4XoUrkcCQJ7vp8ZLN8k/exSuR+F66D93vp8aL90WQLTIdr6f2iRAbef7qfHS7T+iRbbz/dT0PxKDwMqhRQtAzczMzMzMJ0DufD81XnojQNnO91PjZSBApHA9CtejD0D0/dR46eYjQPp+arx0kwZAAAAAAACAIkDD9Shcj8LVPzvfT42Xbto/2/l+arwUPEAfhetRuB7tP+xRuB6F6wdA+n5qvHSTDEDwp8ZLN4ntP5zEILByaME/30+Nl24SJEC+nxov3SQLQIcW2c738zNAaJHtfD81vj/b+X5qvHSzP2ZmZmZmZhVAxSCwcmiR+T9aZDvfT423P+Olm8QgsBhA3SQGgZVD2z/jpZvEILABQI2XbhKDwA9Anu+nxks3CEDJdr6fGi8DQOOlm8QgsPI/46WbxCCwsj8hsHJoke3MP+f7qfHSTe4/WDm0yHa+vz+e76fGS7cgQIPAyqFFtuc/uB6F61G4rj8j2/l+arzoPxBYObTIdhBAGy/dJAbBIkBWDi2yne8kQEa28/3UeOU/ppvEILBy/j/LoUW28/3gPzm0yHa+n+Y/c2iR7Xw/8T9MN4lBYOXsP39qvHSTmCBACtejcD2KGUCNl24Sg0BPQFYOLbKd7xBAVOOlm8QgsD9aZDvfT40BQA4tsp3vp/Q/9P3UeOkm6T/Jdr6fGi/VPxKDwMqhJTNAoBov3SQG2T+R7Xw/NV4XQHNoke18Pw5ACKwcWmQ7rz8Sg8DKoYUiQDm0yHa+nx5AAiuHFtlOHkDTTWIQWDngP9nO91Pjpas/JQaBlUMLIECLbOf7qfGyPyPb+X5qPB5AzczMzMzM4D9SuB6F61HIP0w3iUFgZRJA3SQGgZXDGEB9PzVeukkYQLgehetRuNY/c2iR7Xw/BUD6fmq8dJPQPxkEVg4tsu0/g8DKoUV2MkBqvHSTGAQAQCGwcmiRLSFAyXa+nxovrT+PwvUoXA8XQHE9CtejAEBAAiuHFtnO+T8hsHJoke0TQCGwcmiR7dw/bxKDwMqh6T9iEFg5tMjGP2Q730+Nl/I/",
          "dtype": "f8"
         },
         "xaxis": "x",
         "y": {
          "bdata": "BJDaxMlhR0DzVIfcDE9QQMnlP6TfWk9ADvPlBdhvRUD9wcBz72FQQEG3lzRGSVBA1QRR9wHAT0B7gy9MpiRRQJPjTulgC1FAZcdGIF4/TUBAE2HD01dPQNUJaCJs8E5A4IRCBByGTEDL8+DurH1QQIUIOIQqaU5AxF+TNer1UEBp44i1+CRPQHoZxXJLy0hAFk1nJ4OHTEBbJVgczopQQPvo1JXPCkRA07zjFB3VTkCbIOo+AMVPQBTLLa2GcEZAahg+IqYQQ0DKiXYVUrJJQEmAmlq2BkdAeGLWi6FaUUBbCHJQwlhDQP32deCcWUZAcvkP6be/UEA7GRwlr9pPQDS/mgMECVBAyhXe5SLiSkB324XmOq1GQG5RZoNMAlFA11HVBFFbUEB1q+ek98dQQONrzywJSFFA0gDeAgl8UEDqPgCpTeRQQPCnxks3XUpAxm00gLcGUED2fw7z5U9QQBFwCFVqmk5Af/s6cM5cT0B5WKg1zWdHQMWsF0M5gUdA+b1Nf/ZHT0Dy0k1iEKREQFjFG5lHKkZAQs9m1ecKTUAyrOKNzPFQQEyJJHoZU1FAgJ9x4UBASUBiFW9kHtVJQBzTE5Z4+E5ASP5g4LkdUUC0k8FR8vJJQD8AqU2cKFFAgsXhzK/KT0Crz9VW7OtMQA1xrIvbxEdA2V92Tx4GRkCr7Lsi+HtLQGSSkbOw/0hAqiuf5XmcTkB5O8JpwYNPQBEebRyxdFFA91j60AV5SkDI7236s4NNQKWD9X8Ow01ASS7/If3EUECygAncuk1RQEOQgxJmQlFAEjElkuhZUEBivrwA++RRQIczv5oDyE9Axr/PuHAMTEDVBFH3AXhHQFwDWyVYyEhAtDwP7s7sUECrz9VW7FNNQKpIhbGFyE5ANJ2dDI4qUEDgSnZsBP5EQOGX+nlT6UZAFqQZi6YlUEBr8SkAxo9PQCswZHWrFVFABd1e0hipSUAxJZLoZYhDQLwi+N9K/k9Arthfdk8yT0Cto6oJos5GQDxmoDL+IVFA/fZ14JwtS0BOYhBYOfhOQGGJB5RNI1BAIQIOoUrpSkDmP6TfvkpQQKsmiLoPWE5An3b4a7LKRUBb07zjFHlKQMWsF0M5TUdARpT2Bl8gTECTxmgdVfNQQDANw0fE2E9Angd3Z+0WRkAu51JcVTpHQAYq499nmE9Ai6azk8EbUUBiSiTRy3hOQFx381SHLEpAmDRG66jMUEBPzHoxlKNLQEjhehSuP1BALuI7Mes5UEB2N091yElOQBkEVg4tQFBAlxx3Sge1UEBortNISzlPQPuRIjKsok9AXFoNiXuYRECw/s9hvgBQQIums5PBHU9AJ2a9GMpdTkAKaCJseMZLQPq4NlSMl05AoRABh1BhSUAr2bERiLdPQAZM4NbdiE9AzeSbbW4cRUCwPbMkQF9RQP2H9NvXLVBAEOm3rwOhUEDC3Vm77dZLQAU0ETY8AUZAYWwhyEE9SEC1bK0vEi5HQEvNHmgFRFFAukkMAit/T0ARje4gdiJLQHOAYI4ep05AN6YnLPF2UUAj+N9KdlJRQH/eVKTCLE1A/isrTUpRT0AR5KCEmXZIQPlmmxvTb09ACeHRxhG3TkCze/KwUDNQQKDDfHkBUkxAklz+Q/pBRUBJ10y+2dpNQKlNnNzv7E9A61bPSe97UEALe9rhrwlNQK93f7xXZUxA2Nglqrc6S0DS4/c2/XlDQAGHUKVmg0RA",
          "dtype": "f8"
         },
         "yaxis": "y"
        }
       ],
       "frames": [
        {
         "data": [
          {
           "hovertemplate": "<b>%{hovertext}</b><br><br>year=2000<br>CO₂ per Capita (t/person)=%{x}<br>Healthy Life Expectancy (years)=%{y}<extra></extra>",
           "hovertext": [
            "Afghanistan",
            "Albania",
            "Algeria",
            "Angola",
            "Antigua and Barbuda",
            "Argentina",
            "Armenia",
            "Australia",
            "Austria",
            "Azerbaijan",
            "Bahamas",
            "Bahrain",
            "Bangladesh",
            "Barbados",
            "Belarus",
            "Belgium",
            "Belize",
            "Benin",
            "Bhutan",
            "Bosnia and Herzegovina",
            "Botswana",
            "Brazil",
            "Bulgaria",
            "Burkina Faso",
            "Burundi",
            "Cambodia",
            "Cameroon",
            "Canada",
            "Central African Republic",
            "Chad",
            "Chile",
            "China",
            "Colombia",
            "Comoros",
            "Congo",
            "Costa Rica",
            "Croatia",
            "Cuba",
            "Cyprus",
            "Czechia",
            "Denmark",
            "Djibouti",
            "Dominican Republic",
            "Ecuador",
            "Egypt",
            "El Salvador",
            "Equatorial Guinea",
            "Eritrea",
            "Estonia",
            "Eswatini",
            "Ethiopia",
            "Fiji",
            "Finland",
            "France",
            "Gabon",
            "Gambia",
            "Georgia",
            "Germany",
            "Ghana",
            "Greece",
            "Grenada",
            "Guatemala",
            "Guinea",
            "Guinea-Bissau",
            "Guyana",
            "Haiti",
            "Honduras",
            "Hungary",
            "Iceland",
            "India",
            "Indonesia",
            "Iraq",
            "Ireland",
            "Israel",
            "Italy",
            "Jamaica",
            "Japan",
            "Jordan",
            "Kazakhstan",
            "Kenya",
            "Kiribati",
            "Kuwait",
            "Kyrgyzstan",
            "Latvia",
            "Lebanon",
            "Lesotho",
            "Liberia",
            "Libya",
            "Lithuania",
            "Luxembourg",
            "Madagascar",
            "Malawi",
            "Malaysia",
            "Maldives",
            "Mali",
            "Malta",
            "Mauritania",
            "Mauritius",
            "Mexico",
            "Mongolia",
            "Montenegro",
            "Morocco",
            "Mozambique",
            "Myanmar",
            "Namibia",
            "Nepal",
            "New Zealand",
            "Nicaragua",
            "Niger",
            "Nigeria",
            "North Macedonia",
            "Norway",
            "Oman",
            "Pakistan",
            "Panama",
            "Papua New Guinea",
            "Paraguay",
            "Peru",
            "Philippines",
            "Poland",
            "Portugal",
            "Qatar",
            "Romania",
            "Rwanda",
            "Saint Lucia",
            "Saint Vincent and the Grenadines",
            "Samoa",
            "Sao Tome and Principe",
            "Saudi Arabia",
            "Senegal",
            "Serbia",
            "Seychelles",
            "Sierra Leone",
            "Singapore",
            "Slovakia",
            "Slovenia",
            "Solomon Islands",
            "Somalia",
            "South Africa",
            "South Sudan",
            "Spain",
            "Sri Lanka",
            "Sudan",
            "Suriname",
            "Sweden",
            "Switzerland",
            "Tajikistan",
            "Thailand",
            "Togo",
            "Tonga",
            "Trinidad and Tobago",
            "Tunisia",
            "Turkmenistan",
            "Uganda",
            "Ukraine",
            "United Arab Emirates",
            "Uruguay",
            "Uzbekistan",
            "Vanuatu",
            "Yemen",
            "Zambia",
            "Zimbabwe"
           ],
           "ids": [
            "Afghanistan",
            "Albania",
            "Algeria",
            "Angola",
            "Antigua and Barbuda",
            "Argentina",
            "Armenia",
            "Australia",
            "Austria",
            "Azerbaijan",
            "Bahamas",
            "Bahrain",
            "Bangladesh",
            "Barbados",
            "Belarus",
            "Belgium",
            "Belize",
            "Benin",
            "Bhutan",
            "Bosnia and Herzegovina",
            "Botswana",
            "Brazil",
            "Bulgaria",
            "Burkina Faso",
            "Burundi",
            "Cambodia",
            "Cameroon",
            "Canada",
            "Central African Republic",
            "Chad",
            "Chile",
            "China",
            "Colombia",
            "Comoros",
            "Congo",
            "Costa Rica",
            "Croatia",
            "Cuba",
            "Cyprus",
            "Czechia",
            "Denmark",
            "Djibouti",
            "Dominican Republic",
            "Ecuador",
            "Egypt",
            "El Salvador",
            "Equatorial Guinea",
            "Eritrea",
            "Estonia",
            "Eswatini",
            "Ethiopia",
            "Fiji",
            "Finland",
            "France",
            "Gabon",
            "Gambia",
            "Georgia",
            "Germany",
            "Ghana",
            "Greece",
            "Grenada",
            "Guatemala",
            "Guinea",
            "Guinea-Bissau",
            "Guyana",
            "Haiti",
            "Honduras",
            "Hungary",
            "Iceland",
            "India",
            "Indonesia",
            "Iraq",
            "Ireland",
            "Israel",
            "Italy",
            "Jamaica",
            "Japan",
            "Jordan",
            "Kazakhstan",
            "Kenya",
            "Kiribati",
            "Kuwait",
            "Kyrgyzstan",
            "Latvia",
            "Lebanon",
            "Lesotho",
            "Liberia",
            "Libya",
            "Lithuania",
            "Luxembourg",
            "Madagascar",
            "Malawi",
            "Malaysia",
            "Maldives",
            "Mali",
            "Malta",
            "Mauritania",
            "Mauritius",
            "Mexico",
            "Mongolia",
            "Montenegro",
            "Morocco",
            "Mozambique",
            "Myanmar",
            "Namibia",
            "Nepal",
            "New Zealand",
            "Nicaragua",
            "Niger",
            "Nigeria",
            "North Macedonia",
            "Norway",
            "Oman",
            "Pakistan",
            "Panama",
            "Papua New Guinea",
            "Paraguay",
            "Peru",
            "Philippines",
            "Poland",
            "Portugal",
            "Qatar",
            "Romania",
            "Rwanda",
            "Saint Lucia",
            "Saint Vincent and the Grenadines",
            "Samoa",
            "Sao Tome and Principe",
            "Saudi Arabia",
            "Senegal",
            "Serbia",
            "Seychelles",
            "Sierra Leone",
            "Singapore",
            "Slovakia",
            "Slovenia",
            "Solomon Islands",
            "Somalia",
            "South Africa",
            "South Sudan",
            "Spain",
            "Sri Lanka",
            "Sudan",
            "Suriname",
            "Sweden",
            "Switzerland",
            "Tajikistan",
            "Thailand",
            "Togo",
            "Tonga",
            "Trinidad and Tobago",
            "Tunisia",
            "Turkmenistan",
            "Uganda",
            "Ukraine",
            "United Arab Emirates",
            "Uruguay",
            "Uzbekistan",
            "Vanuatu",
            "Yemen",
            "Zambia",
            "Zimbabwe"
           ],
           "legendgroup": "",
           "marker": {
            "color": "#636efa",
            "symbol": "circle"
           },
           "mode": "markers",
           "name": "",
           "orientation": "v",
           "showlegend": false,
           "type": "scatter",
           "x": {
            "bdata": "ObTIdr6fqj+PwvUoXI/uP7TIdr6fGgZABFYOLbKd7z9GtvP91PgSQNejcD0K1w5ArBxaZDvf8T8lBoGVQ0syQPhT46WbhCBAVOOlm8QgDUC6SQwCKwcZQD81XrpJrDxAnu+nxks3yT8GgZVDi+wTQHsUrkfh+hVARrbz/dS4KEB9PzVeukn6P+kmMQisHMo/SOF6FK5H5T8nMQisHFoKQGq8dJMYBAJASOF6FK5H/z+yne+nxssWQCuHFtnO97M/Gy/dJAaBpT/P91PjpZvEPwAAAAAAANg/FK5H4XpUMkAIrBxaZDuvP8l2vp8aL60/yXa+nxovDkDLoUW28/0GQF66SQwCK/c/ppvEILByyD9YObTIdr71P+xRuB6F6/U/eekmMQgsEkBoke18PzUCQGDl0CLb+R1Az/dT46XbKEC8dJMYBFYkQFyPwvUoXN8/GQRWDi2yAUD8qfHSTWL6P7ByaJHtfP8/ukkMAiuH7j9OYhBYObQOQJ7vp8ZLN9E/2c73U+MlJkD6fmq8dJPyP+kmMQisHKo/NV66SQwC7z9I4XoUrgcmQB1aZDvfTxtAnu+nxks3E0D+1HjpJjHIP6RwPQrXo/A/exSuR+H6JUDy0k1iEFjRP5qZmZmZGSNAke18PzVe/D+4HoXrUbjqPw4tsp3vp8Y/EFg5tMh2vj9I4XoUrkcCQJ7vp8ZLN8k/exSuR+F66D93vp8aL90WQLTIdr6f2iRAbef7qfHS7T+iRbbz/dT0PxKDwMqhRQtAzczMzMzMJ0DufD81XnojQNnO91PjZSBApHA9CtejD0D0/dR46eYjQPp+arx0kwZAAAAAAACAIkDD9Shcj8LVPzvfT42Xbto/2/l+arwUPEAfhetRuB7tP+xRuB6F6wdA+n5qvHSTDEDwp8ZLN4ntP5zEILByaME/30+Nl24SJEC+nxov3SQLQIcW2c738zNAaJHtfD81vj/b+X5qvHSzP2ZmZmZmZhVAxSCwcmiR+T9aZDvfT423P+Olm8QgsBhA3SQGgZVD2z/jpZvEILABQI2XbhKDwA9Anu+nxks3CEDJdr6fGi8DQOOlm8QgsPI/46WbxCCwsj8hsHJoke3MP+f7qfHSTe4/WDm0yHa+vz+e76fGS7cgQIPAyqFFtuc/uB6F61G4rj8j2/l+arzoPxBYObTIdhBAGy/dJAbBIkBWDi2yne8kQEa28/3UeOU/ppvEILBy/j/LoUW28/3gPzm0yHa+n+Y/c2iR7Xw/8T9MN4lBYOXsP39qvHSTmCBACtejcD2KGUCNl24Sg0BPQFYOLbKd7xBAVOOlm8QgsD9aZDvfT40BQA4tsp3vp/Q/9P3UeOkm6T/Jdr6fGi/VPxKDwMqhJTNAoBov3SQG2T+R7Xw/NV4XQHNoke18Pw5ACKwcWmQ7rz8Sg8DKoYUiQDm0yHa+nx5AAiuHFtlOHkDTTWIQWDngP9nO91Pjpas/JQaBlUMLIECLbOf7qfGyPyPb+X5qPB5AzczMzMzM4D9SuB6F61HIP0w3iUFgZRJA3SQGgZXDGEB9PzVeukkYQLgehetRuNY/c2iR7Xw/BUD6fmq8dJPQPxkEVg4tsu0/g8DKoUV2MkBqvHSTGAQAQCGwcmiRLSFAyXa+nxovrT+PwvUoXA8XQHE9CtejAEBAAiuHFtnO+T8hsHJoke0TQCGwcmiR7dw/bxKDwMqh6T9iEFg5tMjGP2Q730+Nl/I/",
            "dtype": "f8"
           },
           "xaxis": "x",
           "y": {
            "bdata": "BJDaxMlhR0DzVIfcDE9QQMnlP6TfWk9ADvPlBdhvRUD9wcBz72FQQEG3lzRGSVBA1QRR9wHAT0B7gy9MpiRRQJPjTulgC1FAZcdGIF4/TUBAE2HD01dPQNUJaCJs8E5A4IRCBByGTEDL8+DurH1QQIUIOIQqaU5AxF+TNer1UEBp44i1+CRPQHoZxXJLy0hAFk1nJ4OHTEBbJVgczopQQPvo1JXPCkRA07zjFB3VTkCbIOo+AMVPQBTLLa2GcEZAahg+IqYQQ0DKiXYVUrJJQEmAmlq2BkdAeGLWi6FaUUBbCHJQwlhDQP32deCcWUZAcvkP6be/UEA7GRwlr9pPQDS/mgMECVBAyhXe5SLiSkB324XmOq1GQG5RZoNMAlFA11HVBFFbUEB1q+ek98dQQONrzywJSFFA0gDeAgl8UEDqPgCpTeRQQPCnxks3XUpAxm00gLcGUED2fw7z5U9QQBFwCFVqmk5Af/s6cM5cT0B5WKg1zWdHQMWsF0M5gUdA+b1Nf/ZHT0Dy0k1iEKREQFjFG5lHKkZAQs9m1ecKTUAyrOKNzPFQQEyJJHoZU1FAgJ9x4UBASUBiFW9kHtVJQBzTE5Z4+E5ASP5g4LkdUUC0k8FR8vJJQD8AqU2cKFFAgsXhzK/KT0Crz9VW7OtMQA1xrIvbxEdA2V92Tx4GRkCr7Lsi+HtLQGSSkbOw/0hAqiuf5XmcTkB5O8JpwYNPQBEebRyxdFFA91j60AV5SkDI7236s4NNQKWD9X8Ow01ASS7/If3EUECygAncuk1RQEOQgxJmQlFAEjElkuhZUEBivrwA++RRQIczv5oDyE9Axr/PuHAMTEDVBFH3AXhHQFwDWyVYyEhAtDwP7s7sUECrz9VW7FNNQKpIhbGFyE5ANJ2dDI4qUEDgSnZsBP5EQOGX+nlT6UZAFqQZi6YlUEBr8SkAxo9PQCswZHWrFVFABd1e0hipSUAxJZLoZYhDQLwi+N9K/k9Arthfdk8yT0Cto6oJos5GQDxmoDL+IVFA/fZ14JwtS0BOYhBYOfhOQGGJB5RNI1BAIQIOoUrpSkDmP6TfvkpQQKsmiLoPWE5An3b4a7LKRUBb07zjFHlKQMWsF0M5TUdARpT2Bl8gTECTxmgdVfNQQDANw0fE2E9Angd3Z+0WRkAu51JcVTpHQAYq499nmE9Ai6azk8EbUUBiSiTRy3hOQFx381SHLEpAmDRG66jMUEBPzHoxlKNLQEjhehSuP1BALuI7Mes5UEB2N091yElOQBkEVg4tQFBAlxx3Sge1UEBortNISzlPQPuRIjKsok9AXFoNiXuYRECw/s9hvgBQQIums5PBHU9AJ2a9GMpdTkAKaCJseMZLQPq4NlSMl05AoRABh1BhSUAr2bERiLdPQAZM4NbdiE9AzeSbbW4cRUCwPbMkQF9RQP2H9NvXLVBAEOm3rwOhUEDC3Vm77dZLQAU0ETY8AUZAYWwhyEE9SEC1bK0vEi5HQEvNHmgFRFFAukkMAit/T0ARje4gdiJLQHOAYI4ep05AN6YnLPF2UUAj+N9KdlJRQH/eVKTCLE1A/isrTUpRT0AR5KCEmXZIQPlmmxvTb09ACeHRxhG3TkCze/KwUDNQQKDDfHkBUkxAklz+Q/pBRUBJ10y+2dpNQKlNnNzv7E9A61bPSe97UEALe9rhrwlNQK93f7xXZUxA2Nglqrc6S0DS4/c2/XlDQAGHUKVmg0RA",
            "dtype": "f8"
           },
           "yaxis": "y"
          }
         ],
         "name": "2000"
        },
        {
         "data": [
          {
           "hovertemplate": "<b>%{hovertext}</b><br><br>year=2010<br>CO₂ per Capita (t/person)=%{x}<br>Healthy Life Expectancy (years)=%{y}<extra></extra>",
           "hovertext": [
            "Afghanistan",
            "Albania",
            "Algeria",
            "Angola",
            "Antigua and Barbuda",
            "Argentina",
            "Armenia",
            "Australia",
            "Austria",
            "Azerbaijan",
            "Bahamas",
            "Bahrain",
            "Bangladesh",
            "Barbados",
            "Belarus",
            "Belgium",
            "Belize",
            "Benin",
            "Bhutan",
            "Bosnia and Herzegovina",
            "Botswana",
            "Brazil",
            "Bulgaria",
            "Burkina Faso",
            "Burundi",
            "Cambodia",
            "Cameroon",
            "Canada",
            "Central African Republic",
            "Chad",
            "Chile",
            "China",
            "Colombia",
            "Comoros",
            "Congo",
            "Costa Rica",
            "Croatia",
            "Cuba",
            "Cyprus",
            "Czechia",
            "Denmark",
            "Djibouti",
            "Dominican Republic",
            "Ecuador",
            "Egypt",
            "El Salvador",
            "Equatorial Guinea",
            "Eritrea",
            "Estonia",
            "Eswatini",
            "Ethiopia",
            "Fiji",
            "Finland",
            "France",
            "Gabon",
            "Gambia",
            "Georgia",
            "Germany",
            "Ghana",
            "Greece",
            "Grenada",
            "Guatemala",
            "Guinea",
            "Guinea-Bissau",
            "Guyana",
            "Haiti",
            "Honduras",
            "Hungary",
            "Iceland",
            "India",
            "Indonesia",
            "Iraq",
            "Ireland",
            "Israel",
            "Italy",
            "Jamaica",
            "Japan",
            "Jordan",
            "Kazakhstan",
            "Kenya",
            "Kiribati",
            "Kuwait",
            "Kyrgyzstan",
            "Latvia",
            "Lebanon",
            "Lesotho",
            "Liberia",
            "Libya",
            "Lithuania",
            "Luxembourg",
            "Madagascar",
            "Malawi",
            "Malaysia",
            "Maldives",
            "Mali",
            "Malta",
            "Mauritania",
            "Mauritius",
            "Mexico",
            "Mongolia",
            "Montenegro",
            "Morocco",
            "Mozambique",
            "Myanmar",
            "Namibia",
            "Nepal",
            "New Zealand",
            "Nicaragua",
            "Niger",
            "Nigeria",
            "North Macedonia",
            "Norway",
            "Oman",
            "Pakistan",
            "Panama",
            "Papua New Guinea",
            "Paraguay",
            "Peru",
            "Philippines",
            "Poland",
            "Portugal",
            "Qatar",
            "Romania",
            "Rwanda",
            "Saint Lucia",
            "Saint Vincent and the Grenadines",
            "Samoa",
            "Sao Tome and Principe",
            "Saudi Arabia",
            "Senegal",
            "Serbia",
            "Seychelles",
            "Sierra Leone",
            "Singapore",
            "Slovakia",
            "Slovenia",
            "Solomon Islands",
            "Somalia",
            "South Africa",
            "South Sudan",
            "Spain",
            "Sri Lanka",
            "Sudan",
            "Suriname",
            "Sweden",
            "Switzerland",
            "Tajikistan",
            "Thailand",
            "Togo",
            "Tonga",
            "Trinidad and Tobago",
            "Tunisia",
            "Turkmenistan",
            "Uganda",
            "Ukraine",
            "United Arab Emirates",
            "Uruguay",
            "Uzbekistan",
            "Vanuatu",
            "Yemen",
            "Zambia",
            "Zimbabwe"
           ],
           "ids": [
            "Afghanistan",
            "Albania",
            "Algeria",
            "Angola",
            "Antigua and Barbuda",
            "Argentina",
            "Armenia",
            "Australia",
            "Austria",
            "Azerbaijan",
            "Bahamas",
            "Bahrain",
            "Bangladesh",
            "Barbados",
            "Belarus",
            "Belgium",
            "Belize",
            "Benin",
            "Bhutan",
            "Bosnia and Herzegovina",
            "Botswana",
            "Brazil",
            "Bulgaria",
            "Burkina Faso",
            "Burundi",
            "Cambodia",
            "Cameroon",
            "Canada",
            "Central African Republic",
            "Chad",
            "Chile",
            "China",
            "Colombia",
            "Comoros",
            "Congo",
            "Costa Rica",
            "Croatia",
            "Cuba",
            "Cyprus",
            "Czechia",
            "Denmark",
            "Djibouti",
            "Dominican Republic",
            "Ecuador",
            "Egypt",
            "El Salvador",
            "Equatorial Guinea",
            "Eritrea",
            "Estonia",
            "Eswatini",
            "Ethiopia",
            "Fiji",
            "Finland",
            "France",
            "Gabon",
            "Gambia",
            "Georgia",
            "Germany",
            "Ghana",
            "Greece",
            "Grenada",
            "Guatemala",
            "Guinea",
            "Guinea-Bissau",
            "Guyana",
            "Haiti",
            "Honduras",
            "Hungary",
            "Iceland",
            "India",
            "Indonesia",
            "Iraq",
            "Ireland",
            "Israel",
            "Italy",
            "Jamaica",
            "Japan",
            "Jordan",
            "Kazakhstan",
            "Kenya",
            "Kiribati",
            "Kuwait",
            "Kyrgyzstan",
            "Latvia",
            "Lebanon",
            "Lesotho",
            "Liberia",
            "Libya",
            "Lithuania",
            "Luxembourg",
            "Madagascar",
            "Malawi",
            "Malaysia",
            "Maldives",
            "Mali",
            "Malta",
            "Mauritania",
            "Mauritius",
            "Mexico",
            "Mongolia",
            "Montenegro",
            "Morocco",
            "Mozambique",
            "Myanmar",
            "Namibia",
            "Nepal",
            "New Zealand",
            "Nicaragua",
            "Niger",
            "Nigeria",
            "North Macedonia",
            "Norway",
            "Oman",
            "Pakistan",
            "Panama",
            "Papua New Guinea",
            "Paraguay",
            "Peru",
            "Philippines",
            "Poland",
            "Portugal",
            "Qatar",
            "Romania",
            "Rwanda",
            "Saint Lucia",
            "Saint Vincent and the Grenadines",
            "Samoa",
            "Sao Tome and Principe",
            "Saudi Arabia",
            "Senegal",
            "Serbia",
            "Seychelles",
            "Sierra Leone",
            "Singapore",
            "Slovakia",
            "Slovenia",
            "Solomon Islands",
            "Somalia",
            "South Africa",
            "South Sudan",
            "Spain",
            "Sri Lanka",
            "Sudan",
            "Suriname",
            "Sweden",
            "Switzerland",
            "Tajikistan",
            "Thailand",
            "Togo",
            "Tonga",
            "Trinidad and Tobago",
            "Tunisia",
            "Turkmenistan",
            "Uganda",
            "Ukraine",
            "United Arab Emirates",
            "Uruguay",
            "Uzbekistan",
            "Vanuatu",
            "Yemen",
            "Zambia",
            "Zimbabwe"
           ],
           "legendgroup": "",
           "marker": {
            "color": "#636efa",
            "symbol": "circle"
           },
           "mode": "markers",
           "name": "",
           "orientation": "v",
           "showlegend": false,
           "type": "scatter",
           "x": {
            "bdata": "i2zn+6nx0j9U46WbxCD6Pylcj8L1KApAL90kBoGV7z/D9Shcj8IZQGq8dJMYBBJAnu+nxks39z956SYxCEwyQJ7vp8ZLNyFAf2q8dJMYCEBzaJHtfD8YQNejcD0K9zdAuB6F61G41j+DwMqhRbYWQFK4HoXrURpAVg4tsp3vJEC28/3UeOn6P2Q730+Nl94/pHA9Ctej9D/+1HjpJjEWQEJg5dAi2wFAyXa+nxovAkDD9Shcj8IZQLByaJHtfL8/7FG4HoXroT+8dJMYBFbWP90kBoGVQ9s/Rrbz/dQ4MEDb+X5qvHSjP5qZmZmZmbk/6SYxCKycEEBQjZduEoMZQHNoke18P/s/sHJoke18zz/ufD81XrrzP1K4HoXrUfo/arx0kxiEE0AxCKwcWmQHQCPb+X5qvBxATmIQWDl0JkB7FK5H4bohQMP1KFyPwuE/WDm0yHa+AEBzaJHtfD8DQN0kBoGVQwJADi2yne+n8D/wp8ZLN4kVQCcxCKwcWsQ/sHJoke18LEBOYhBYObTsP+xRuB6F67E/f2q8dJMY8j9mZmZmZuYnQFg5tMh2vhdAvp8aL90kC0B9PzVeuknMP7ByaJHtfPk/TmIQWDl0JEAQWDm0yHbWP42XbhKDgCFA/Knx0k1iAkB7FK5H4XroP2Q730+Nl84/2/l+arx0wz++nxov3SQEQIGVQ4ts58s/ZDvfT42X7j/Xo3A9CtcUQD81XrpJzCZAL90kBoGV9T/2KFyPwvX8P6jGSzeJQQ1AL90kBoFVIkAEVg4tsp0iQCuHFtnO9xxA8tJNYhBYBkBOYhBYOfQiQJqZmZmZmQZA5/up8dKNLUDjpZvEILDSP3Noke18P+E/ObTIdr7fPkBQjZduEoPyPx1aZDvfTxBAI9v5fmq8D0A9CtejcD3yP2ZmZmZmZsY/2/l+arw0IkB3vp8aL90RQB1aZDvfDzZAGy/dJAaBtT+kcD0K16OwP4cW2c730xtAuB6F61G4BED4U+Olm8TAP30/NV66yRhAWDm0yHa+4z+cxCCwcmgIQMUgsHJoERBAMQisHFpkFEAOLbKd76cOQGIQWDm0yPo/cT0K16NwvT/0/dR46SbRPx+F61G4HvU/ukkMAiuHxj9QjZduEgMgQCGwcmiR7eg/7FG4HoXrsT+WQ4ts5/vlP+xRuB6F6w9AtvP91HipIkCPwvUoXI8yQPhT46WbxOg/AAAAAAAABEAtsp3vp8bjPwAAAAAAAOw/x0s3iUFg9z8GgZVDi2zrP7Kd76fGiyFAAAAAAAAAFEDufD81XnpFQAAAAAAAgBBAeekmMQisrD8CK4cW2c4GQJZDi2zn+/8/ke18PzVe7j8/NV66SQziP5qZmZmZGTZAx0s3iUFg4T+e76fGS7cYQF66SQwCqxJAEoPAyqFFtj89CtejcH0hQNV46SYxiBxAmpmZmZkZIEACK4cW2c7jP5qZmZmZmak/cT0K16OwIUCkcD0K16PAPylcj8L1KBhAAAAAAAAA5D/dJAaBlUPbPz0K16NwPRFADi2yne+nFkCF61G4HgUXQMl2vp8aL9U/6SYxCKwcDEBOYhBYObTYP0a28/3UePE/zczMzMz8QEC28/3UeOkEQBKDwMqhRSVAKVyPwvUovD/y0k1iEFgZQGq8dJMYpDpAke18PzVe/j/y0k1iEFgOQNNNYhBYOeA/jZduEoPA7j8lBoGVQ4vMP/YoXI/C9eQ/",
            "dtype": "f8"
           },
           "xaxis": "x",
           "y": {
            "bdata": "hgMhWcCQSUA/UkSGVeRQQHnMQGX8YVBARpT2Bl9ISUACSG3i5KxQQJdzKa4qk1BANV66SQw2UED/snvysIpRQAKaCBueelFAkbjH0ofaTkAgQfFjzBNQQN/98V61QlBA43DmV3OcTkAuymyQScBQQIXrUbgeIU9ABBxClZpNUUBxGw3gLSRQQCTW4lMAgEpAmfBL/bzVTkBKRs7Cnr5QQJAUkWEVR0lAvqQxWkf5T0CmD11Q30xQQBJOC170mUlAlBPtKqRwSUD3OxQF+oBNQGk1JO6xyEhAzGJi83G1UUAvqG+Z0zlFQJ4Hd2ftRkhAxJRIopcdUUAawFsgQatQQP1qDhDMyVBAQPZ698d7TEDWrZ6T3oNKQNwpHaz/S1FAZ+22C83TUEDiBnx+GP1QQBEZVvFGslFALIL/rWTvUEDNO07RkVpRQCuk/KTaS0tALjnulA4YUEAlr84xIHNQQNY5BmSv105AGqiMf58ZUEDYZI16iNZJQJHVrZ6TUkpAOC140Ve4UEC46c9+pLBEQDXvOEVHektAl8rbEU6/TUBBSBYwgWNRQFgczvxqylFAGvonuFgBS0DuQnOdRjJLQIpZL4Zy2k9AVg4tsp19UUDJ5T+k3ypLQFw9J71vglFAk2+2uTG9T0CXHHdKBwtOQM+goX+Cb0lAK/aX3ZNHSEBv9Zz0vklMQAq/1M+b+jtAxXJLqyEpT0AeM1AZ/3BQQIguqG+Z21FA4syv5gCpTECYF2AfnZpOQONTAIxncE5AFqQZi6aDUUAtlbcjnNpRQJtattYXyVFAw7ZFmQ2kUECns5PBUT5SQLMkQE0tq1BAdmwE4nU5TkDVyoRf6sNKQAfr/xzmw0lA+mGE8GhNUUCfH0YIj9JOQKJdhZSfEFBAKGGm7V9ZUEC0Hykiw7pEQMk88gcDB0pAkx0bgXhrUEB8m/7sRxBQQDdPdcjNnlFANs07TtGJS0DrHAOy18tIQPw1WaMeWFBAknnkDwb+UEAHQrKACaxJQCNKe4MvmlFABDkoYaa1TEAkfzDw3K9PQGe4AZ8fSFBAtRX7y+7hTEAm5IOezYpQQI4G8BZIRE9A12mkpfI6R0Bb07zjFJlMQEYldQKaeEpA2jhiLT75TUCkjSPW4nFRQD7o2az6LFBAEk4LXvTtSUB4YtaLocBJQBe30QDeNlBAvsEXJlOLUUDF/rJ78gRPQANDVrd6PktAZkmAmlreUEDfwyXHnbZLQNu/stKkTlBAgxd9BWneUED9n8N8eclOQJWaPdAKyFBAkpGzsKdVUUAqUmFsIS5QQBb7y+7JW1BAQmDl0CL3S0BenWNA9lxQQOutga0S/E9ATWcng6PETkD9n8N8eeFNQA2Jeyx9GE9AVisTfqlTTEALRiV1AmpQQD86deWz/E9AInGPpQ/hR0BgqwSLwxVSQMxdS8gHn1BA8IXJVMFOUUDK/Q5FgUpMQOOqsu+K9EZAmGn7V1bOSECi0R3EzjBKQGebG9MTwlFAZED2evcLUEDpSC7/Id1MQLu4jQbwUk9A6E1FKozLUUCZR/5g4NdRQIS7s3bbbU5Ay7kUV5XFUEClg/V/DvtJQE6XxcTm709ApI0j1uKrT0DpDmJnCpNQQJ3X2CWqD05AVyb8Uj8PSkDM7snDQhlPQBTLLa2GRlBA8+UF2EfJUEC1GhL3WCpPQAJIbeLkqkxA98d71cpQTUAjhEcbR7hIQCKJXkaxnEZA",
            "dtype": "f8"
           },
           "yaxis": "y"
          }
         ],
         "name": "2010"
        },
        {
         "data": [
          {
           "hovertemplate": "<b>%{hovertext}</b><br><br>year=2015<br>CO₂ per Capita (t/person)=%{x}<br>Healthy Life Expectancy (years)=%{y}<extra></extra>",
           "hovertext": [
            "Afghanistan",
            "Albania",
            "Algeria",
            "Angola",
            "Antigua and Barbuda",
            "Argentina",
            "Armenia",
            "Australia",
            "Austria",
            "Azerbaijan",
            "Bahamas",
            "Bahrain",
            "Bangladesh",
            "Barbados",
            "Belarus",
            "Belgium",
            "Belize",
            "Benin",
            "Bhutan",
            "Bosnia and Herzegovina",
            "Botswana",
            "Brazil",
            "Bulgaria",
            "Burkina Faso",
            "Burundi",
            "Cambodia",
            "Cameroon",
            "Canada",
            "Central African Republic",
            "Chad",
            "Chile",
            "China",
            "Colombia",
            "Comoros",
            "Congo",
            "Costa Rica",
            "Croatia",
            "Cuba",
            "Cyprus",
            "Czechia",
            "Denmark",
            "Djibouti",
            "Dominican Republic",
            "Ecuador",
            "Egypt",
            "El Salvador",
            "Equatorial Guinea",
            "Eritrea",
            "Estonia",
            "Eswatini",
            "Ethiopia",
            "Fiji",
            "Finland",
            "France",
            "Gabon",
            "Gambia",
            "Georgia",
            "Germany",
            "Ghana",
            "Greece",
            "Grenada",
            "Guatemala",
            "Guinea",
            "Guinea-Bissau",
            "Guyana",
            "Haiti",
            "Honduras",
            "Hungary",
            "Iceland",
            "India",
            "Indonesia",
            "Iraq",
            "Ireland",
            "Israel",
            "Italy",
            "Jamaica",
            "Japan",
            "Jordan",
            "Kazakhstan",
            "Kenya",
            "Kiribati",
            "Kuwait",
            "Kyrgyzstan",
            "Latvia",
            "Lebanon",
            "Lesotho",
            "Liberia",
            "Libya",
            "Lithuania",
            "Luxembourg",
            "Madagascar",
            "Malawi",
            "Malaysia",
            "Maldives",
            "Mali",
            "Malta",
            "Mauritania",
            "Mauritius",
            "Mexico",
            "Mongolia",
            "Montenegro",
            "Morocco",
            "Mozambique",
            "Myanmar",
            "Namibia",
            "Nepal",
            "New Zealand",
            "Nicaragua",
            "Niger",
            "Nigeria",
            "North Macedonia",
            "Norway",
            "Oman",
            "Pakistan",
            "Panama",
            "Papua New Guinea",
            "Paraguay",
            "Peru",
            "Philippines",
            "Poland",
            "Portugal",
            "Qatar",
            "Romania",
            "Rwanda",
            "Saint Lucia",
            "Saint Vincent and the Grenadines",
            "Samoa",
            "Sao Tome and Principe",
            "Saudi Arabia",
            "Senegal",
            "Serbia",
            "Seychelles",
            "Sierra Leone",
            "Singapore",
            "Slovakia",
            "Slovenia",
            "Solomon Islands",
            "Somalia",
            "South Africa",
            "South Sudan",
            "Spain",
            "Sri Lanka",
            "Sudan",
            "Suriname",
            "Sweden",
            "Switzerland",
            "Tajikistan",
            "Thailand",
            "Togo",
            "Tonga",
            "Trinidad and Tobago",
            "Tunisia",
            "Turkmenistan",
            "Uganda",
            "Ukraine",
            "United Arab Emirates",
            "Uruguay",
            "Uzbekistan",
            "Vanuatu",
            "Yemen",
            "Zambia",
            "Zimbabwe"
           ],
           "ids": [
            "Afghanistan",
            "Albania",
            "Algeria",
            "Angola",
            "Antigua and Barbuda",
            "Argentina",
            "Armenia",
            "Australia",
            "Austria",
            "Azerbaijan",
            "Bahamas",
            "Bahrain",
            "Bangladesh",
            "Barbados",
            "Belarus",
            "Belgium",
            "Belize",
            "Benin",
            "Bhutan",
            "Bosnia and Herzegovina",
            "Botswana",
            "Brazil",
            "Bulgaria",
            "Burkina Faso",
            "Burundi",
            "Cambodia",
            "Cameroon",
            "Canada",
            "Central African Republic",
            "Chad",
            "Chile",
            "China",
            "Colombia",
            "Comoros",
            "Congo",
            "Costa Rica",
            "Croatia",
            "Cuba",
            "Cyprus",
            "Czechia",
            "Denmark",
            "Djibouti",
            "Dominican Republic",
            "Ecuador",
            "Egypt",
            "El Salvador",
            "Equatorial Guinea",
            "Eritrea",
            "Estonia",
            "Eswatini",
            "Ethiopia",
            "Fiji",
            "Finland",
            "France",
            "Gabon",
            "Gambia",
            "Georgia",
            "Germany",
            "Ghana",
            "Greece",
            "Grenada",
            "Guatemala",
            "Guinea",
            "Guinea-Bissau",
            "Guyana",
            "Haiti",
            "Honduras",
            "Hungary",
            "Iceland",
            "India",
            "Indonesia",
            "Iraq",
            "Ireland",
            "Israel",
            "Italy",
            "Jamaica",
            "Japan",
            "Jordan",
            "Kazakhstan",
            "Kenya",
            "Kiribati",
            "Kuwait",
            "Kyrgyzstan",
            "Latvia",
            "Lebanon",
            "Lesotho",
            "Liberia",
            "Libya",
            "Lithuania",
            "Luxembourg",
            "Madagascar",
            "Malawi",
            "Malaysia",
            "Maldives",
            "Mali",
            "Malta",
            "Mauritania",
            "Mauritius",
            "Mexico",
            "Mongolia",
            "Montenegro",
            "Morocco",
            "Mozambique",
            "Myanmar",
            "Namibia",
            "Nepal",
            "New Zealand",
            "Nicaragua",
            "Niger",
            "Nigeria",
            "North Macedonia",
            "Norway",
            "Oman",
            "Pakistan",
            "Panama",
            "Papua New Guinea",
            "Paraguay",
            "Peru",
            "Philippines",
            "Poland",
            "Portugal",
            "Qatar",
            "Romania",
            "Rwanda",
            "Saint Lucia",
            "Saint Vincent and the Grenadines",
            "Samoa",
            "Sao Tome and Principe",
            "Saudi Arabia",
            "Senegal",
            "Serbia",
            "Seychelles",
            "Sierra Leone",
            "Singapore",
            "Slovakia",
            "Slovenia",
            "Solomon Islands",
            "Somalia",
            "South Africa",
            "South Sudan",
            "Spain",
            "Sri Lanka",
            "Sudan",
            "Suriname",
            "Sweden",
            "Switzerland",
            "Tajikistan",
            "Thailand",
            "Togo",
            "Tonga",
            "Trinidad and Tobago",
            "Tunisia",
            "Turkmenistan",
            "Uganda",
            "Ukraine",
            "United Arab Emirates",
            "Uruguay",
            "Uzbekistan",
            "Vanuatu",
            "Yemen",
            "Zambia",
            "Zimbabwe"
           ],
           "legendgroup": "",
           "marker": {
            "color": "#636efa",
            "symbol": "circle"
           },
           "mode": "markers",
           "name": "",
           "orientation": "v",
           "showlegend": false,
           "type": "scatter",
           "x": {
            "bdata": "5/up8dJN0j9qvHSTGAT6PwAAAAAAABBA3SQGgZVD7z+PwvUoXA8aQKRwPQrXoxFAwcqhRbbz/T+kcD0K18MwQGiR7Xw/tR5AppvEILByDEA5tMh2vh8XQG3n+6nxsjdAtvP91Hjp3j/P91PjpZsTQJhuEoPAyhhAEFg5tMj2IUBiEFg5tMj8P2q8dJMYBN4/CtejcD0KAECwcmiR7fwUQHnpJjEIrANAAAAAAAAABUB3vp8aL90aQEa28/3UeMk//Knx0k1ioD/4U+Olm8TgP4PAyqFFtts/aJHtfD91L0ArhxbZzvejP8/3U+Olm8Q/ObTIdr4fEkDD9Shcj0IcQE5iEFg5tABABFYOLbKdzz8ZBFYOLbLxP2Q730+Nl/g/hetRuB4FEUCkcD0K16MEQKwcWmQ73xZATmIQWDn0I0BOYhBYObQYQK5H4XoUrt8/arx0kxgEAkDn+6nx0k0EQNV46SYxCAJAc2iR7Xw/8T8nMQisHFoTQLbz/dR46cY/NV66SQwCKEBSuB6F61HoPwisHFpkO78/bxKDwMqh9T/hehSuRyEgQAaBlUOLbBRA/Knx0k1iCUD4U+Olm8TQPy/dJAaBlQRA3SQGgZWDI0Coxks3iUHgPxkEVg4tshtAvp8aL90kAkArhxbZzvfvPzm0yHa+n8o/K4cW2c73wz8fhetRuB4FQP7UeOkmMdA/7FG4HoXr8T8730+Nl+4SQGZmZmZmZiVAtvP91Hjp+j9GtvP91HgAQD0K16NwPQ5Anu+nxkt3IEDdJAaBlUMfQEJg5dAi2xdAokW28/3UBkBGtvP91DgjQNEi2/l+agVAxSCwcmjRLkC0yHa+nxrXPxSuR+F6FN4/EoPAyqGlOEBcj8L1KFz7P8dLN4lBYA1AAiuHFtnOD0AK16NwPQrxPzMzMzMzM8M/O99PjZcuI0BqvHSTGAQSQJzEILByaDBA/Knx0k1iwD9U46WbxCCwP57vp8ZLNx5ATDeJQWDlB0AGgZVDi2zHP1pkO99PjQ5A001iEFg56D+q8dJNYhAKQK5H4XoUrg9AfT81XrpJH0BQjZduEoMMQArXo3A9Cvs/qMZLN4lB0D8xCKwcWmTbP+XQItv5fvo/WDm0yHa+zz/wp8ZLNwkfQKjGSzeJQew/0SLb+X5qvD8GgZVDi2zjP7Kd76fGSwtA1XjpJjGIIUAtsp3vpyYwQJMYBFYOLeY/mG4Sg8DKBUCJQWDl0CLnPwaBlUOLbO8/QmDl0CLb+T/LoUW28/3wP39qvHSTWCBA2c73U+MlFEApXI/C9chCQIcW2c73Uw9Ac2iR7Xw/tT/ByqFFtvMFQPCnxks3iQFAarx0kxgE8j9Ei2zn+6nlP2Dl0CLb2TRAmpmZmZmZ5T9MN4lBYGUYQC/dJAaBlRJAg8DKoUW2wz9vEoPAyuEhQHsUrkfhehlA5dAi2/l+GkAdWmQ730/dP1pkO99Pjac/YOXQItt5H0BqvHSTGATGPxkEVg4tMhdAy6FFtvP97D9iEFg5tMjWPylcj8L1qBJA001iEFi5EUAZBFYOLbISQARWDi2yneM/BoGVQ4tsD0C0yHa+nxrPP65H4XoUrvE/VOOlm8TgP0AK16NwPQoGQBkEVg4tsiRAYOXQItv5vj9aZDvfT40TQDEIrBxaBDpANV66SQwCAEBg5dAi2/kKQH0/NV66SeA/IbByaJHt3D8tsp3vp8bTP7gehetRuOo/",
            "dtype": "f8"
           },
           "xaxis": "x",
           "y": {
            "bdata": "jNtoAG9NSkBP6WD9n0FRQOxph78mf1BA/7J78rDUSkCyS1RvDbRQQG2tLxLatlBAHZQw0/Z/UECZZOQs7KNRQCV1ApoImVFAgJpattaLT0AXghyUMAtQQOFFX0Gaj1BAhNOCF33hT0DovMYuUc1QQPLSTWIQRFBAa5p3nKJ/UUASTgte9ENQQOPHmLuWJEtAhj3t8NdMT0Bd/kP67b1QQA4tsp3vY0pAGw3gLZAsUECVDtb/OXpQQD7QCgxZrUpA+mGE8Gj7SkAkKH6MuV9OQGpq2Vpf5ElAzAuwj07JUUBkBirj3xNGQMCV7NgIRElAlSu8y0VcUUCm1ZC4xwBRQDi+9sySElFAahg+IqYYTUC6g9iZQnNLQA2Jeyx9glFAQZ/Ik6T5UECwcmiR7QJRQCDvVSsT6FFAe4MvTKYSUUBBvK5fsKFRQGt9kdCWf0xAO6qaIOqaT0AhzVg0nd9QQNWVz/I8AE9AZQETuHW7T0BlpUkp6HJKQPHXZI16DEtAn47HDFQQUUDp1JXP8nRHQBrAWyBBKU1ACp3X2CXKTUDiHksfuq5RQO3YCMTr7FFAomKcvwklTEDtgVZgyOpLQLvtQnOdDFBAsW1RZoOEUUBfe2ZJgD5MQLecS3FVm1FAU+i8xi7tT0DFOH8TCr1OQNKpK5/lwUlAhIHn3sN1SUDSAN4CCZZMQEGasWg6S0tAUtUEUfepTkBGQlvOpaZQQLml1ZC4+VFA58b0hCWSTUBhVFInoClPQJhuEoPAZk5An3HhQEiqUUB5knTN5PVRQKvnpPeN41FAGXPXEvKlUECPGaiMf2dSQKTH72365VBAN/3ZjxStT0D0FaQZiwpMQCUjZ2FPz0lAEK/rF+yOUUCCqPsApN5PQH/Bbti2cFBAf8Fu2LZqUEAKur2kMdJEQNxoAG+BPEpArvVFQlsWUECZEkn0MlJQQKBsyhXe4VFA+8vuycMmTEDSHcTOFHJLQAdCsoAJclBA4nX9gt1GUUA1Bwjm6H1KQANDVrd61FFAWg2Jeyx5TUASMSWS6AFQQG2QSUbOcFBAk1LQ7SXtTUBbCHJQwqhQQA39E1yspE9AFXR7SWNMSEBA3qtWJshNQP/KSpNSSEtA3xXB/1YWTkDQfqSIDHlRQC6thsQ9SlBArp6T3jcSS0ByxFp8CpBKQD4FwHgGVVBAzeSbbW7OUUCA1CZO7t9PQE6XxcTm40tA8SkAxjMSUUAErcCQ1TVMQGLWi6GcaFBAB1+YTBU2UUC+vAD76PROQJmByvj3AVFAArwFEhSfUUAtIR/0bJxQQHmvWpnwkVBAQiYZOQtvTUBHOC140U9QQDbIJCNnwU9AWK1M+KXyTkCvWpnwS3lOQMPTK2UZmk9AfT81XroVTUDj/E0oRJxQQATKplzh/U9ACyk/qfbZSEBivrwA+0xSQDAqqRPQ6FBAe6AVGLKCUUCfzarP1bJMQIfcDDfgC0hAp5GWytsNS0DZfFwbKoJKQMPwETEl5FFAfgBSmzijUED8AKQ2cXJNQPOrOUAwl09ABcWPMXfbUUBI/mDgue9RQIlBYOXQtk5A9pfdk4cBUUCQgxJm2hpLQPqbUIiA909Abt3NUx1MUEAr+64I/q9QQDCeQUP/3E5AIqtbPSclTEA4FakwtuRPQNCzWfW5XFBAaam8HeHiUEA0SwLU1LpPQEop6PaSrkxAje4gdqYwTUBftTLhl1pKQNqs+lxtlUlA",
            "dtype": "f8"
           },
           "yaxis": "y"
          }
         ],
         "name": "2015"
        },
        {
         "data": [
          {
           "hovertemplate": "<b>%{hovertext}</b><br><br>year=2019<br>CO₂ per Capita (t/person)=%{x}<br>Healthy Life Expectancy (years)=%{y}<extra></extra>",
           "hovertext": [
            "Afghanistan",
            "Albania",
            "Algeria",
            "Angola",
            "Antigua and Barbuda",
            "Argentina",
            "Armenia",
            "Australia",
            "Austria",
            "Azerbaijan",
            "Bahamas",
            "Bahrain",
            "Bangladesh",
            "Barbados",
            "Belarus",
            "Belgium",
            "Belize",
            "Benin",
            "Bhutan",
            "Bosnia and Herzegovina",
            "Botswana",
            "Brazil",
            "Bulgaria",
            "Burkina Faso",
            "Burundi",
            "Cambodia",
            "Cameroon",
            "Canada",
            "Central African Republic",
            "Chad",
            "Chile",
            "China",
            "Colombia",
            "Comoros",
            "Congo",
            "Costa Rica",
            "Croatia",
            "Cuba",
            "Cyprus",
            "Czechia",
            "Denmark",
            "Djibouti",
            "Dominican Republic",
            "Ecuador",
            "Egypt",
            "El Salvador",
            "Equatorial Guinea",
            "Eritrea",
            "Estonia",
            "Eswatini",
            "Ethiopia",
            "Fiji",
            "Finland",
            "France",
            "Gabon",
            "Gambia",
            "Georgia",
            "Germany",
            "Ghana",
            "Greece",
            "Grenada",
            "Guatemala",
            "Guinea",
            "Guinea-Bissau",
            "Guyana",
            "Haiti",
            "Honduras",
            "Hungary",
            "Iceland",
            "India",
            "Indonesia",
            "Iraq",
            "Ireland",
            "Israel",
            "Italy",
            "Jamaica",
            "Japan",
            "Jordan",
            "Kazakhstan",
            "Kenya",
            "Kiribati",
            "Kuwait",
            "Kyrgyzstan",
            "Latvia",
            "Lebanon",
            "Lesotho",
            "Liberia",
            "Libya",
            "Lithuania",
            "Luxembourg",
            "Madagascar",
            "Malawi",
            "Malaysia",
            "Maldives",
            "Mali",
            "Malta",
            "Mauritania",
            "Mauritius",
            "Mexico",
            "Mongolia",
            "Montenegro",
            "Morocco",
            "Mozambique",
            "Myanmar",
            "Namibia",
            "Nepal",
            "New Zealand",
            "Nicaragua",
            "Niger",
            "Nigeria",
            "North Macedonia",
            "Norway",
            "Oman",
            "Pakistan",
            "Panama",
            "Papua New Guinea",
            "Paraguay",
            "Peru",
            "Philippines",
            "Poland",
            "Portugal",
            "Qatar",
            "Romania",
            "Rwanda",
            "Saint Lucia",
            "Saint Vincent and the Grenadines",
            "Samoa",
            "Sao Tome and Principe",
            "Saudi Arabia",
            "Senegal",
            "Serbia",
            "Seychelles",
            "Sierra Leone",
            "Singapore",
            "Slovakia",
            "Slovenia",
            "Solomon Islands",
            "Somalia",
            "South Africa",
            "South Sudan",
            "Spain",
            "Sri Lanka",
            "Sudan",
            "Suriname",
            "Sweden",
            "Switzerland",
            "Tajikistan",
            "Thailand",
            "Togo",
            "Tonga",
            "Trinidad and Tobago",
            "Tunisia",
            "Turkmenistan",
            "Uganda",
            "Ukraine",
            "United Arab Emirates",
            "Uruguay",
            "Uzbekistan",
            "Vanuatu",
            "Yemen",
            "Zambia",
            "Zimbabwe"
           ],
           "ids": [
            "Afghanistan",
            "Albania",
            "Algeria",
            "Angola",
            "Antigua and Barbuda",
            "Argentina",
            "Armenia",
            "Australia",
            "Austria",
            "Azerbaijan",
            "Bahamas",
            "Bahrain",
            "Bangladesh",
            "Barbados",
            "Belarus",
            "Belgium",
            "Belize",
            "Benin",
            "Bhutan",
            "Bosnia and Herzegovina",
            "Botswana",
            "Brazil",
            "Bulgaria",
            "Burkina Faso",
            "Burundi",
            "Cambodia",
            "Cameroon",
            "Canada",
            "Central African Republic",
            "Chad",
            "Chile",
            "China",
            "Colombia",
            "Comoros",
            "Congo",
            "Costa Rica",
            "Croatia",
            "Cuba",
            "Cyprus",
            "Czechia",
            "Denmark",
            "Djibouti",
            "Dominican Republic",
            "Ecuador",
            "Egypt",
            "El Salvador",
            "Equatorial Guinea",
            "Eritrea",
            "Estonia",
            "Eswatini",
            "Ethiopia",
            "Fiji",
            "Finland",
            "France",
            "Gabon",
            "Gambia",
            "Georgia",
            "Germany",
            "Ghana",
            "Greece",
            "Grenada",
            "Guatemala",
            "Guinea",
            "Guinea-Bissau",
            "Guyana",
            "Haiti",
            "Honduras",
            "Hungary",
            "Iceland",
            "India",
            "Indonesia",
            "Iraq",
            "Ireland",
            "Israel",
            "Italy",
            "Jamaica",
            "Japan",
            "Jordan",
            "Kazakhstan",
            "Kenya",
            "Kiribati",
            "Kuwait",
            "Kyrgyzstan",
            "Latvia",
            "Lebanon",
            "Lesotho",
            "Liberia",
            "Libya",
            "Lithuania",
            "Luxembourg",
            "Madagascar",
            "Malawi",
            "Malaysia",
            "Maldives",
            "Mali",
            "Malta",
            "Mauritania",
            "Mauritius",
            "Mexico",
            "Mongolia",
            "Montenegro",
            "Morocco",
            "Mozambique",
            "Myanmar",
            "Namibia",
            "Nepal",
            "New Zealand",
            "Nicaragua",
            "Niger",
            "Nigeria",
            "North Macedonia",
            "Norway",
            "Oman",
            "Pakistan",
            "Panama",
            "Papua New Guinea",
            "Paraguay",
            "Peru",
            "Philippines",
            "Poland",
            "Portugal",
            "Qatar",
            "Romania",
            "Rwanda",
            "Saint Lucia",
            "Saint Vincent and the Grenadines",
            "Samoa",
            "Sao Tome and Principe",
            "Saudi Arabia",
            "Senegal",
            "Serbia",
            "Seychelles",
            "Sierra Leone",
            "Singapore",
            "Slovakia",
            "Slovenia",
            "Solomon Islands",
            "Somalia",
            "South Africa",
            "South Sudan",
            "Spain",
            "Sri Lanka",
            "Sudan",
            "Suriname",
            "Sweden",
            "Switzerland",
            "Tajikistan",
            "Thailand",
            "Togo",
            "Tonga",
            "Trinidad and Tobago",
            "Tunisia",
            "Turkmenistan",
            "Uganda",
            "Ukraine",
            "United Arab Emirates",
            "Uruguay",
            "Uzbekistan",
            "Vanuatu",
            "Yemen",
            "Zambia",
            "Zimbabwe"
           ],
           "legendgroup": "",
           "marker": {
            "color": "#636efa",
            "symbol": "circle"
           },
           "mode": "markers",
           "name": "",
           "orientation": "v",
           "showlegend": false,
           "type": "scatter",
           "x": {
            "bdata": "5/up8dJN0j/4U+Olm8T6Px+F61G4nhBAmG4Sg8DK5T/FILByaBEcQI2XbhKDwA9AHVpkO99PAUA3iUFg5VAwQLTIdr6fmh5Ad76fGi/dDUBmZmZmZmYZQOxRuB6FSzlAZmZmZmZm4j9SuB6F61EUQG3n+6nxUhpAmpmZmZlZIUCHFtnO91P9PzvfT42Xbto/Vg4tsp3vAEDhehSuR+EYQBSuR+F6FAdAqMZLN4lBAkAj2/l+ajwYQPT91HjpJtE/eekmMQisrD8UrkfhehTyP1TjpZvEINg/AiuHFtnOLkBaZDvfT42nP0SLbOf7qcE/RIts5/spE0C0yHa+nxoeQH0/NV66Sf4/8tJNYhBY2T9iEFg5tMj0P6RwPQrXo/g/MQisHFrkEUCq8dJNYhAAQKJFtvP91BZApHA9CtcjI0BiEFg5tEgVQFYOLbKd798/16NwPQrXBEB7FK5H4XoCQHNoke18PwNABoGVQ4ts8z9QjZduEoMKQEa28/3UeMk/EoPAyqGFIkBmZmZmZmbuP99PjZduEsM/g8DKoUW29z9YObTIdr4eQHnpJjEILBNAAiuHFtnOAkDl0CLb+X7SP1YOLbKd7wZAPQrXo3D9IEDNzMzMzMzgP9V46SYxiBhAWDm0yHa+BkCq8dJNYhDyP90kBoGVQ9M/y6FFtvP9xD+yne+nxksLQD81XrpJDNI/PzVeukkM8j9U46WbxCAUQCuHFtnOtyNAf2q8dJMY/j/+1HjpJjEDQEa28/3UeBJAw/UoXI9CHkCamZmZmRkbQGQ730+NlxZADAIrhxbZCkAzMzMzM3MhQFpkO99PjQJAtvP91HipLED4U+Olm8TYP6AaL90kBuE/Vg4tsp1vOEB9PzVeukn2PyuHFtnO9w9Ag8DKoUW2EUCyne+nxkvxP65H4XoUrsc/46WbxCDwJUAEVg4tsp0TQAisHFpkey9A2/l+arx0wz8K16NwPQq3PyPb+X5qvCBADAIrhxZZEEDufD81XrrRP166SQwCKwpAJQaBlUOL8D8fhetRuB4MQGIQWDm0yA1AlkOLbOc7LUAZBFYOLTIQQJHtfD81Xv4/EFg5tMh2zj+mm8QgsHLkPy/dJAaBlfk/I9v5fmq83D+mm8QgsHIdQMP1KFyPwuk/KVyPwvUovD+mm8QgsHLkPx+F61G4HhBAGy/dJAYBIEBYObTIdj4vQM3MzMzMzOw/zczMzMzMCEBkO99PjZfqPyuHFtnO9/M/YhBYObTI/D+4HoXrUbj0Pzm0yHa+nyBAZmZmZmZmEkA9CtejcA1CQJHtfD81Xg9AMQisHFpkuz+amZmZmZkGQClcj8L1KAFAeekmMQis9D9xPQrXo3DlP05iEFg5lDVAd76fGi/d6D8GgZVDi2wZQK5H4XoULhRApHA9CtejwD/wp8ZLN0khQIcW2c730xhA2/l+arz0GkCYbhKDwMrZP3sUrkfheqQ/Di2yne8nH0AX2c73U+PFP28Sg8DKIRVAvHSTGARW7j9mZmZmZmbeP4GVQ4tsZxFALbKd76fGD0A5tMh2vh8RQMl2vp8aL+0/ukkMAiuHD0Dwp8ZLN4nRP2ZmZmZmZvg/16NwPQp3O0Cmm8QgsHIEQFK4HoXrkSJA9P3UeOkmwT9zaJHtfL8TQFYOLbKdbzdA/tR46SYx/j8dWmQ7308KQBSuR+F6FOI/xSCwcmiR1T83iUFg5dDaPxsv3SQGgeU/",
            "dtype": "f8"
           },
           "xaxis": "x",
           "y": {
            "bdata": "L/oK0oz5SkDtnjws1ERRQLA4nPnVmFBA8gcDz71rS0BuizIbZL5QQCpvRzgtyFBA2ubG9ITHUEALtaZ5x7tRQLUaEvdYvFFAuwopP6nST0DtKqT8pBZQQAqA8QwaeFBA1CtlGeISUED3zJIANb9QQOc6jbRUflBAduCcEaWjUUAp6PaSxlJQQN9sc2N6wktAkq6ZfLOtT0ALYwtBDsxQQAwHQrKA8UpA3eo56X1ZUECLcf4mFJJQQArXo3A9bktArfpcbcXKS0DbUDHO38BOQPWEJR5QQktAg0wychbQUUDBVgkWhy9HQGDNAYI5AkpA96+sNCmDUUAyrOKNzCFRQIums5PBPVFA07zjFB15TUAB3gIJih9MQHFyv0NRflFAeZJ0zeQnUUBETIkkevVQQIM0Y9F0GlJAqkiFsYUyUUAniLoPQMJRQGSvd3+8/0xAcOtunur8T0CNYrml1R5RQLn8h/Tbe09AXYqryr43UEDvrN12oe1KQBmQvd793UtA+rMfKSJPUUB6/N6mPwdJQB+6oL5l8k1AnS6Lic3LTUALmMCtu79RQMwolltaBVJAMuauJeTHTEDpK0gzFoVMQDoGZK93K1BAAp8fRgi5UUAFUfcBSP1MQPIk6ZrJt1FA4iNiSiT1T0B0XmOXqCZPQP5g4Ln3qEpAiGNd3EZPSkAna9RDNJ5MQJDaxMn95ktAtvgUAON9T0Dc14FzRsxQQKnZA63A/lFAJsed0sEqTkCfyJOka2pPQGMoJ9pVVE9AZk6XxcTEUUDVlc/yPBhSQFQdcjPc+lFAhSUeUDajUEASa/EpAIZSQIo8Sbpm5lBA+ie4WFE/UECYUSy3tNZMQEnXTL7ZTkpAIc1YNJ2FUUCrIXGPpXFQQMRfkzXqj1BAvYxiuaV9UEBJaMu5FB9GQKIo0CfydEtAK4cW2c5NUEBnmxvTE6xQQBe86CtI41FADvPlBdinTECkwthCkIdMQAQhWcAEalBAeqUsQxx9UUCOzCN/MFBLQPYjRWRY3VFAUiegibDhTUAkufyH9PdPQJGb4QZ8cFBAIxXGFoIkTkCjryDNWL5QQEc4LXjR109AtqFinL8tSUBMT1jiAW1OQAnh0cYRB0xAj8cMVMarTkD+mqxRD49RQNOkFHR7XVBAUHCxogbDS0DY8PRKWTJLQLdFmQ0yiVBAXi7iOzHXUUA6kst/SCtQQDSFzmvsbkxA1lbsL7srUUDgSnZsBIpMQIiAQ6hSc1BACJRNucJfUUAIlE25wv9OQNEF9S1zKlFA6BN5knS9UUDAWyBB8cNQQD9vKlJhtlBAteBFX0EaTkBRa5p3nCxQQDm536Eo/E9AYvNxbagQT0BVavZAK8xOQPBt+rMfAVBAgjl6/N6uTUB4l4v4TrhQQK1M+KV+AFBAfT81Xrp1SkCXytsRTmNSQLgehetRIlFAM4rlllavUUBMw/ARMeFMQLK61XPS20hA5Ga4AZ8TTEAjoS3nUtRKQNoDrcCQBVJAPujZrPrCUEBG09nJ4PRNQO7O2m0XMk9AzqrP1Vb6UUBkO99PjSFSQFQdcjPcAE9AlLw6x4AQUUCVmj3QChhMQD8djxmoAFBA2IFzRpSOUEAiN8MN+LhQQC7KbJBJDk9A0T/BxYoaTUAFxY8xdxNQQN0HILWJf1BAKnReY5fgUEAz/n3GhStQQFJhbCHI6UxADkqYafvDTEAAUps4uTNLQNXsgVZgiEpA",
            "dtype": "f8"
           },
           "yaxis": "y"
          }
         ],
         "name": "2019"
        },
        {
         "data": [
          {
           "hovertemplate": "<b>%{hovertext}</b><br><br>year=2021<br>CO₂ per Capita (t/person)=%{x}<br>Healthy Life Expectancy (years)=%{y}<extra></extra>",
           "hovertext": [
            "Afghanistan",
            "Albania",
            "Algeria",
            "Angola",
            "Antigua and Barbuda",
            "Argentina",
            "Armenia",
            "Australia",
            "Austria",
            "Azerbaijan",
            "Bahamas",
            "Bahrain",
            "Bangladesh",
            "Barbados",
            "Belarus",
            "Belgium",
            "Belize",
            "Benin",
            "Bhutan",
            "Bosnia and Herzegovina",
            "Botswana",
            "Brazil",
            "Bulgaria",
            "Burkina Faso",
            "Burundi",
            "Cambodia",
            "Cameroon",
            "Canada",
            "Central African Republic",
            "Chad",
            "Chile",
            "China",
            "Colombia",
            "Comoros",
            "Congo",
            "Costa Rica",
            "Croatia",
            "Cuba",
            "Cyprus",
            "Czechia",
            "Denmark",
            "Djibouti",
            "Dominican Republic",
            "Ecuador",
            "Egypt",
            "El Salvador",
            "Equatorial Guinea",
            "Eritrea",
            "Estonia",
            "Eswatini",
            "Ethiopia",
            "Fiji",
            "Finland",
            "France",
            "Gabon",
            "Gambia",
            "Georgia",
            "Germany",
            "Ghana",
            "Greece",
            "Grenada",
            "Guatemala",
            "Guinea",
            "Guinea-Bissau",
            "Guyana",
            "Haiti",
            "Honduras",
            "Hungary",
            "Iceland",
            "India",
            "Indonesia",
            "Iraq",
            "Ireland",
            "Israel",
            "Italy",
            "Jamaica",
            "Japan",
            "Jordan",
            "Kazakhstan",
            "Kenya",
            "Kiribati",
            "Kuwait",
            "Kyrgyzstan",
            "Latvia",
            "Lebanon",
            "Lesotho",
            "Liberia",
            "Libya",
            "Lithuania",
            "Luxembourg",
            "Madagascar",
            "Malawi",
            "Malaysia",
            "Maldives",
            "Mali",
            "Malta",
            "Mauritania",
            "Mauritius",
            "Mexico",
            "Mongolia",
            "Montenegro",
            "Morocco",
            "Mozambique",
            "Myanmar",
            "Namibia",
            "Nepal",
            "New Zealand",
            "Nicaragua",
            "Niger",
            "Nigeria",
            "North Macedonia",
            "Norway",
            "Oman",
            "Pakistan",
            "Panama",
            "Papua New Guinea",
            "Paraguay",
            "Peru",
            "Philippines",
            "Poland",
            "Portugal",
            "Qatar",
            "Romania",
            "Rwanda",
            "Saint Lucia",
            "Saint Vincent and the Grenadines",
            "Samoa",
            "Sao Tome and Principe",
            "Saudi Arabia",
            "Senegal",
            "Serbia",
            "Seychelles",
            "Sierra Leone",
            "Singapore",
            "Slovakia",
            "Slovenia",
            "Solomon Islands",
            "Somalia",
            "South Africa",
            "South Sudan",
            "Spain",
            "Sri Lanka",
            "Sudan",
            "Suriname",
            "Sweden",
            "Switzerland",
            "Tajikistan",
            "Thailand",
            "Togo",
            "Tonga",
            "Trinidad and Tobago",
            "Tunisia",
            "Turkmenistan",
            "Uganda",
            "Ukraine",
            "United Arab Emirates",
            "Uruguay",
            "Uzbekistan",
            "Vanuatu",
            "Yemen",
            "Zambia",
            "Zimbabwe"
           ],
           "ids": [
            "Afghanistan",
            "Albania",
            "Algeria",
            "Angola",
            "Antigua and Barbuda",
            "Argentina",
            "Armenia",
            "Australia",
            "Austria",
            "Azerbaijan",
            "Bahamas",
            "Bahrain",
            "Bangladesh",
            "Barbados",
            "Belarus",
            "Belgium",
            "Belize",
            "Benin",
            "Bhutan",
            "Bosnia and Herzegovina",
            "Botswana",
            "Brazil",
            "Bulgaria",
            "Burkina Faso",
            "Burundi",
            "Cambodia",
            "Cameroon",
            "Canada",
            "Central African Republic",
            "Chad",
            "Chile",
            "China",
            "Colombia",
            "Comoros",
            "Congo",
            "Costa Rica",
            "Croatia",
            "Cuba",
            "Cyprus",
            "Czechia",
            "Denmark",
            "Djibouti",
            "Dominican Republic",
            "Ecuador",
            "Egypt",
            "El Salvador",
            "Equatorial Guinea",
            "Eritrea",
            "Estonia",
            "Eswatini",
            "Ethiopia",
            "Fiji",
            "Finland",
            "France",
            "Gabon",
            "Gambia",
            "Georgia",
            "Germany",
            "Ghana",
            "Greece",
            "Grenada",
            "Guatemala",
            "Guinea",
            "Guinea-Bissau",
            "Guyana",
            "Haiti",
            "Honduras",
            "Hungary",
            "Iceland",
            "India",
            "Indonesia",
            "Iraq",
            "Ireland",
            "Israel",
            "Italy",
            "Jamaica",
            "Japan",
            "Jordan",
            "Kazakhstan",
            "Kenya",
            "Kiribati",
            "Kuwait",
            "Kyrgyzstan",
            "Latvia",
            "Lebanon",
            "Lesotho",
            "Liberia",
            "Libya",
            "Lithuania",
            "Luxembourg",
            "Madagascar",
            "Malawi",
            "Malaysia",
            "Maldives",
            "Mali",
            "Malta",
            "Mauritania",
            "Mauritius",
            "Mexico",
            "Mongolia",
            "Montenegro",
            "Morocco",
            "Mozambique",
            "Myanmar",
            "Namibia",
            "Nepal",
            "New Zealand",
            "Nicaragua",
            "Niger",
            "Nigeria",
            "North Macedonia",
            "Norway",
            "Oman",
            "Pakistan",
            "Panama",
            "Papua New Guinea",
            "Paraguay",
            "Peru",
            "Philippines",
            "Poland",
            "Portugal",
            "Qatar",
            "Romania",
            "Rwanda",
            "Saint Lucia",
            "Saint Vincent and the Grenadines",
            "Samoa",
            "Sao Tome and Principe",
            "Saudi Arabia",
            "Senegal",
            "Serbia",
            "Seychelles",
            "Sierra Leone",
            "Singapore",
            "Slovakia",
            "Slovenia",
            "Solomon Islands",
            "Somalia",
            "South Africa",
            "South Sudan",
            "Spain",
            "Sri Lanka",
            "Sudan",
            "Suriname",
            "Sweden",
            "Switzerland",
            "Tajikistan",
            "Thailand",
            "Togo",
            "Tonga",
            "Trinidad and Tobago",
            "Tunisia",
            "Turkmenistan",
            "Uganda",
            "Ukraine",
            "United Arab Emirates",
            "Uruguay",
            "Uzbekistan",
            "Vanuatu",
            "Yemen",
            "Zambia",
            "Zimbabwe"
           ],
           "legendgroup": "",
           "marker": {
            "color": "#636efa",
            "symbol": "circle"
           },
           "mode": "markers",
           "name": "",
           "orientation": "v",
           "showlegend": false,
           "type": "scatter",
           "x": {
            "bdata": "ppvEILBy0D+iRbbz/dT8Pz81XrpJDBBAmG4Sg8DK4T/pJjEIrJwbQKwcWmQ73xBAeekmMQisBEDTTWIQWPktQKJFtvP9VB1AVg4tsp3vDUDl0CLb+f4YQCcxCKwcGjhAJQaBlUOL5D9eukkMAqsQQAwCK4cWWRpAZmZmZmZmIEA3iUFg5dD4P9v5fmq8dNs/EFg5tMh2AECDwMqhRTYaQGq8dJMYBARAarx0kxgEA0CTGARWDq0YQOf7qfHSTdI/uB6F61G4rj++nxov3STyPwwCK4cW2dY/JzEIrBwaLECq8dJNYhCoPzMzMzMzM8M/MzMzMzMzEUBaZDvfTw0gQLByaJHtfP0/sHJoke184z9U46WbxCD0P5MYBFYOLfg/WDm0yHa+EUDTTWIQWDkAQBKDwMqhxRVAtMh2vp9aIkBoke18PzUUQLx0kxgEVt4/kxgEVg4tBkB9PzVeukkBQDeJQWDl0AJAMQisHFpk8z/+1HjpJjEQQJZDi2zn+8k/aJHtfD81H0A3iUFg5dDqP0w3iUFg5cA/H4XrUbge8z9iEFg5tEgbQAAAAAAAgBJABFYOLbKdAkA/NV66SQzSPzvfT42XbgdAuB6F61E4IEDTTWIQWDnkP3Noke18vxVAJzEIrBxaBUAAAAAAAADyP90kBoGVQ9M/i2zn+6nxwj/FILByaJERQC/dJAaBldM/rkfhehSu7z/RItv5fuoTQBSuR+F61CJAqMZLN4lB/j+28/3UeOkBQCUGgZVDiw1Ad76fGi/dHUAxCKwcWmQaQAAAAAAAgBZAg8DKoUW2BEDZzvdT4+UgQNejcD0K1/0/f2q8dJPYKUA3iUFg5dDaP6abxCCwcuA/cT0K16PQNUDTTWIQWDn4P4PAyqFFtg5Ay6FFtvP9CkA9CtejcD34P99PjZduEsM/GQRWDi2yH0CHFtnO99MTQFpkO99PTSpAMzMzMzMzwz+q8dJNYhC4P6wcWmQ73x9AWmQ730+NDkCDwMqhRbbTP/p+arx0kwhAO99PjZdu7j+iRbbz/dQIQDVeukkMAgxAqvHSTWIQKUCLbOf7qfEPQNEi2/l+av4/WDm0yHa+zz/ufD81XrrhP2iR7Xw/NfY/dZMYBFYO4T/hehSuR+EaQPhT46WbxOg/0SLb+X5qvD8tsp3vp8bjPwrXo3A9CgxA8tJNYhBYHkA3iUFg5bAwQI/C9Shcj/A/nMQgsHJoA0CWQ4ts5/vpP0a28/3UePM/tMh2vp8a+T8rhxbZzvfzP/T91HjpZiFAarx0kxgED0BqvHSTGIRCQHWTGARWDhBAWDm0yHa+vz8OLbKd76cGQD0K16NwPQJAke18PzVe8j/P91PjpZvkP7x0kxgENjZA4XoUrkfh5j+q8dJNYpAZQGZmZmZm5hNA16NwPQrXwz83iUFg5RAiQOF6FK5H4RlAnu+nxku3GEBSuB6F61HYPzvfT42XbqI/MzMzMzOzG0Aj2/l+arzEPxkEVg4tMhNA001iEFg58D/FILByaJHdP+kmMQisHBFAeekmMQisDUBWDi2ynW8QQG8Sg8DKoe0/mG4Sg8DKDUDdJAaBlUPTP0w3iUFg5fw/YOXQItt5OEAZBFYOLbIEQBfZzvdT4yFA9P3UeOkmwT9g5dAi2/kSQBBYObTIFjZAppvEILByAkBKDAIrhxYMQDm0yHa+n+Y/jZduEoPA0j+cxCCwcmjZP3npJjEIrOQ/",
            "dtype": "f8"
           },
           "xaxis": "x",
           "y": {
            "bdata": "/Lb/fx45SUAyWgCAB6xQQDW6/58VY1BAITwAAIXhSkAw9P/fdaFQQD3J/9/WMlBA0u7//9kAUED60/+fzqZRQLfe/1+GclFAND0AYLcCUEA+Rv8f9cFOQDiGAOA4D1BA0tcAYI2GT0DU0f/fyapQQCDW/1+T2k9A7Jj//9tyUUBswwBAkOlPQAXG/7+f20tA8yoAAH8zUEAvdwCgFz9QQI/iACBFjUpA7nv/38vpTkCgAAGgxzFPQO/h/3/9R0tAbr3/vwzsS0DWNwCAu1BOQEk4/z/mAEtAJYUAgCZyUUA1owAAabdGQGBrAIDtwUlAfPj/X7/pUEA6aQDAaCVRQJai/19hQVBAuxABQHuCTUBO5/9f+WpLQIBBAOCg6FBA5lUAAF6zUECqCQBgpSdQQJUlACCDr1FAg6H//w6qUECi+v8fpINRQKF9AOAFf0xAkdz/nwHIT0BeBQDg2xVQQMMfAYB8Lk5At8cAwBkZT0BaKAGAz6BKQLhb/59ktktABEkAgGGvUEAXSgDg07tHQIscAWDlaU1Agg0BIGTYTEBjy/+fe3tRQDQ9AGBXhVFAnrH/nyIhTECvuACA2OtLQD8vAIDoPE9As5X/38Q7UUBGVf9f9vBMQJai/19hI1FA3kYAwLyUT0DYGgBga6BNQAep/5+PtkpApUMAoKW5SUBKCgEADWlMQI3/AEDV90pAJJz/H/MFTkBoegDArjVQQL6H//+111FAzML/n8gSTUC15ADgqVVOQJjxAGAGgk5AEoQAIDSAUUDa/f8/e7BRQCK5/z8jpFFA2Zf/nyncTkBUEwDASllSQBktAMBDRFBA6E//f/rGTkDdXf9fyRtNQPFHACAv00pAD7j/3zDyUEDb5gCgTrZPQA5S/z+f4U9ANjf/37ObT0Acjf/fMVFGQBqq//8B+0pAwrkA4EoHT0DXtP+/mQ5QQIQHAKAAz1FA1NH/34mRS0AgvwDAhlVLQAn4AKA0+U9Au6T/HyarUED1kACgUMdKQG8jAGCerVFA/Z8A4FEyTkD1JP9/29BPQBKEACC0t05Awk3/vxWoTkDhpv/faklQQNe0/795K09AJ3///6LbSECN/wBAFeBNQB7cAOBWaUpAwFMAQBkaTkBp9///7H5RQBdKAOBTJ1BAj/n/vxFOSkApYv/fknlLQHEGAEAu209Ahur/f/DJUUC6JwDgh5hPQPlWAGDwcUxACnUA4BKvUEA+sgBAqr1MQK5SAOBmcE5AqaP/v1N+T0DEs/9fR2JNQB9ZACBVYVBA0XEAwDthUUAShAAgNI1QQPrT/59u7E9A8sT/Xy1bTUAx3QBAieFOQEESAGCYcE9AEhj///7ITkDAav/fpThPQAXG/78/aVBAqCYAgJVzTUAiJQFg+O9PQFhcAEAsLlBAqA8B4EiQSkC/7f+fZ2lSQOZVAAA+PFBAe3sAIMFWUUB3MgCg/65MQJO//38xtkdAtmEAIOhgSkAvdwCg10NJQE7n/1/ZxlFAXgUA4JuuUECeHQHAF0VNQNYgAeBuJk5ADjsAoJLHUUDPjgDgi8lRQLhb/5/kik9AcQYAQG5wUEByg/9/rOxLQP4FAYBD5E9Az44A4Ov4TkCrbwAAN8pPQHCJAABwaU5AV3P/37icTEDXnQAgrcZOQJ00AGCE0VBA6bX/Hyw/UEDouwCg761PQFnCAOBdV01At8cAwFk7TEB7D///K3xKQHRm/1/cn0lA",
            "dtype": "f8"
           },
           "yaxis": "y"
          }
         ],
         "name": "2021"
        }
       ],
       "layout": {
        "legend": {
         "tracegroupgap": 0
        },
        "sliders": [
         {
          "active": 0,
          "currentvalue": {
           "prefix": "year="
          },
          "len": 0.9,
          "pad": {
           "b": 10,
           "t": 60
          },
          "steps": [
           {
            "args": [
             [
              "2000"
             ],
             {
              "frame": {
               "duration": 0,
               "redraw": false
              },
              "fromcurrent": true,
              "mode": "immediate",
              "transition": {
               "duration": 0,
               "easing": "linear"
              }
             }
            ],
            "label": "2000",
            "method": "animate"
           },
           {
            "args": [
             [
              "2010"
             ],
             {
              "frame": {
               "duration": 0,
               "redraw": false
              },
              "fromcurrent": true,
              "mode": "immediate",
              "transition": {
               "duration": 0,
               "easing": "linear"
              }
             }
            ],
            "label": "2010",
            "method": "animate"
           },
           {
            "args": [
             [
              "2015"
             ],
             {
              "frame": {
               "duration": 0,
               "redraw": false
              },
              "fromcurrent": true,
              "mode": "immediate",
              "transition": {
               "duration": 0,
               "easing": "linear"
              }
             }
            ],
            "label": "2015",
            "method": "animate"
           },
           {
            "args": [
             [
              "2019"
             ],
             {
              "frame": {
               "duration": 0,
               "redraw": false
              },
              "fromcurrent": true,
              "mode": "immediate",
              "transition": {
               "duration": 0,
               "easing": "linear"
              }
             }
            ],
            "label": "2019",
            "method": "animate"
           },
           {
            "args": [
             [
              "2021"
             ],
             {
              "frame": {
               "duration": 0,
               "redraw": false
              },
              "fromcurrent": true,
              "mode": "immediate",
              "transition": {
               "duration": 0,
               "easing": "linear"
              }
             }
            ],
            "label": "2021",
            "method": "animate"
           }
          ],
          "x": 0.1,
          "xanchor": "left",
          "y": 0,
          "yanchor": "top"
         }
        ],
        "template": {
         "data": {
          "bar": [
           {
            "error_x": {
             "color": "#2a3f5f"
            },
            "error_y": {
             "color": "#2a3f5f"
            },
            "marker": {
             "line": {
              "color": "#E5ECF6",
              "width": 0.5
             },
             "pattern": {
              "fillmode": "overlay",
              "size": 10,
              "solidity": 0.2
             }
            },
            "type": "bar"
           }
          ],
          "barpolar": [
           {
            "marker": {
             "line": {
              "color": "#E5ECF6",
              "width": 0.5
             },
             "pattern": {
              "fillmode": "overlay",
              "size": 10,
              "solidity": 0.2
             }
            },
            "type": "barpolar"
           }
          ],
          "carpet": [
           {
            "aaxis": {
             "endlinecolor": "#2a3f5f",
             "gridcolor": "white",
             "linecolor": "white",
             "minorgridcolor": "white",
             "startlinecolor": "#2a3f5f"
            },
            "baxis": {
             "endlinecolor": "#2a3f5f",
             "gridcolor": "white",
             "linecolor": "white",
             "minorgridcolor": "white",
             "startlinecolor": "#2a3f5f"
            },
            "type": "carpet"
           }
          ],
          "choropleth": [
           {
            "colorbar": {
             "outlinewidth": 0,
             "ticks": ""
            },
            "type": "choropleth"
           }
          ],
          "contour": [
           {
            "colorbar": {
             "outlinewidth": 0,
             "ticks": ""
            },
            "colorscale": [
             [
              0,
              "#0d0887"
             ],
             [
              0.1111111111111111,
              "#46039f"
             ],
             [
              0.2222222222222222,
              "#7201a8"
             ],
             [
              0.3333333333333333,
              "#9c179e"
             ],
             [
              0.4444444444444444,
              "#bd3786"
             ],
             [
              0.5555555555555556,
              "#d8576b"
             ],
             [
              0.6666666666666666,
              "#ed7953"
             ],
             [
              0.7777777777777778,
              "#fb9f3a"
             ],
             [
              0.8888888888888888,
              "#fdca26"
             ],
             [
              1,
              "#f0f921"
             ]
            ],
            "type": "contour"
           }
          ],
          "contourcarpet": [
           {
            "colorbar": {
             "outlinewidth": 0,
             "ticks": ""
            },
            "type": "contourcarpet"
           }
          ],
          "heatmap": [
           {
            "colorbar": {
             "outlinewidth": 0,
             "ticks": ""
            },
            "colorscale": [
             [
              0,
              "#0d0887"
             ],
             [
              0.1111111111111111,
              "#46039f"
             ],
             [
              0.2222222222222222,
              "#7201a8"
             ],
             [
              0.3333333333333333,
              "#9c179e"
             ],
             [
              0.4444444444444444,
              "#bd3786"
             ],
             [
              0.5555555555555556,
              "#d8576b"
             ],
             [
              0.6666666666666666,
              "#ed7953"
             ],
             [
              0.7777777777777778,
              "#fb9f3a"
             ],
             [
              0.8888888888888888,
              "#fdca26"
             ],
             [
              1,
              "#f0f921"
             ]
            ],
            "type": "heatmap"
           }
          ],
          "histogram": [
           {
            "marker": {
             "pattern": {
              "fillmode": "overlay",
              "size": 10,
              "solidity": 0.2
             }
            },
            "type": "histogram"
           }
          ],
          "histogram2d": [
           {
            "colorbar": {
             "outlinewidth": 0,
             "ticks": ""
            },
            "colorscale": [
             [
              0,
              "#0d0887"
             ],
             [
              0.1111111111111111,
              "#46039f"
             ],
             [
              0.2222222222222222,
              "#7201a8"
             ],
             [
              0.3333333333333333,
              "#9c179e"
             ],
             [
              0.4444444444444444,
              "#bd3786"
             ],
             [
              0.5555555555555556,
              "#d8576b"
             ],
             [
              0.6666666666666666,
              "#ed7953"
             ],
             [
              0.7777777777777778,
              "#fb9f3a"
             ],
             [
              0.8888888888888888,
              "#fdca26"
             ],
             [
              1,
              "#f0f921"
             ]
            ],
            "type": "histogram2d"
           }
          ],
          "histogram2dcontour": [
           {
            "colorbar": {
             "outlinewidth": 0,
             "ticks": ""
            },
            "colorscale": [
             [
              0,
              "#0d0887"
             ],
             [
              0.1111111111111111,
              "#46039f"
             ],
             [
              0.2222222222222222,
              "#7201a8"
             ],
             [
              0.3333333333333333,
              "#9c179e"
             ],
             [
              0.4444444444444444,
              "#bd3786"
             ],
             [
              0.5555555555555556,
              "#d8576b"
             ],
             [
              0.6666666666666666,
              "#ed7953"
             ],
             [
              0.7777777777777778,
              "#fb9f3a"
             ],
             [
              0.8888888888888888,
              "#fdca26"
             ],
             [
              1,
              "#f0f921"
             ]
            ],
            "type": "histogram2dcontour"
           }
          ],
          "mesh3d": [
           {
            "colorbar": {
             "outlinewidth": 0,
             "ticks": ""
            },
            "type": "mesh3d"
           }
          ],
          "parcoords": [
           {
            "line": {
             "colorbar": {
              "outlinewidth": 0,
              "ticks": ""
             }
            },
            "type": "parcoords"
           }
          ],
          "pie": [
           {
            "automargin": true,
            "type": "pie"
           }
          ],
          "scatter": [
           {
            "fillpattern": {
             "fillmode": "overlay",
             "size": 10,
             "solidity": 0.2
            },
            "type": "scatter"
           }
          ],
          "scatter3d": [
           {
            "line": {
             "colorbar": {
              "outlinewidth": 0,
              "ticks": ""
             }
            },
            "marker": {
             "colorbar": {
              "outlinewidth": 0,
              "ticks": ""
             }
            },
            "type": "scatter3d"
           }
          ],
          "scattercarpet": [
           {
            "marker": {
             "colorbar": {
              "outlinewidth": 0,
              "ticks": ""
             }
            },
            "type": "scattercarpet"
           }
          ],
          "scattergeo": [
           {
            "marker": {
             "colorbar": {
              "outlinewidth": 0,
              "ticks": ""
             }
            },
            "type": "scattergeo"
           }
          ],
          "scattergl": [
           {
            "marker": {
             "colorbar": {
              "outlinewidth": 0,
              "ticks": ""
             }
            },
            "type": "scattergl"
           }
          ],
          "scattermap": [
           {
            "marker": {
             "colorbar": {
              "outlinewidth": 0,
              "ticks": ""
             }
            },
            "type": "scattermap"
           }
          ],
          "scattermapbox": [
           {
            "marker": {
             "colorbar": {
              "outlinewidth": 0,
              "ticks": ""
             }
            },
            "type": "scattermapbox"
           }
          ],
          "scatterpolar": [
           {
            "marker": {
             "colorbar": {
              "outlinewidth": 0,
              "ticks": ""
             }
            },
            "type": "scatterpolar"
           }
          ],
          "scatterpolargl": [
           {
            "marker": {
             "colorbar": {
              "outlinewidth": 0,
              "ticks": ""
             }
            },
            "type": "scatterpolargl"
           }
          ],
          "scatterternary": [
           {
            "marker": {
             "colorbar": {
              "outlinewidth": 0,
              "ticks": ""
             }
            },
            "type": "scatterternary"
           }
          ],
          "surface": [
           {
            "colorbar": {
             "outlinewidth": 0,
             "ticks": ""
            },
            "colorscale": [
             [
              0,
              "#0d0887"
             ],
             [
              0.1111111111111111,
              "#46039f"
             ],
             [
              0.2222222222222222,
              "#7201a8"
             ],
             [
              0.3333333333333333,
              "#9c179e"
             ],
             [
              0.4444444444444444,
              "#bd3786"
             ],
             [
              0.5555555555555556,
              "#d8576b"
             ],
             [
              0.6666666666666666,
              "#ed7953"
             ],
             [
              0.7777777777777778,
              "#fb9f3a"
             ],
             [
              0.8888888888888888,
              "#fdca26"
             ],
             [
              1,
              "#f0f921"
             ]
            ],
            "type": "surface"
           }
          ],
          "table": [
           {
            "cells": {
             "fill": {
              "color": "#EBF0F8"
             },
             "line": {
              "color": "white"
             }
            },
            "header": {
             "fill": {
              "color": "#C8D4E3"
             },
             "line": {
              "color": "white"
             }
            },
            "type": "table"
           }
          ]
         },
         "layout": {
          "annotationdefaults": {
           "arrowcolor": "#2a3f5f",
           "arrowhead": 0,
           "arrowwidth": 1
          },
          "autotypenumbers": "strict",
          "coloraxis": {
           "colorbar": {
            "outlinewidth": 0,
            "ticks": ""
           }
          },
          "colorscale": {
           "diverging": [
            [
             0,
             "#8e0152"
            ],
            [
             0.1,
             "#c51b7d"
            ],
            [
             0.2,
             "#de77ae"
            ],
            [
             0.3,
             "#f1b6da"
            ],
            [
             0.4,
             "#fde0ef"
            ],
            [
             0.5,
             "#f7f7f7"
            ],
            [
             0.6,
             "#e6f5d0"
            ],
            [
             0.7,
             "#b8e186"
            ],
            [
             0.8,
             "#7fbc41"
            ],
            [
             0.9,
             "#4d9221"
            ],
            [
             1,
             "#276419"
            ]
           ],
           "sequential": [
            [
             0,
             "#0d0887"
            ],
            [
             0.1111111111111111,
             "#46039f"
            ],
            [
             0.2222222222222222,
             "#7201a8"
            ],
            [
             0.3333333333333333,
             "#9c179e"
            ],
            [
             0.4444444444444444,
             "#bd3786"
            ],
            [
             0.5555555555555556,
             "#d8576b"
            ],
            [
             0.6666666666666666,
             "#ed7953"
            ],
            [
             0.7777777777777778,
             "#fb9f3a"
            ],
            [
             0.8888888888888888,
             "#fdca26"
            ],
            [
             1,
             "#f0f921"
            ]
           ],
           "sequentialminus": [
            [
             0,
             "#0d0887"
            ],
            [
             0.1111111111111111,
             "#46039f"
            ],
            [
             0.2222222222222222,
             "#7201a8"
            ],
            [
             0.3333333333333333,
             "#9c179e"
            ],
            [
             0.4444444444444444,
             "#bd3786"
            ],
            [
             0.5555555555555556,
             "#d8576b"
            ],
            [
             0.6666666666666666,
             "#ed7953"
            ],
            [
             0.7777777777777778,
             "#fb9f3a"
            ],
            [
             0.8888888888888888,
             "#fdca26"
            ],
            [
             1,
             "#f0f921"
            ]
           ]
          },
          "colorway": [
           "#636efa",
           "#EF553B",
           "#00cc96",
           "#ab63fa",
           "#FFA15A",
           "#19d3f3",
           "#FF6692",
           "#B6E880",
           "#FF97FF",
           "#FECB52"
          ],
          "font": {
           "color": "#2a3f5f"
          },
          "geo": {
           "bgcolor": "white",
           "lakecolor": "white",
           "landcolor": "#E5ECF6",
           "showlakes": true,
           "showland": true,
           "subunitcolor": "white"
          },
          "hoverlabel": {
           "align": "left"
          },
          "hovermode": "closest",
          "mapbox": {
           "style": "light"
          },
          "paper_bgcolor": "white",
          "plot_bgcolor": "#E5ECF6",
          "polar": {
           "angularaxis": {
            "gridcolor": "white",
            "linecolor": "white",
            "ticks": ""
           },
           "bgcolor": "#E5ECF6",
           "radialaxis": {
            "gridcolor": "white",
            "linecolor": "white",
            "ticks": ""
           }
          },
          "scene": {
           "xaxis": {
            "backgroundcolor": "#E5ECF6",
            "gridcolor": "white",
            "gridwidth": 2,
            "linecolor": "white",
            "showbackground": true,
            "ticks": "",
            "zerolinecolor": "white"
           },
           "yaxis": {
            "backgroundcolor": "#E5ECF6",
            "gridcolor": "white",
            "gridwidth": 2,
            "linecolor": "white",
            "showbackground": true,
            "ticks": "",
            "zerolinecolor": "white"
           },
           "zaxis": {
            "backgroundcolor": "#E5ECF6",
            "gridcolor": "white",
            "gridwidth": 2,
            "linecolor": "white",
            "showbackground": true,
            "ticks": "",
            "zerolinecolor": "white"
           }
          },
          "shapedefaults": {
           "line": {
            "color": "#2a3f5f"
           }
          },
          "ternary": {
           "aaxis": {
            "gridcolor": "white",
            "linecolor": "white",
            "ticks": ""
           },
           "baxis": {
            "gridcolor": "white",
            "linecolor": "white",
            "ticks": ""
           },
           "bgcolor": "#E5ECF6",
           "caxis": {
            "gridcolor": "white",
            "linecolor": "white",
            "ticks": ""
           }
          },
          "title": {
           "x": 0.05
          },
          "xaxis": {
           "automargin": true,
           "gridcolor": "white",
           "linecolor": "white",
           "ticks": "",
           "title": {
            "standoff": 15
           },
           "zerolinecolor": "white",
           "zerolinewidth": 2
          },
          "yaxis": {
           "automargin": true,
           "gridcolor": "white",
           "linecolor": "white",
           "ticks": "",
           "title": {
            "standoff": 15
           },
           "zerolinecolor": "white",
           "zerolinewidth": 2
          }
         }
        },
        "title": {
         "text": "Emissions vs Healthy Life Expectancy (2000–2021)"
        },
        "updatemenus": [
         {
          "buttons": [
           {
            "args": [
             null,
             {
              "frame": {
               "duration": 500,
               "redraw": false
              },
              "fromcurrent": true,
              "mode": "immediate",
              "transition": {
               "duration": 500,
               "easing": "linear"
              }
             }
            ],
            "label": "&#9654;",
            "method": "animate"
           },
           {
            "args": [
             [
              null
             ],
             {
              "frame": {
               "duration": 0,
               "redraw": false
              },
              "fromcurrent": true,
              "mode": "immediate",
              "transition": {
               "duration": 0,
               "easing": "linear"
              }
             }
            ],
            "label": "&#9724;",
            "method": "animate"
           }
          ],
          "direction": "left",
          "pad": {
           "r": 10,
           "t": 70
          },
          "showactive": false,
          "type": "buttons",
          "x": 0.1,
          "xanchor": "right",
          "y": 0,
          "yanchor": "top"
         }
        ],
        "xaxis": {
         "anchor": "y",
         "domain": [
          0,
          1
         ],
         "range": [
          0,
          35
         ],
         "title": {
          "text": "CO₂ per Capita (t/person)"
         }
        },
        "yaxis": {
         "anchor": "x",
         "domain": [
          0,
          1
         ],
         "range": [
          40,
          85
         ],
         "title": {
          "text": "Healthy Life Expectancy (years)"
         }
        }
       }
      }
     },
     "metadata": {},
     "output_type": "display_data"
    }
   ],
   "source": [
    "import plotly.express as px\n",
    "\n",
    "# Interactive scatter with animation over years\n",
    "fig = px.scatter(\n",
    "    merged_df, \n",
    "    x='co2_per_capita', \n",
    "    y='healthy_life_expectancy_at_birth',\n",
    "    animation_frame='year', \n",
    "    animation_group='country',\n",
    "    hover_name='country',\n",
    "    range_x=[0, 35], \n",
    "    range_y=[40, 85],\n",
    "    labels={\n",
    "        'co2_per_capita': 'CO₂ per Capita (t/person)',\n",
    "        'healthy_life_expectancy_at_birth': 'Healthy Life Expectancy (years)'\n",
    "    },\n",
    "    title='Emissions vs Healthy Life Expectancy (2000–2021)'\n",
    ")\n",
    "\n",
    "fig.show()\n"
   ]
  }
 ],
 "metadata": {
  "kernelspec": {
   "display_name": "base",
   "language": "python",
   "name": "python3"
  },
  "language_info": {
   "codemirror_mode": {
    "name": "ipython",
    "version": 3
   },
   "file_extension": ".py",
   "mimetype": "text/x-python",
   "name": "python",
   "nbconvert_exporter": "python",
   "pygments_lexer": "ipython3",
   "version": "3.12.3"
  }
 },
 "nbformat": 4,
 "nbformat_minor": 5
}
