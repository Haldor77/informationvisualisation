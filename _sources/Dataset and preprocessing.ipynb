{
 "cells": [
  {
   "cell_type": "markdown",
   "id": "ad30e801",
   "metadata": {},
   "source": [
    "# Dataset and Preprocessing\n",
    "\n",
    "At first, our team agreed that each member would identify at least one dataset with rich enough variables to yield multiple analytical perspectives. During our kickoff meeting, we evaluated several sources and discussed potential correlations. Ultimately, we selected the **Our World in Data CO₂ Emissions** and **WHO Healthy Life Expectancy (HALE)** datasets, spanning the years **2000 through 2021**, because they align perfectly with our main research question:\n",
    "\n",
    "> **How do national CO₂ emissions relate to healthy life expectancy across countries and over time?**\n",
    "\n",
    "These datasets provide a complementary view—environmental impact vs. population health—and include consistent identifiers (`iso_code`, `country`, `year`) for reliable merging."
   ]
  },
  {
   "cell_type": "markdown",
   "id": "17edd9bd",
   "metadata": {},
   "source": [
    "## Cleaning\n",
    "\n",
    "Both OWID and WHO datasets undergo periodic schema changes (column renames, extra metadata). We adopted a **two-phase cleaning process**:\n",
    "\n",
    "1. **Rename & restructure**  \n",
    "   - Standardize column names:\n",
    "     - `Country` → `country`\n",
    "     - `Year` → `year`\n",
    "     - `Healthy_life_expectancy_at_birth` → `healthy_life_expectancy`\n",
    "   - Select only the necessary fields:\n",
    "     - CO₂: `iso_code`, `country`, `year`, `co2_per_capita`, `cumulative_co2`\n",
    "     - HALE: `country`, `year`, `healthy_life_expectancy`\n",
    "\n",
    "2. **Filter & normalize**  \n",
    "   - Retain five **reference years**: 2000, 2010, 2015, 2019, 2021.\n",
    "   - Exclude aggregate regions (e.g., “World”, “Asia”, “European Union (27)”) to focus on individual countries.\n",
    "   - Normalize inconsistent country names via ISO codes where needed.\n",
    "\n",
    "To optimize performance and storage, we save the final cleaned dataset as a **Parquet** file with Gzip compression, reducing file size significantly."
   ]
  },
  {
   "cell_type": "markdown",
   "id": "2d56179c",
   "metadata": {},
   "source": [
    "## Variable Descriptions\n",
    "\n",
    "In the cleaned dataset:\n",
    "\n",
    "- **Continuous / Ratio variables:**\n",
    "  - `co2_per_capita`: Tonnes of CO₂ per person, per year\n",
    "  - `cumulative_co2`: Total tonnes of CO₂ emitted up to that year\n",
    "  - `healthy_life_expectancy`: Expected years of life in full health\n",
    "\n",
    "- **Categorical / Discrete variables:**\n",
    "  - `country`: Country name\n",
    "  - `year`: Reference year (integer)\n",
    "\n",
    "These fields form the core of our analysis."
   ]
  },
  {
   "cell_type": "markdown",
   "id": "ae90b8d8",
   "metadata": {},
   "source": [
    "## Custom Aggregation: CO₂ Intensity per Healthy Year\n",
    "\n",
    "To relate emissions directly to health outcomes, we define:\n",
    "\n",
    "$$\n",
    "\\textrm{CO2Intensity}\n",
    "=\n",
    "\\frac{\\textrm{co2_per_capita}}\n",
    "     {\\textrm{healthy_life_expectancy}}\n",
    "$$\n",
    "\n",
    "\n",
    "This indicates how many tonnes of CO₂ are emitted for each expected year of healthy life.\n",
    "\n",
    "**Example:**\n",
    "- `co2_per_capita = 8.0` tonnes  \n",
    "- `healthy_life_expectancy = 72.0` years  \n",
    "- CO₂ Intensity ≈ 0.11 t CO₂ per healthy year  \n",
    "\n",
    "\n",
    "\n",
    "**Example:**  \n",
    "- `co2_per_capita = 8.0` tonnes  \n",
    "- `healthy_life_expectancy = 72.0` years  \n",
    "- CO₂ Intensity ≈ 0.11 t CO₂ per healthy year"
   ]
  },
  {
   "cell_type": "code",
   "execution_count": null,
   "id": "23ada42e",
   "metadata": {},
   "outputs": [],
   "source": [
    "import pandas as pd\n",
    "\n",
    "# 1. Load datasets\n",
    "co2 = pd.read_csv('owid-co2-data.csv')\n",
    "hale = pd.read_csv('C64284D_ALL_LATEST.csv')\n",
    "\n",
    "# 2. Select years & fields\n",
    "years = [2000, 2010, 2015, 2019, 2021]\n",
    "co2_sel = co2[co2['year'].isin(years)][['iso_code','country','year','co2_per_capita','cumulative_co2']].copy()\n",
    "hale_sel = (hale[hale['Year'].isin(years)]\n",
    "            [['Country','Year','Healthy_life_expectancy_at_birth']]\n",
    "            .rename(columns={'Country':'country','Year':'year','Healthy_life_expectancy_at_birth':'healthy_life_expectancy'})\n",
    "            .copy())\n",
    "\n",
    "# 3. Exclude aggregates\n",
    "aggregates = ['World','Asia','Europe','Africa','North America','South America','Oceania','European Union (27)']\n",
    "co2_clean = co2_sel[~co2_sel['country'].isin(aggregates)]\n",
    "hale_clean = hale_sel[~hale_sel['country'].isin(aggregates)]\n",
    "\n",
    "# 4. Merge and clean\n",
    "merged_df = pd.merge(co2_clean, hale_clean, on=['country','year'], how='inner').dropna()\n",
    "\n",
    "# 5. Calculate CO₂ Intensity\n",
    "merged_df['co2_intensity'] = merged_df['co2_per_capita'] / merged_df['healthy_life_expectancy']\n",
    "\n",
    "# 6. Inspect\n",
    "merged_df.head()"
   ]
  }
 ],
 "metadata": {
  "kernelspec": {
   "display_name": "base",
   "language": "python",
   "name": "python3"
  },
  "language_info": {
   "codemirror_mode": {
    "name": "ipython",
    "version": 3
   },
   "file_extension": ".py",
   "mimetype": "text/x-python",
   "name": "python",
   "nbconvert_exporter": "python",
   "pygments_lexer": "ipython3",
   "version": "3.12.3"
  }
 },
 "nbformat": 4,
 "nbformat_minor": 5
}
