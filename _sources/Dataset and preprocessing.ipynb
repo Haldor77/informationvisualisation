{
 "cells": [
  {
   "cell_type": "markdown",
   "metadata": {},
   "source": [
    "# Dataset and Preprocessing\n",
    "At the start of our project, we explored several global datasets that could help us investigate the relationship between CO₂ emissions and human health. In the end, we combined two powerful sources:\n",
    "CO₂ Emissions Dataset (Our World in Data)\n",
    "\n",
    " This dataset contains country-year data on various CO₂ indicators, including:\n",
    "\n",
    "\n",
    "- co2_per_capita: annual CO₂ emissions per person (in tonnes)\n",
    "\n",
    "\n",
    "- cumulative_co2: total CO₂ emitted by a country up to that year\n",
    "\n",
    "\n",
    "- iso_code and year for alignment and filtering\n",
    "\n",
    "\n",
    "- Healthy Life Expectancy Dataset (WHO)\n",
    "\n",
    " This dataset provides country-level values for healthy life expectancy at birth (HALE), defined as the average number of years a person is expected to live in full health, accounting for disease and disability. We use the variable:\n",
    "\n",
    "\n",
    "healthy_life_expectancy_at_birth (in years, both sexes combined)\n",
    "\n",
    "\n",
    "# Cleaning and merging\n",
    "Both datasets span multiple decades. For our analysis, we selected five key reference years: 2000, 2010, 2015, 2019, and 2021. These allow us to examine long-term patterns, including changes before and after the COVID-19 pandemic.\n",
    "We then performed several preprocessing steps:\n",
    "Filtering Years: We retained only the selected years from both datasets.\n",
    "\n",
    "\n",
    "**Selecting Indicators:** We kept only the relevant columns.\n",
    "\n",
    "\n",
    "**Cleaning:** Aggregated entries (like “World” or “Asia”) were excluded. Country name mismatches were resolved using ISO codes.\n",
    "\n",
    "\n",
    "**Joining:** The datasets were merged on country and year.\n",
    "\n",
    "\n",
    "**Dropping NA:** Rows with missing values in the variables of interest were removed.\n",
    "\n",
    "\n",
    "\n",
    "\n",
    "Below is a Python snippet illustrating the full cleaning and merge process:\n",
    "\n",
    "\n",
    "After merging, merged_df contains for each country and selected year:\n",
    "Annual CO₂ emissions per person\n",
    "\n",
    "\n",
    "Cumulative CO₂ emissions\n",
    "\n",
    "\n",
    "Healthy life expectancy at birth\n",
    "\n",
    "\n",
    "This cleaned dataset forms the foundation of our visual analysis in the following sections.\n"
   ]
  }
 ],
 "metadata": {
  "kernelspec": {
   "display_name": "base",
   "language": "python",
   "name": "python3"
  },
  "language_info": {
   "codemirror_mode": {
    "name": "ipython",
    "version": 3
   },
   "file_extension": ".py",
   "mimetype": "text/x-python",
   "name": "python",
   "nbconvert_exporter": "python",
   "pygments_lexer": "ipython3",
   "version": "3.12.3"
  },
  "widgets": {
   "application/vnd.jupyter.widget-state+json": {
    "state": {},
    "version_major": 2,
    "version_minor": 0
   }
  }
 },
 "nbformat": 4,
 "nbformat_minor": 4
}
