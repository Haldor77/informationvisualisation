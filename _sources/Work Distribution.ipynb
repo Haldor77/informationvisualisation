{
 "cells": [
  {
   "cell_type": "markdown",
   "metadata": {},
   "source": [
    "# Work distribution"
   ]
  },
  {
   "cell_type": "markdown",
   "metadata": {},
   "source": [
    "Our method of communication during this project consisted of attending tutorials, regular meetings, and additional consultation over text. In our first meeting, we got together and chose two datasets along with at two different perspectives, and chose the research question, the CO₂ Emissions (Our World in Data) and Healthy Life Expectancy (WHO) datasets for 2000–2021, and the two analytical perspectives. Our first step after determining the subject was to clean each dataset separately—standardising column names, normalising date formats, and handling missing values (for more information, see Dataset and Preprocessing). We then discussed which charts would best support our perspectives: part of the group selected and refined the graphs, another part developed the data story around those visuals, and someone else built the website framework and integrated the interactive visualisations. We began making the graphs and crafting the narrative that formed our draft version. We used the remaining time to polish both our visuals and storyline, adjusting chart scales, refining labels and annotations, and smoothing the overall storylin before integrating peer feedback into the final data story.\n",
    "\n",
    "\n",
    "\n",
    "\n",
    "\n",
    "\n",
    "\n",
    "\n",
    "\n"
   ]
  },
  {
   "cell_type": "markdown",
   "metadata": {},
   "source": [
    "# Haldor\n",
    "Haldor developed the website framework and  integrated our interactive visualizations primarily using Plotly. He optimized the site’s layout for an intuitive user experience, enhanced chart interactivity, and made text elements better such as graph descriptions and narrative passages. Throughout the project, he also contributed to creating the graphs thinking about the different perspectives and the arguments."
   ]
  }
 ],
 "metadata": {
  "kernelspec": {
   "display_name": "base",
   "language": "python",
   "name": "python3"
  },
  "language_info": {
   "codemirror_mode": {
    "name": "ipython",
    "version": 3
   },
   "file_extension": ".py",
   "mimetype": "text/x-python",
   "name": "python",
   "nbconvert_exporter": "python",
   "pygments_lexer": "ipython3",
   "version": "3.12.3"
  },
  "widgets": {
   "application/vnd.jupyter.widget-state+json": {
    "state": {},
    "version_major": 2,
    "version_minor": 0
   }
  }
 },
 "nbformat": 4,
 "nbformat_minor": 4
}
